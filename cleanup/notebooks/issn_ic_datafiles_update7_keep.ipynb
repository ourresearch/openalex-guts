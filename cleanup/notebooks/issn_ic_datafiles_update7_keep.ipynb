{
 "cells": [
  {
   "cell_type": "markdown",
   "metadata": {},
   "source": [
    "# update7 - TBD"
   ]
  },
  {
   "cell_type": "code",
   "execution_count": 1,
   "metadata": {},
   "outputs": [],
   "source": [
    "import sys"
   ]
  },
  {
   "cell_type": "code",
   "execution_count": 2,
   "metadata": {},
   "outputs": [],
   "source": [
    "sys.path.append('../..')"
   ]
  },
  {
   "cell_type": "code",
   "execution_count": 3,
   "metadata": {},
   "outputs": [],
   "source": [
    "from datetime import datetime, timezone\n",
    "import json\n",
    "from tqdm import tqdm\n",
    "from pathlib import Path\n",
    "import gzip\n",
    "import pickle"
   ]
  },
  {
   "cell_type": "code",
   "execution_count": 4,
   "metadata": {},
   "outputs": [],
   "source": [
    "import pandas as pd\n",
    "import numpy as np"
   ]
  },
  {
   "cell_type": "code",
   "execution_count": 5,
   "metadata": {},
   "outputs": [],
   "source": [
    "import rapidfuzz"
   ]
  },
  {
   "cell_type": "code",
   "execution_count": 6,
   "metadata": {},
   "outputs": [
    {
     "name": "stdout",
     "output_type": "stream",
     "text": [
      "140200128323968: loading merged_into_institutions_dict\n",
      "140200128323968: loading valid concept IDs\n",
      "140200128323968: loading valid topic IDs\n",
      "140200128323968: loading valid keyword IDs\n"
     ]
    }
   ],
   "source": [
    "from app import db\n",
    "from models import Source, ISSNtoISSNL\n",
    "from models.source import DELETED_SOURCE_ID\n",
    "from sqlalchemy import text\n",
    "from sqlalchemy.orm import Load\n",
    "from sqlalchemy.exc import MultipleResultsFound"
   ]
  },
  {
   "cell_type": "code",
   "execution_count": 7,
   "metadata": {},
   "outputs": [],
   "source": [
    "from cleanup.util import make_request, paginate_openalex\n"
   ]
  },
  {
   "cell_type": "code",
   "execution_count": null,
   "metadata": {},
   "outputs": [],
   "source": []
  },
  {
   "cell_type": "code",
   "execution_count": 8,
   "metadata": {},
   "outputs": [
    {
     "name": "stdout",
     "output_type": "stream",
     "text": [
      "CPU times: user 679 ms, sys: 91.9 ms, total: 771 ms\n",
      "Wall time: 1.78 s\n"
     ]
    }
   ],
   "source": [
    "%%time\n",
    "sq = \"\"\"select if.*, ife.cluster_title from issn_audit_20240321.issn_ic_datafile_202402 if\n",
    "left join issn_audit_20240321.issn_ic_datafile_expanded_202402 ife\n",
    "  on if.\"submitted_1348-0278\"  = ife.issns;\"\"\"\n",
    "df_issnl_file = pd.read_sql_query(sq, db.engine)"
   ]
  },
  {
   "cell_type": "code",
   "execution_count": 9,
   "metadata": {},
   "outputs": [],
   "source": [
    "df_issnl_file = df_issnl_file.rename(columns={\"submitted_1348-0278\": \"submitted_issn\"})"
   ]
  },
  {
   "cell_type": "code",
   "execution_count": 10,
   "metadata": {},
   "outputs": [
    {
     "name": "stdout",
     "output_type": "stream",
     "text": [
      "CPU times: user 1.02 s, sys: 42 ms, total: 1.06 s\n",
      "Wall time: 2.47 s\n"
     ]
    }
   ],
   "source": [
    "%%time\n",
    "sq = \"\"\"select journal_id, display_name, issn, issns, issns_text_array, type, country_code, alternate_titles, publisher_id\n",
    "    from mid.journal\n",
    "    where merge_into_id is null\n",
    "    and issn is not null\"\"\"\n",
    "df_midjournal = pd.read_sql_query(sq, db.engine)"
   ]
  },
  {
   "cell_type": "code",
   "execution_count": 11,
   "metadata": {},
   "outputs": [
    {
     "name": "stdout",
     "output_type": "stream",
     "text": [
      "139932\n",
      "139932\n"
     ]
    }
   ],
   "source": [
    "print(len(df_midjournal))\n",
    "df_midjournal.dropna(subset='issn', inplace=True)\n",
    "print(len(df_midjournal))"
   ]
  },
  {
   "cell_type": "markdown",
   "metadata": {},
   "source": [
    "Are there duplicate ISSN-Ls in `mid.journal`?"
   ]
  },
  {
   "cell_type": "code",
   "execution_count": 12,
   "metadata": {},
   "outputs": [
    {
     "name": "stdout",
     "output_type": "stream",
     "text": [
      "There are 0 duplicates\n"
     ]
    }
   ],
   "source": [
    "num_duplicates = df_midjournal['issn'].duplicated().sum()\n",
    "print(f\"There are {num_duplicates} duplicates\")"
   ]
  },
  {
   "cell_type": "markdown",
   "metadata": {},
   "source": [
    ":party:"
   ]
  },
  {
   "cell_type": "markdown",
   "metadata": {},
   "source": [
    "Does every ISSN-L in `mid.journal` have the same ISSN as the first item in the ISSN list?"
   ]
  },
  {
   "cell_type": "code",
   "execution_count": 13,
   "metadata": {},
   "outputs": [
    {
     "name": "stdout",
     "output_type": "stream",
     "text": [
      "CPU times: user 1.32 s, sys: 0 ns, total: 1.32 s\n",
      "Wall time: 1.32 s\n"
     ]
    }
   ],
   "source": [
    "%%time\n",
    "\n",
    "def _is_first_in_issns(row):\n",
    "    issnl = row['issn']\n",
    "    issn_list = json.loads(row['issns'])\n",
    "    return issnl == issn_list[0]\n",
    "\n",
    "def _is_first_in_issns_text_array(row):\n",
    "    issnl = row['issn']\n",
    "    issn_list = row['issns_text_array']\n",
    "    return issnl == issn_list[0]\n",
    "\n",
    "df_midjournal['issnl_is_first_in_issns'] = df_midjournal.apply(_is_first_in_issns, axis=1)\n",
    "df_midjournal['issnl_is_first_in_issns_text_array'] = df_midjournal.apply(_is_first_in_issns_text_array, axis=1)"
   ]
  },
  {
   "cell_type": "code",
   "execution_count": 14,
   "metadata": {},
   "outputs": [
    {
     "data": {
      "text/plain": [
       "issnl_is_first_in_issns\n",
       "True    139932\n",
       "Name: count, dtype: int64"
      ]
     },
     "execution_count": 14,
     "metadata": {},
     "output_type": "execute_result"
    }
   ],
   "source": [
    "df_midjournal['issnl_is_first_in_issns'].value_counts()"
   ]
  },
  {
   "cell_type": "code",
   "execution_count": 15,
   "metadata": {},
   "outputs": [
    {
     "data": {
      "text/plain": [
       "issnl_is_first_in_issns_text_array\n",
       "True    139932\n",
       "Name: count, dtype: int64"
      ]
     },
     "execution_count": 15,
     "metadata": {},
     "output_type": "execute_result"
    }
   ],
   "source": [
    "df_midjournal['issnl_is_first_in_issns_text_array'].value_counts()"
   ]
  },
  {
   "cell_type": "markdown",
   "metadata": {},
   "source": [
    ":party:"
   ]
  },
  {
   "cell_type": "code",
   "execution_count": null,
   "metadata": {},
   "outputs": [],
   "source": []
  },
  {
   "cell_type": "code",
   "execution_count": 16,
   "metadata": {},
   "outputs": [],
   "source": [
    "df_issn_to_issnl = pd.read_sql_query(\"\"\"select * from mid.journal_issn_to_issnl\"\"\", db.engine)"
   ]
  },
  {
   "cell_type": "code",
   "execution_count": 17,
   "metadata": {},
   "outputs": [],
   "source": [
    "issn_to_issnl = df_issn_to_issnl.set_index('issn', verify_integrity=True)['issnl']"
   ]
  },
  {
   "cell_type": "code",
   "execution_count": 18,
   "metadata": {},
   "outputs": [],
   "source": [
    "issnls = issn_to_issnl.unique()"
   ]
  },
  {
   "cell_type": "code",
   "execution_count": 19,
   "metadata": {},
   "outputs": [
    {
     "data": {
      "text/plain": [
       "141008"
      ]
     },
     "execution_count": 19,
     "metadata": {},
     "output_type": "execute_result"
    }
   ],
   "source": [
    "# get dict of issnl to issn\n",
    "x = df_issn_to_issnl.dropna(subset=['issnl'])\n",
    "# x = x[x['category'].isin(['Register', 'Work', 'Free', 'Validation Request'])]\n",
    "x = x[['issn', 'issnl']]\n",
    "issnl_to_issn = {}\n",
    "ignore = [\n",
    "    '0000-0000',\n",
    "]\n",
    "x = x[~(x['issnl'].isin(ignore))]\n",
    "for name, gbdf in x.groupby('issnl'):\n",
    "    if name in ignore:\n",
    "        continue\n",
    "    issnl_to_issn[name] = gbdf['issn'].tolist()\n",
    "len(issnl_to_issn)"
   ]
  },
  {
   "cell_type": "markdown",
   "metadata": {},
   "source": [
    "Does every ISSN resolve to at most one Source?"
   ]
  },
  {
   "cell_type": "code",
   "execution_count": 20,
   "metadata": {},
   "outputs": [
    {
     "name": "stderr",
     "output_type": "stream",
     "text": [
      "  0%|          | 0/139932 [00:00<?, ?it/s]"
     ]
    },
    {
     "name": "stderr",
     "output_type": "stream",
     "text": [
      "100%|██████████| 139932/139932 [00:00<00:00, 368644.91it/s]\n"
     ]
    }
   ],
   "source": [
    "smap = {}\n",
    "for source_id, issn_list in tqdm(df_midjournal.set_index('journal_id', verify_integrity=True)['issns_text_array'].items(), total=len(df_midjournal)):\n",
    "    for issn in issn_list:\n",
    "        if issn in smap:\n",
    "            smap[issn].append(source_id)\n",
    "        else:\n",
    "            smap[issn] = [source_id]"
   ]
  },
  {
   "cell_type": "code",
   "execution_count": 21,
   "metadata": {},
   "outputs": [],
   "source": [
    "d = []\n",
    "for issn, source_list in smap.items():\n",
    "    d.append({\n",
    "        'issn': issn,\n",
    "        'num_sources': len(source_list),\n",
    "    })\n",
    "_df = pd.DataFrame(d)\n",
    "_df['num_sources'].value_counts()\n",
    "df_issnl_file['num_sources_resolve'] = df_issnl_file['submitted_issn'].map(_df.set_index('issn', verify_integrity=True)['num_sources'])\n",
    "df_issnl_file['num_sources_resolve'].fillna(value=0, inplace=True)"
   ]
  },
  {
   "cell_type": "code",
   "execution_count": 22,
   "metadata": {},
   "outputs": [
    {
     "name": "stdout",
     "output_type": "stream",
     "text": [
      "CPU times: user 1.09 s, sys: 108 ms, total: 1.2 s\n",
      "Wall time: 1.67 s\n"
     ]
    }
   ],
   "source": [
    "%%time\n",
    "sq = \"\"\"select journal_id, display_name, issn, issns, issns_text_array, type, merge_into_id, merge_into_date\n",
    "    from mid.journal\n",
    "    ;\n",
    "    \"\"\"\n",
    "df_midjournal_withmerged = pd.read_sql_query(sq, db.engine)"
   ]
  },
  {
   "cell_type": "code",
   "execution_count": 23,
   "metadata": {},
   "outputs": [
    {
     "name": "stderr",
     "output_type": "stream",
     "text": [
      "  0%|          | 0/262745 [00:00<?, ?it/s]"
     ]
    },
    {
     "name": "stderr",
     "output_type": "stream",
     "text": [
      "100%|██████████| 262745/262745 [00:00<00:00, 508622.75it/s] \n"
     ]
    }
   ],
   "source": [
    "smap_withmerged = {}\n",
    "for source_id, issn_list in tqdm(df_midjournal_withmerged.set_index('journal_id', verify_integrity=True)['issns_text_array'].items(), total=len(df_midjournal_withmerged)):\n",
    "    if issn_list:\n",
    "        for issn in issn_list:\n",
    "            if issn in smap_withmerged:\n",
    "                smap_withmerged[issn].append(source_id)\n",
    "            else:\n",
    "                smap_withmerged[issn] = [source_id]"
   ]
  },
  {
   "cell_type": "code",
   "execution_count": 24,
   "metadata": {},
   "outputs": [],
   "source": [
    "d = []\n",
    "for issn, source_list in smap_withmerged.items():\n",
    "    d.append({\n",
    "        'issn': issn,\n",
    "        'num_sources': len(source_list),\n",
    "    })\n",
    "_df = pd.DataFrame(d)\n",
    "_df['num_sources'].value_counts()\n",
    "df_issnl_file['num_sources_resolve_withmerged'] = df_issnl_file['submitted_issn'].map(_df.set_index('issn', verify_integrity=True)['num_sources'])\n",
    "df_issnl_file['num_sources_resolve_withmerged'].fillna(value=0, inplace=True)"
   ]
  },
  {
   "cell_type": "code",
   "execution_count": 25,
   "metadata": {},
   "outputs": [
    {
     "data": {
      "text/plain": [
       "num_sources_resolve\n",
       "1.0    211910\n",
       "0.0      2696\n",
       "Name: count, dtype: int64"
      ]
     },
     "execution_count": 25,
     "metadata": {},
     "output_type": "execute_result"
    }
   ],
   "source": [
    "df_issnl_file['num_sources_resolve'].value_counts()"
   ]
  },
  {
   "cell_type": "code",
   "execution_count": 26,
   "metadata": {},
   "outputs": [
    {
     "data": {
      "text/plain": [
       "num_sources_resolve_withmerged\n",
       "1.0    203810\n",
       "2.0      8798\n",
       "0.0      1776\n",
       "3.0       203\n",
       "5.0        12\n",
       "4.0         6\n",
       "6.0         1\n",
       "Name: count, dtype: int64"
      ]
     },
     "execution_count": 26,
     "metadata": {},
     "output_type": "execute_result"
    }
   ],
   "source": [
    "df_issnl_file['num_sources_resolve_withmerged'].value_counts()"
   ]
  },
  {
   "cell_type": "code",
   "execution_count": 28,
   "metadata": {},
   "outputs": [
    {
     "name": "stdout",
     "output_type": "stream",
     "text": [
      "1242\n"
     ]
    }
   ],
   "source": [
    "# start with submitted_issns that are ISSNLs\n",
    "df_to_add = df_issnl_file[df_issnl_file['num_sources_resolve']==0]\n",
    "df_to_add = df_to_add[(df_to_add['submitted_issn'] == df_to_add['issnl'])]\n",
    "print(len(df_to_add))"
   ]
  },
  {
   "cell_type": "code",
   "execution_count": 29,
   "metadata": {},
   "outputs": [
    {
     "data": {
      "text/plain": [
       "True    1242\n",
       "Name: count, dtype: int64"
      ]
     },
     "execution_count": 29,
     "metadata": {},
     "output_type": "execute_result"
    }
   ],
   "source": [
    "(df_to_add['submitted_issn'] == df_to_add['issn']).value_counts()"
   ]
  },
  {
   "cell_type": "code",
   "execution_count": 30,
   "metadata": {},
   "outputs": [
    {
     "data": {
      "text/plain": [
       "True    1242\n",
       "Name: count, dtype: int64"
      ]
     },
     "execution_count": 30,
     "metadata": {},
     "output_type": "execute_result"
    }
   ],
   "source": [
    "(df_to_add['submitted_issn'] == df_to_add['issnl']).value_counts()"
   ]
  },
  {
   "cell_type": "code",
   "execution_count": 31,
   "metadata": {},
   "outputs": [
    {
     "data": {
      "text/plain": [
       "num_sources_resolve_withmerged\n",
       "0.0    1163\n",
       "1.0      67\n",
       "2.0       6\n",
       "5.0       5\n",
       "3.0       1\n",
       "Name: count, dtype: int64"
      ]
     },
     "execution_count": 31,
     "metadata": {},
     "output_type": "execute_result"
    }
   ],
   "source": [
    "df_to_add['num_sources_resolve_withmerged'].value_counts()"
   ]
  },
  {
   "cell_type": "code",
   "execution_count": 32,
   "metadata": {},
   "outputs": [],
   "source": [
    "d = []\n",
    "midjournal_lookup = df_midjournal_withmerged.set_index('journal_id', verify_integrity=True)\n",
    "for submitted_issn, row in df_to_add[df_to_add['num_sources_resolve_withmerged']>=1].set_index('submitted_issn', verify_integrity=True).iterrows():\n",
    "    this_source_ids = smap_withmerged[submitted_issn]\n",
    "    for source_id in this_source_ids:\n",
    "        midjournal_row = midjournal_lookup.loc[source_id]\n",
    "        d.append({\n",
    "            'submitted_issn': submitted_issn,\n",
    "            'source_id': source_id,\n",
    "            'cluster_title': row['cluster_title'],\n",
    "            'display_name': midjournal_row['display_name'],\n",
    "            'midjournal_issn': midjournal_row['issn'],\n",
    "            'midjournal_issns': midjournal_row['issns'],\n",
    "            'midjournal_issns_text_array': midjournal_row['issns_text_array'],\n",
    "            'midjournal_type': midjournal_row['type'],\n",
    "            'merge_into_id': midjournal_row['merge_into_id'],\n",
    "            'merge_into_date': midjournal_row['merge_into_date'],\n",
    "            'num_sources_resolve_withmerged': row['num_sources_resolve_withmerged'],\n",
    "        })\n",
    "df_unmerge = pd.DataFrame(d)\n",
    "df_unmerge['deleted'] = df_unmerge['merge_into_id'] == DELETED_SOURCE_ID\n"
   ]
  },
  {
   "cell_type": "code",
   "execution_count": 33,
   "metadata": {},
   "outputs": [
    {
     "data": {
      "text/html": [
       "<div>\n",
       "<style scoped>\n",
       "    .dataframe tbody tr th:only-of-type {\n",
       "        vertical-align: middle;\n",
       "    }\n",
       "\n",
       "    .dataframe tbody tr th {\n",
       "        vertical-align: top;\n",
       "    }\n",
       "\n",
       "    .dataframe thead th {\n",
       "        text-align: right;\n",
       "    }\n",
       "</style>\n",
       "<table border=\"1\" class=\"dataframe\">\n",
       "  <thead>\n",
       "    <tr style=\"text-align: right;\">\n",
       "      <th></th>\n",
       "      <th>index</th>\n",
       "      <th>submitted_issn</th>\n",
       "      <th>issn</th>\n",
       "      <th>issnl</th>\n",
       "      <th>category</th>\n",
       "      <th>medium</th>\n",
       "      <th>frequency</th>\n",
       "      <th>country</th>\n",
       "      <th>center</th>\n",
       "      <th>language</th>\n",
       "      <th>start</th>\n",
       "      <th>end</th>\n",
       "      <th>title</th>\n",
       "      <th>comment</th>\n",
       "      <th>resolved</th>\n",
       "      <th>cluster_title</th>\n",
       "      <th>num_sources_resolve</th>\n",
       "      <th>num_sources_resolve_withmerged</th>\n",
       "    </tr>\n",
       "  </thead>\n",
       "  <tbody>\n",
       "    <tr>\n",
       "      <th>0</th>\n",
       "      <td>165211</td>\n",
       "      <td>2221-9781</td>\n",
       "      <td>2221-9781</td>\n",
       "      <td>2221-9781</td>\n",
       "      <td>Register</td>\n",
       "      <td>Online</td>\n",
       "      <td>Monthly</td>\n",
       "      <td>UKRAINE</td>\n",
       "      <td>Ukraine</td>\n",
       "      <td>Multiple languages</td>\n",
       "      <td>2009</td>\n",
       "      <td>9999</td>\n",
       "      <td>Lìki Ukraïni plûs</td>\n",
       "      <td></td>\n",
       "      <td>False</td>\n",
       "      <td>Lìki Ukraïni plûs</td>\n",
       "      <td>0.0</td>\n",
       "      <td>0.0</td>\n",
       "    </tr>\n",
       "    <tr>\n",
       "      <th>1</th>\n",
       "      <td>185888</td>\n",
       "      <td>2546-2202</td>\n",
       "      <td>2546-2202</td>\n",
       "      <td>2546-2202</td>\n",
       "      <td>Register</td>\n",
       "      <td>Online</td>\n",
       "      <td>Annual</td>\n",
       "      <td>TANZANIA (UNITED REPUBLIC OF)</td>\n",
       "      <td>Tanzania, United Republic of</td>\n",
       "      <td>Swahili</td>\n",
       "      <td>2017</td>\n",
       "      <td>9999</td>\n",
       "      <td>Mulika (Online)</td>\n",
       "      <td></td>\n",
       "      <td>False</td>\n",
       "      <td>Mulika</td>\n",
       "      <td>0.0</td>\n",
       "      <td>0.0</td>\n",
       "    </tr>\n",
       "    <tr>\n",
       "      <th>2</th>\n",
       "      <td>171585</td>\n",
       "      <td>2720-9512</td>\n",
       "      <td>2720-9512</td>\n",
       "      <td>2720-9512</td>\n",
       "      <td>Register</td>\n",
       "      <td>Online</td>\n",
       "      <td>Three times a year</td>\n",
       "      <td>INDONESIA</td>\n",
       "      <td>Indonesia</td>\n",
       "      <td>Multiple languages</td>\n",
       "      <td>2020</td>\n",
       "      <td>9999</td>\n",
       "      <td>PELAGICUS (Online)</td>\n",
       "      <td></td>\n",
       "      <td>False</td>\n",
       "      <td>PELAGICUS</td>\n",
       "      <td>0.0</td>\n",
       "      <td>0.0</td>\n",
       "    </tr>\n",
       "    <tr>\n",
       "      <th>4</th>\n",
       "      <td>185113</td>\n",
       "      <td>2828-5263</td>\n",
       "      <td>2828-5263</td>\n",
       "      <td>2828-5263</td>\n",
       "      <td>Register</td>\n",
       "      <td>Online</td>\n",
       "      <td>Semiannual</td>\n",
       "      <td>INDONESIA</td>\n",
       "      <td>Indonesia</td>\n",
       "      <td>Indonesian</td>\n",
       "      <td>2022</td>\n",
       "      <td>9999</td>\n",
       "      <td>Afore (Online)</td>\n",
       "      <td></td>\n",
       "      <td>False</td>\n",
       "      <td>Afore</td>\n",
       "      <td>0.0</td>\n",
       "      <td>0.0</td>\n",
       "    </tr>\n",
       "    <tr>\n",
       "      <th>7</th>\n",
       "      <td>182967</td>\n",
       "      <td>2992-7358</td>\n",
       "      <td>2992-7358</td>\n",
       "      <td>2992-7358</td>\n",
       "      <td>Register</td>\n",
       "      <td>Online</td>\n",
       "      <td>Semiannual</td>\n",
       "      <td>MEXICO</td>\n",
       "      <td>Mexico</td>\n",
       "      <td>Spanish</td>\n",
       "      <td>2021</td>\n",
       "      <td>9999</td>\n",
       "      <td>Didac (México)</td>\n",
       "      <td></td>\n",
       "      <td>False</td>\n",
       "      <td>Didac</td>\n",
       "      <td>0.0</td>\n",
       "      <td>0.0</td>\n",
       "    </tr>\n",
       "    <tr>\n",
       "      <th>...</th>\n",
       "      <td>...</td>\n",
       "      <td>...</td>\n",
       "      <td>...</td>\n",
       "      <td>...</td>\n",
       "      <td>...</td>\n",
       "      <td>...</td>\n",
       "      <td>...</td>\n",
       "      <td>...</td>\n",
       "      <td>...</td>\n",
       "      <td>...</td>\n",
       "      <td>...</td>\n",
       "      <td>...</td>\n",
       "      <td>...</td>\n",
       "      <td>...</td>\n",
       "      <td>...</td>\n",
       "      <td>...</td>\n",
       "      <td>...</td>\n",
       "      <td>...</td>\n",
       "    </tr>\n",
       "    <tr>\n",
       "      <th>196128</th>\n",
       "      <td>118998</td>\n",
       "      <td>2692-7691</td>\n",
       "      <td>2692-7691</td>\n",
       "      <td>2692-7691</td>\n",
       "      <td>Register</td>\n",
       "      <td>Online</td>\n",
       "      <td>Monthly</td>\n",
       "      <td>UNITED STATES</td>\n",
       "      <td>United States</td>\n",
       "      <td>English</td>\n",
       "      <td>2022</td>\n",
       "      <td>9999</td>\n",
       "      <td>American journal of biological anthropology</td>\n",
       "      <td></td>\n",
       "      <td>True</td>\n",
       "      <td>American journal of biological anthropology</td>\n",
       "      <td>0.0</td>\n",
       "      <td>1.0</td>\n",
       "    </tr>\n",
       "    <tr>\n",
       "      <th>196723</th>\n",
       "      <td>171448</td>\n",
       "      <td>2828-9331</td>\n",
       "      <td>2828-9331</td>\n",
       "      <td>2828-9331</td>\n",
       "      <td>Register</td>\n",
       "      <td>Online</td>\n",
       "      <td>Semiannual</td>\n",
       "      <td>INDONESIA</td>\n",
       "      <td>Indonesia</td>\n",
       "      <td>Indonesian</td>\n",
       "      <td>2022</td>\n",
       "      <td>9999</td>\n",
       "      <td>Ushuly (Online)</td>\n",
       "      <td></td>\n",
       "      <td>False</td>\n",
       "      <td>Ushuly</td>\n",
       "      <td>0.0</td>\n",
       "      <td>0.0</td>\n",
       "    </tr>\n",
       "    <tr>\n",
       "      <th>196966</th>\n",
       "      <td>163130</td>\n",
       "      <td>2964-6286</td>\n",
       "      <td>2964-6286</td>\n",
       "      <td>2964-6286</td>\n",
       "      <td>Register</td>\n",
       "      <td>Online</td>\n",
       "      <td>Quarterly</td>\n",
       "      <td>INDONESIA</td>\n",
       "      <td>Indonesia</td>\n",
       "      <td>Indonesian</td>\n",
       "      <td>2023</td>\n",
       "      <td>9999</td>\n",
       "      <td>AlFihris (Online)</td>\n",
       "      <td></td>\n",
       "      <td>False</td>\n",
       "      <td>AlFihris</td>\n",
       "      <td>0.0</td>\n",
       "      <td>0.0</td>\n",
       "    </tr>\n",
       "    <tr>\n",
       "      <th>196988</th>\n",
       "      <td>166617</td>\n",
       "      <td>2965-1204</td>\n",
       "      <td>2965-1204</td>\n",
       "      <td>2965-1204</td>\n",
       "      <td>Register</td>\n",
       "      <td>Online</td>\n",
       "      <td>Annual</td>\n",
       "      <td>BRAZIL</td>\n",
       "      <td>Brazil</td>\n",
       "      <td>Portuguese</td>\n",
       "      <td>2022</td>\n",
       "      <td>9999</td>\n",
       "      <td>Revista Cidadania em Foco</td>\n",
       "      <td></td>\n",
       "      <td>False</td>\n",
       "      <td>Revista Cidadania em Foco</td>\n",
       "      <td>0.0</td>\n",
       "      <td>0.0</td>\n",
       "    </tr>\n",
       "    <tr>\n",
       "      <th>197393</th>\n",
       "      <td>158784</td>\n",
       "      <td>3026-0833</td>\n",
       "      <td>3026-0833</td>\n",
       "      <td>3026-0833</td>\n",
       "      <td>Register</td>\n",
       "      <td>Online</td>\n",
       "      <td>Annual</td>\n",
       "      <td>INDONESIA</td>\n",
       "      <td>Indonesia</td>\n",
       "      <td>Indonesian</td>\n",
       "      <td>2016</td>\n",
       "      <td>9999</td>\n",
       "      <td>Prosiding Seminar Teknologi Majalengka (Online)</td>\n",
       "      <td></td>\n",
       "      <td>False</td>\n",
       "      <td>Prosiding Seminar Teknologi Majalengka</td>\n",
       "      <td>0.0</td>\n",
       "      <td>0.0</td>\n",
       "    </tr>\n",
       "  </tbody>\n",
       "</table>\n",
       "<p>1242 rows × 18 columns</p>\n",
       "</div>"
      ],
      "text/plain": [
       "         index submitted_issn       issn      issnl  category  medium   \n",
       "0       165211      2221-9781  2221-9781  2221-9781  Register  Online  \\\n",
       "1       185888      2546-2202  2546-2202  2546-2202  Register  Online   \n",
       "2       171585      2720-9512  2720-9512  2720-9512  Register  Online   \n",
       "4       185113      2828-5263  2828-5263  2828-5263  Register  Online   \n",
       "7       182967      2992-7358  2992-7358  2992-7358  Register  Online   \n",
       "...        ...            ...        ...        ...       ...     ...   \n",
       "196128  118998      2692-7691  2692-7691  2692-7691  Register  Online   \n",
       "196723  171448      2828-9331  2828-9331  2828-9331  Register  Online   \n",
       "196966  163130      2964-6286  2964-6286  2964-6286  Register  Online   \n",
       "196988  166617      2965-1204  2965-1204  2965-1204  Register  Online   \n",
       "197393  158784      3026-0833  3026-0833  3026-0833  Register  Online   \n",
       "\n",
       "                 frequency                        country   \n",
       "0                  Monthly                        UKRAINE  \\\n",
       "1                   Annual  TANZANIA (UNITED REPUBLIC OF)   \n",
       "2       Three times a year                      INDONESIA   \n",
       "4               Semiannual                      INDONESIA   \n",
       "7               Semiannual                         MEXICO   \n",
       "...                    ...                            ...   \n",
       "196128             Monthly                  UNITED STATES   \n",
       "196723          Semiannual                      INDONESIA   \n",
       "196966           Quarterly                      INDONESIA   \n",
       "196988              Annual                         BRAZIL   \n",
       "197393              Annual                      INDONESIA   \n",
       "\n",
       "                              center            language start   end   \n",
       "0                            Ukraine  Multiple languages  2009  9999  \\\n",
       "1       Tanzania, United Republic of             Swahili  2017  9999   \n",
       "2                          Indonesia  Multiple languages  2020  9999   \n",
       "4                          Indonesia          Indonesian  2022  9999   \n",
       "7                             Mexico             Spanish  2021  9999   \n",
       "...                              ...                 ...   ...   ...   \n",
       "196128                 United States             English  2022  9999   \n",
       "196723                     Indonesia          Indonesian  2022  9999   \n",
       "196966                     Indonesia          Indonesian  2023  9999   \n",
       "196988                        Brazil          Portuguese  2022  9999   \n",
       "197393                     Indonesia          Indonesian  2016  9999   \n",
       "\n",
       "                                                  title comment  resolved   \n",
       "0                                     Lìki Ukraïni plûs             False  \\\n",
       "1                                       Mulika (Online)             False   \n",
       "2                                    PELAGICUS (Online)             False   \n",
       "4                                        Afore (Online)             False   \n",
       "7                                        Didac (México)             False   \n",
       "...                                                 ...     ...       ...   \n",
       "196128      American journal of biological anthropology              True   \n",
       "196723                                  Ushuly (Online)             False   \n",
       "196966                                AlFihris (Online)             False   \n",
       "196988                        Revista Cidadania em Foco             False   \n",
       "197393  Prosiding Seminar Teknologi Majalengka (Online)             False   \n",
       "\n",
       "                                      cluster_title  num_sources_resolve   \n",
       "0                                 Lìki Ukraïni plûs                  0.0  \\\n",
       "1                                            Mulika                  0.0   \n",
       "2                                         PELAGICUS                  0.0   \n",
       "4                                             Afore                  0.0   \n",
       "7                                             Didac                  0.0   \n",
       "...                                             ...                  ...   \n",
       "196128  American journal of biological anthropology                  0.0   \n",
       "196723                                       Ushuly                  0.0   \n",
       "196966                                     AlFihris                  0.0   \n",
       "196988                    Revista Cidadania em Foco                  0.0   \n",
       "197393       Prosiding Seminar Teknologi Majalengka                  0.0   \n",
       "\n",
       "        num_sources_resolve_withmerged  \n",
       "0                                  0.0  \n",
       "1                                  0.0  \n",
       "2                                  0.0  \n",
       "4                                  0.0  \n",
       "7                                  0.0  \n",
       "...                                ...  \n",
       "196128                             1.0  \n",
       "196723                             0.0  \n",
       "196966                             0.0  \n",
       "196988                             0.0  \n",
       "197393                             0.0  \n",
       "\n",
       "[1242 rows x 18 columns]"
      ]
     },
     "execution_count": 33,
     "metadata": {},
     "output_type": "execute_result"
    }
   ],
   "source": [
    "df_to_add"
   ]
  },
  {
   "cell_type": "code",
   "execution_count": 34,
   "metadata": {},
   "outputs": [],
   "source": [
    "def add_new_source(issnl, issn_list, title, source_type='journal', updated_date=None, session=None):\n",
    "    if session is None:\n",
    "        session = db.session\n",
    "    if updated_date is None:\n",
    "        updated_date = datetime.now(timezone.utc).isoformat()\n",
    "\n",
    "    # make updates\n",
    "    new_issns = json.dumps(issn_list)\n",
    "    new_display_name = title\n",
    "    new_type = source_type\n",
    "    source = Source(\n",
    "        display_name = new_display_name,\n",
    "        issn = issnl,\n",
    "        issns = new_issns,\n",
    "        issns_text_array = issn_list,\n",
    "        type = new_type,\n",
    "        created_date = updated_date,\n",
    "        updated_date = updated_date,\n",
    "    )\n",
    "    session.add(source)\n",
    "    session.commit()\n",
    "    session.refresh(source)\n",
    "    source_id = int(source.id)\n",
    "\n",
    "    # insert into log table\n",
    "    sq = \"\"\"INSERT INTO issn_audit_20240321.update7\n",
    "        (issnl, new_issns, new_display_name, updated_date, source_id, new_type, is_new_source, created_date)\n",
    "        VALUES(:issnl, :new_issns, :new_display_name, :updated_date, :source_id, :new_type, true, :updated_date);\n",
    "        \"\"\"\n",
    "    session.execute(text(sq), {\n",
    "        'issnl': issnl,\n",
    "        'new_issns': new_issns,\n",
    "        'new_display_name': new_display_name,\n",
    "        'updated_date': updated_date,\n",
    "        'source_id': source_id,\n",
    "        'new_type': new_type,\n",
    "    }) \n",
    "    return source_id"
   ]
  },
  {
   "cell_type": "code",
   "execution_count": 45,
   "metadata": {},
   "outputs": [],
   "source": [
    "try:\n",
    "    x = db.session.execute(\"\"\"select issnl from issn_audit_20240321.update7\"\"\").scalars().all()\n",
    "finally:\n",
    "    db.session.close()"
   ]
  },
  {
   "cell_type": "code",
   "execution_count": 47,
   "metadata": {},
   "outputs": [
    {
     "name": "stdout",
     "output_type": "stream",
     "text": [
      "617\n",
      "617\n"
     ]
    }
   ],
   "source": [
    "print(len(x))\n",
    "print(len(set(x)))"
   ]
  },
  {
   "cell_type": "code",
   "execution_count": null,
   "metadata": {},
   "outputs": [],
   "source": []
  },
  {
   "cell_type": "code",
   "execution_count": 53,
   "metadata": {},
   "outputs": [
    {
     "name": "stderr",
     "output_type": "stream",
     "text": [
      "100%|██████████| 1242/1242 [00:41<00:00, 29.96it/s] \n"
     ]
    }
   ],
   "source": [
    "# case where submitted_issn == issnl\n",
    "# Add a new source. Merge any existing (already merged) sources into this new one.\n",
    "try:\n",
    "    seen_issnls = db.session.execute(\"\"\"select issnl from issn_audit_20240321.update7\"\"\").scalars().all()\n",
    "    seen_issnls = set(seen_issnls)\n",
    "    for issnl, row in tqdm(df_to_add.set_index('issnl', verify_integrity=True).iterrows(), total=len(df_to_add)):\n",
    "        if issnl in seen_issnls:\n",
    "            continue\n",
    "        updated_date = datetime.now(timezone.utc).isoformat()\n",
    "        issn_list = issnl_to_issn[issnl]\n",
    "        if issnl not in issn_list:\n",
    "            issn_list.append(issnl)\n",
    "        # move issnl to the front\n",
    "        issn_list.insert(0, issn_list.pop(issn_list.index(issnl)))\n",
    "        title = row['cluster_title']\n",
    "        if not title:\n",
    "            title = ''\n",
    "        if 'conference' in title.lower():\n",
    "            source_type = 'conference'\n",
    "        elif 'book series' in title.lower():\n",
    "            source_type = 'book series'\n",
    "        else:\n",
    "            source_type = 'journal'\n",
    "        source_id = add_new_source(issnl, issn_list, title=title, source_type=source_type, updated_date=updated_date, session=db.session)\n",
    "        for _, row in df_unmerge[df_unmerge['midjournal_issn']==issnl].iterrows():\n",
    "            if row['deleted'] == False:\n",
    "                # merge into new source\n",
    "                source_id = int(row['source_id'])\n",
    "                source = db.session.query(Source).filter_by(journal_id=source_id).one()\n",
    "                old_merge_into_id = row['merge_into_id']\n",
    "                new_merge_into_id = source_id\n",
    "                old_merge_into_date = row['merge_into_date']\n",
    "                if pd.isna(old_merge_into_date):\n",
    "                    old_merge_into_date = None\n",
    "                new_merge_into_date = updated_date\n",
    "                source.merge_into_id = new_merge_into_id\n",
    "                source.merge_into_date = new_merge_into_date\n",
    "                source.updated_date = updated_date\n",
    "                db.session.add(source)\n",
    "\n",
    "                # insert into log table\n",
    "                sq = \"\"\"INSERT INTO issn_audit_20240321.update7\n",
    "                    (issnl, updated_date, source_id, old_merge_into_id, merge_into_id, old_merge_into_date, merge_into_date, is_new_source)\n",
    "                    VALUES(:issnl, :updated_date, :source_id, :old_merge_into_id, :merge_into_id, :old_merge_into_date, :merge_into_date, false);\n",
    "                    \"\"\"\n",
    "                db.session.execute(text(sq), {\n",
    "                    'issnl': issnl,\n",
    "                    'updated_date': updated_date,\n",
    "                    'source_id': source_id,\n",
    "                    'old_merge_into_id': old_merge_into_id,\n",
    "                    'merge_into_id': new_merge_into_id,\n",
    "                    'old_merge_into_date': old_merge_into_date,\n",
    "                    'merge_into_date': new_merge_into_date,\n",
    "                }) \n",
    "\n",
    "                sq = \"\"\"update issn_audit_20240321.issn_ic_datafile_202402 set resolved = true\n",
    "                    where \"submitted_1348-0278\" = :issn\"\"\"\n",
    "                db.session.execute(text(sq), {\n",
    "                    'issn': issnl,\n",
    "                })\n",
    "        # commit for each new source\n",
    "        db.session.commit()\n",
    "finally:\n",
    "    db.session.close()"
   ]
  },
  {
   "cell_type": "code",
   "execution_count": null,
   "metadata": {},
   "outputs": [],
   "source": []
  },
  {
   "cell_type": "code",
   "execution_count": null,
   "metadata": {},
   "outputs": [],
   "source": []
  },
  {
   "cell_type": "code",
   "execution_count": null,
   "metadata": {},
   "outputs": [],
   "source": []
  }
 ],
 "metadata": {
  "kernelspec": {
   "display_name": "venv",
   "language": "python",
   "name": "python3"
  },
  "language_info": {
   "codemirror_mode": {
    "name": "ipython",
    "version": 3
   },
   "file_extension": ".py",
   "mimetype": "text/x-python",
   "name": "python",
   "nbconvert_exporter": "python",
   "pygments_lexer": "ipython3",
   "version": "3.9.16"
  }
 },
 "nbformat": 4,
 "nbformat_minor": 2
}
