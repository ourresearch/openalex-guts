{
 "cells": [
  {
   "cell_type": "markdown",
   "metadata": {},
   "source": [
    "# update6 - TBD"
   ]
  },
  {
   "cell_type": "code",
   "execution_count": 1,
   "metadata": {},
   "outputs": [],
   "source": [
    "import sys"
   ]
  },
  {
   "cell_type": "code",
   "execution_count": 2,
   "metadata": {},
   "outputs": [],
   "source": [
    "sys.path.append('../..')"
   ]
  },
  {
   "cell_type": "code",
   "execution_count": 3,
   "metadata": {},
   "outputs": [],
   "source": [
    "from datetime import datetime, timezone\n",
    "import json\n",
    "from tqdm import tqdm\n",
    "from pathlib import Path\n",
    "import gzip\n",
    "import pickle"
   ]
  },
  {
   "cell_type": "code",
   "execution_count": 4,
   "metadata": {},
   "outputs": [],
   "source": [
    "import pandas as pd\n",
    "import numpy as np"
   ]
  },
  {
   "cell_type": "code",
   "execution_count": 5,
   "metadata": {},
   "outputs": [],
   "source": [
    "import rapidfuzz"
   ]
  },
  {
   "cell_type": "code",
   "execution_count": 6,
   "metadata": {},
   "outputs": [
    {
     "name": "stdout",
     "output_type": "stream",
     "text": [
      "140458990035328: loading merged_into_institutions_dict\n",
      "140458990035328: loading valid concept IDs\n",
      "140458990035328: loading valid topic IDs\n",
      "140458990035328: loading valid keyword IDs\n"
     ]
    }
   ],
   "source": [
    "from app import db\n",
    "from models import Source, ISSNtoISSNL\n",
    "from models.source import DELETED_SOURCE_ID\n",
    "from sqlalchemy import text\n",
    "from sqlalchemy.orm import Load\n",
    "from sqlalchemy.exc import MultipleResultsFound"
   ]
  },
  {
   "cell_type": "code",
   "execution_count": 7,
   "metadata": {},
   "outputs": [],
   "source": [
    "from cleanup.util import make_request, paginate_openalex\n"
   ]
  },
  {
   "cell_type": "code",
   "execution_count": null,
   "metadata": {},
   "outputs": [],
   "source": []
  },
  {
   "cell_type": "code",
   "execution_count": 8,
   "metadata": {},
   "outputs": [
    {
     "name": "stdout",
     "output_type": "stream",
     "text": [
      "CPU times: user 578 ms, sys: 197 ms, total: 775 ms\n",
      "Wall time: 2.54 s\n"
     ]
    }
   ],
   "source": [
    "%%time\n",
    "sq = \"\"\"select if.*, ife.cluster_title from issn_audit_20240321.issn_ic_datafile_202402 if\n",
    "left join issn_audit_20240321.issn_ic_datafile_expanded_202402 ife\n",
    "  on if.\"submitted_1348-0278\"  = ife.issns;\"\"\"\n",
    "df_issnl_file = pd.read_sql_query(sq, db.engine)"
   ]
  },
  {
   "cell_type": "code",
   "execution_count": 9,
   "metadata": {},
   "outputs": [],
   "source": [
    "df_issnl_file = df_issnl_file.rename(columns={\"submitted_1348-0278\": \"submitted_issn\"})"
   ]
  },
  {
   "cell_type": "code",
   "execution_count": 10,
   "metadata": {},
   "outputs": [
    {
     "name": "stdout",
     "output_type": "stream",
     "text": [
      "CPU times: user 1.58 s, sys: 109 ms, total: 1.69 s\n",
      "Wall time: 2.9 s\n"
     ]
    }
   ],
   "source": [
    "%%time\n",
    "sq = \"\"\"select journal_id, display_name, issn, issns, issns_text_array, type, country_code, alternate_titles, publisher_id\n",
    "    from mid.journal\n",
    "    where merge_into_id is null\"\"\"\n",
    "df_midjournal = pd.read_sql_query(sq, db.engine)"
   ]
  },
  {
   "cell_type": "code",
   "execution_count": 11,
   "metadata": {},
   "outputs": [
    {
     "name": "stdout",
     "output_type": "stream",
     "text": [
      "252999\n",
      "139752\n"
     ]
    }
   ],
   "source": [
    "print(len(df_midjournal))\n",
    "df_midjournal.dropna(subset='issn', inplace=True)\n",
    "print(len(df_midjournal))"
   ]
  },
  {
   "cell_type": "code",
   "execution_count": 12,
   "metadata": {},
   "outputs": [
    {
     "name": "stderr",
     "output_type": "stream",
     "text": [
      "  0%|          | 0/139752 [00:00<?, ?it/s]"
     ]
    },
    {
     "name": "stderr",
     "output_type": "stream",
     "text": [
      "100%|██████████| 139752/139752 [00:00<00:00, 504135.06it/s]\n"
     ]
    }
   ],
   "source": [
    "smap = {}\n",
    "for source_id, issn_list in tqdm(df_midjournal.set_index('journal_id', verify_integrity=True)['issns_text_array'].items(), total=len(df_midjournal)):\n",
    "    for issn in issn_list:\n",
    "        if issn in smap:\n",
    "            smap[issn].append(source_id)\n",
    "        else:\n",
    "            smap[issn] = [source_id]"
   ]
  },
  {
   "cell_type": "code",
   "execution_count": 13,
   "metadata": {},
   "outputs": [],
   "source": [
    "d = []\n",
    "for issn, source_list in smap.items():\n",
    "    d.append({\n",
    "        'issn': issn,\n",
    "        'num_sources': len(source_list),\n",
    "    })\n",
    "_df = pd.DataFrame(d)\n",
    "_df['num_sources'].value_counts()\n",
    "df_issnl_file['num_sources_resolve'] = df_issnl_file['submitted_issn'].map(_df.set_index('issn', verify_integrity=True)['num_sources'])\n",
    "df_issnl_file['num_sources_resolve'].fillna(value=0, inplace=True)"
   ]
  },
  {
   "cell_type": "code",
   "execution_count": 14,
   "metadata": {},
   "outputs": [],
   "source": [
    "# actual_works_count = []\n",
    "# subset = {issn: source_list for issn, source_list in smap.items() if len(source_list) > 1}\n",
    "# for issn, source_list in tqdm(subset.items()):\n",
    "#     if len(source_list) > 1:\n",
    "#         for source_id in source_list:\n",
    "#             url = f'https://api.openalex.org/works?filter=locations.source.id:S{source_id}'\n",
    "#             params = {'mailto': 'jportenoy@ourresearch.org',\n",
    "#                       'select': 'id',\n",
    "#                       'per-page': 1}\n",
    "#             r = make_request(url, params=params)\n",
    "#             this_c = r.json()['meta']['count']\n",
    "#             actual_works_count.append({\n",
    "#                 'issn': issn,\n",
    "#                 'source_id': source_id,\n",
    "#                 'works_count': this_c,\n",
    "#             })\n",
    "# df_actual_works_count = pd.DataFrame(actual_works_count)"
   ]
  },
  {
   "cell_type": "code",
   "execution_count": 15,
   "metadata": {},
   "outputs": [],
   "source": [
    "df_actual_works_count = pd.read_pickle('../data/issn_audit_20240301/df_actual_works_count.pickle')"
   ]
  },
  {
   "cell_type": "code",
   "execution_count": 16,
   "metadata": {},
   "outputs": [],
   "source": [
    "x = df_actual_works_count[['source_id', 'works_count']].drop_duplicates()\n",
    "x = x.set_index('source_id', verify_integrity=True)['works_count']\n",
    "df_midjournal['works_count'] = df_midjournal['journal_id'].map(x)"
   ]
  },
  {
   "cell_type": "code",
   "execution_count": null,
   "metadata": {},
   "outputs": [],
   "source": []
  },
  {
   "cell_type": "code",
   "execution_count": null,
   "metadata": {},
   "outputs": [],
   "source": []
  },
  {
   "cell_type": "code",
   "execution_count": 17,
   "metadata": {},
   "outputs": [],
   "source": [
    "# %%time\n",
    "# url = \"https://api.openalex.org/sources\"\n",
    "# params = {\n",
    "#     'mailto': 'jportenoy@ourresearch.org',\n",
    "#     'group_by': 'issn',\n",
    "#     'bypass_cache': 'true',\n",
    "# }\n",
    "# data = []\n",
    "# for r in paginate_openalex(url, params=params):\n",
    "#     data.extend(r.json()['group_by'])"
   ]
  },
  {
   "cell_type": "code",
   "execution_count": 18,
   "metadata": {},
   "outputs": [],
   "source": [
    "# df_sources = pd.DataFrame(data)\n",
    "# _rename = {\n",
    "#     'key': 'issn',\n",
    "#     'count': 'num_sources_in_openalex',\n",
    "# }\n",
    "# df_openalex_issn_sources_count = df_sources.rename(columns=_rename).drop(columns=['key_display_name'])"
   ]
  },
  {
   "cell_type": "code",
   "execution_count": 19,
   "metadata": {},
   "outputs": [],
   "source": [
    "# df_openalex_issn_sources_count['num_sources_in_openalex'].value_counts()"
   ]
  },
  {
   "cell_type": "code",
   "execution_count": null,
   "metadata": {},
   "outputs": [],
   "source": []
  },
  {
   "cell_type": "code",
   "execution_count": 28,
   "metadata": {},
   "outputs": [],
   "source": [
    "df_issn_to_issnl = pd.read_sql_query(\"\"\"select * from mid.journal_issn_to_issnl\"\"\", db.engine)"
   ]
  },
  {
   "cell_type": "code",
   "execution_count": 29,
   "metadata": {},
   "outputs": [],
   "source": [
    "issn_to_issnl = df_issn_to_issnl.set_index('issn', verify_integrity=True)['issnl']"
   ]
  },
  {
   "cell_type": "code",
   "execution_count": 30,
   "metadata": {},
   "outputs": [],
   "source": [
    "issnls = issn_to_issnl.unique()"
   ]
  },
  {
   "cell_type": "code",
   "execution_count": 32,
   "metadata": {},
   "outputs": [
    {
     "data": {
      "text/plain": [
       "141008"
      ]
     },
     "execution_count": 32,
     "metadata": {},
     "output_type": "execute_result"
    }
   ],
   "source": [
    "# get dict of issnl to issn\n",
    "x = df_issn_to_issnl.dropna(subset=['issnl'])\n",
    "# x = x[x['category'].isin(['Register', 'Work', 'Free', 'Validation Request'])]\n",
    "x = x[['issn', 'issnl']]\n",
    "issnl_to_issn = {}\n",
    "ignore = [\n",
    "    '0000-0000',\n",
    "]\n",
    "x = x[~(x['issnl'].isin(ignore))]\n",
    "for name, gbdf in x.groupby('issnl'):\n",
    "    if name in ignore:\n",
    "        continue\n",
    "    issnl_to_issn[name] = gbdf['issn'].tolist()\n",
    "len(issnl_to_issn)"
   ]
  },
  {
   "cell_type": "code",
   "execution_count": 46,
   "metadata": {},
   "outputs": [
    {
     "name": "stdout",
     "output_type": "stream",
     "text": [
      "214606\n",
      "140887\n",
      "140887\n",
      "140887\n"
     ]
    }
   ],
   "source": [
    "print(len(df_issnl_file))\n",
    "df_issn_gold = df_issnl_file[['issnl', 'cluster_title']].dropna().drop_duplicates()\n",
    "print(len(df_issn_gold))\n",
    "df_issn_gold = df_issn_gold[df_issn_gold['cluster_title']!='None']\n",
    "print(len(df_issn_gold))\n",
    "print(len(df_issn_gold['issnl'].drop_duplicates()))"
   ]
  },
  {
   "cell_type": "code",
   "execution_count": 64,
   "metadata": {},
   "outputs": [
    {
     "data": {
      "text/plain": [
       "6988"
      ]
     },
     "execution_count": 64,
     "metadata": {},
     "output_type": "execute_result"
    }
   ],
   "source": [
    "round(len(df_midjournal) / 20)"
   ]
  },
  {
   "cell_type": "code",
   "execution_count": 75,
   "metadata": {},
   "outputs": [
    {
     "name": "stderr",
     "output_type": "stream",
     "text": [
      "100%|██████████| 139752/139752 [2:02:49<00:00, 18.96it/s]  \n"
     ]
    },
    {
     "name": "stdout",
     "output_type": "stream",
     "text": [
      "CPU times: user 3min 10s, sys: 14.7 s, total: 3min 25s\n",
      "Wall time: 2h 2min 51s\n"
     ]
    }
   ],
   "source": [
    "%%time\n",
    "issn_to_title = df_issn_gold.set_index('issnl', verify_integrity=True)['cluster_title']\n",
    "try:\n",
    "    num_updates = 0\n",
    "    i = 0\n",
    "    for issnl, row in tqdm(df_midjournal.set_index('issn', verify_integrity=True).iterrows(), total=len(df_midjournal)):\n",
    "        updated_date = datetime.now(timezone.utc).isoformat()\n",
    "        do_update = False\n",
    "        title = issn_to_title.get(issnl)\n",
    "        old_display_name = row['display_name']\n",
    "        if not title or title == old_display_name:\n",
    "            new_display_name = old_display_name\n",
    "        else:\n",
    "            new_display_name = title\n",
    "            do_update = True\n",
    "        \n",
    "        issn_list = issnl_to_issn[issnl]\n",
    "        if issnl not in issn_list:\n",
    "            issn_list.append(issnl)\n",
    "        # move issnl to the front\n",
    "        issn_list.insert(0, issn_list.pop(issn_list.index(issnl)))\n",
    "        old_issn_list = row['issns_text_array']\n",
    "        if issn_list == old_issn_list:\n",
    "            new_issn_list = old_issn_list\n",
    "        else:\n",
    "            new_issn_list = issn_list\n",
    "            do_update = True\n",
    "        \n",
    "        if do_update is True:\n",
    "            # make updates\n",
    "            source_id = row['journal_id']\n",
    "            source = db.session.query(Source).filter_by(journal_id=source_id).one()\n",
    "            source.display_name = new_display_name\n",
    "            source.issns = json.dumps(new_issn_list)\n",
    "            source.issns_text_array = new_issn_list\n",
    "            source.updated_date = updated_date\n",
    "            db.session.add(source)\n",
    "\n",
    "            # insert into log table\n",
    "            sq = \"\"\"INSERT INTO issn_audit_20240321.update6\n",
    "                (issnl, old_issns, new_issns, old_display_name, new_display_name, updated_date, source_id)\n",
    "                VALUES(:issnl, :old_issns, :new_issns, :old_display_name, :new_display_name, :updated_date, :source_id);\n",
    "                \"\"\"\n",
    "            db.session.execute(text(sq), {\n",
    "                'issnl': issnl,\n",
    "                'old_issns': row['issns'],\n",
    "                'new_issns': json.dumps(issn_list),\n",
    "                'old_display_name': old_display_name,\n",
    "                'new_display_name': new_display_name,\n",
    "                'updated_date': updated_date,\n",
    "                'source_id': source.id,\n",
    "            }) \n",
    "            num_updates += 1\n",
    "        \n",
    "        for issn in issn_list:\n",
    "            sq = \"\"\"update issn_audit_20240321.issn_ic_datafile_202402 set resolved = true\n",
    "                where issn = :issn\n",
    "                \"\"\"\n",
    "            db.session.execute(text(sq), {\n",
    "                'issn': issn,\n",
    "            })\n",
    "        \n",
    "        i += 1\n",
    "        if i % round(len(df_midjournal) / 20) == 0:\n",
    "            db.session.commit()\n",
    "\n",
    "    # final commit for anything left\n",
    "    db.session.commit()\n",
    "finally:\n",
    "    db.session.close()\n"
   ]
  },
  {
   "cell_type": "code",
   "execution_count": 76,
   "metadata": {},
   "outputs": [
    {
     "data": {
      "text/plain": [
       "4764"
      ]
     },
     "execution_count": 76,
     "metadata": {},
     "output_type": "execute_result"
    }
   ],
   "source": [
    "num_updates"
   ]
  },
  {
   "cell_type": "code",
   "execution_count": null,
   "metadata": {},
   "outputs": [],
   "source": [
    "# def update_source(issnl, issn_list, title, updated_date=None, session=None):\n",
    "#     if session is None:\n",
    "#         session = db.session\n",
    "#     if updated_date is None:\n",
    "#         updated_date = datetime.now(timezone.utc).isoformat()\n",
    "#     source = db.session.query(Source).filter_by(journal_id=id_to_merge).one()\n",
    "#     if source is None:\n",
    "#         raise KeyError(f\"issnl {issnl} not found in db\")\n",
    "#     old_issnl = source.issn\n",
    "#     old_display_name = source.display_name\n",
    "#     old_issns = source.issns\n",
    "\n",
    "#     # make updates\n",
    "#     if title:\n",
    "#         source.display_name = title\n",
    "#     source.issn = issnl\n",
    "#     source.issns = json.dumps(issn_list)\n",
    "#     source.issns_text_array = issn_list\n",
    "#     # source.type = source_type\n",
    "#     source.updated_date = updated_date\n",
    "#     session.add(source)\n",
    "\n",
    "#     # insert into log table\n",
    "#     sq = \"\"\"INSERT INTO issn_audit_20240321.update3\n",
    "#         (issnl, old_issns, new_issns, old_issnl, old_display_name, new_display_name, updated_date, source_id)\n",
    "#         VALUES(:issnl, :old_issns, :new_issns, :old_issnl, :old_display_name, :new_display_name, :updated_date, :source_id);\n",
    "#         \"\"\"\n",
    "#     session.execute(text(sq), {\n",
    "#         'issnl': issnl,\n",
    "#         'old_issns': old_issns,\n",
    "#         'new_issns': json.dumps(issn_list),\n",
    "#         'old_issnl': old_issnl,\n",
    "#         'old_display_name': old_display_name,\n",
    "#         'new_display_name': title if title else old_display_name,\n",
    "#         'updated_date': updated_date,\n",
    "#         'source_id': source.id,\n",
    "#     }) "
   ]
  },
  {
   "cell_type": "code",
   "execution_count": null,
   "metadata": {},
   "outputs": [],
   "source": [
    "# try:\n",
    "#     # for issnl, issn_list in issnl_to_issn.items():\n",
    "#     # for issnl, issn_list in tqdm(issnl_to_issn.items(), total=len(issnl_to_issn)):\n",
    "#     for issnl in tqdm(multfound['issnl'].values, total=len(multfound)):\n",
    "#         now = datetime.now(timezone.utc).isoformat()\n",
    "#         issn_list = issnl_to_issn[issnl]\n",
    "#         title = issnl_display_name[issnl]\n",
    "#         try:\n",
    "#             if issnl not in issn_list:\n",
    "#                 issn_list.append(issnl)\n",
    "#             # move issnl to the front\n",
    "#             issn_list.insert(0, issn_list.pop(issn_list.index(issnl)))\n",
    "#             update_source(issnl, issn_list, title, updated_date=now, session=db.session)\n",
    "#             for issn in issn_list:\n",
    "#                 sq = \"\"\"update issn_audit_20240321.issn_ic_datafile_202402 set resolved = true\n",
    "#                     where issn = :issn\n",
    "#                     \"\"\"\n",
    "#                 db.session.execute(text(sq), {\n",
    "#                     'issn': issn,\n",
    "#                 })\n",
    "#         except KeyError:\n",
    "#             continue\n",
    "#         except MultipleResultsFound:\n",
    "#             continue\n",
    "\n",
    "#     db.session.commit()\n",
    "# finally:\n",
    "#     db.session.close()"
   ]
  },
  {
   "cell_type": "code",
   "execution_count": null,
   "metadata": {},
   "outputs": [],
   "source": []
  },
  {
   "cell_type": "code",
   "execution_count": null,
   "metadata": {},
   "outputs": [],
   "source": []
  },
  {
   "cell_type": "code",
   "execution_count": null,
   "metadata": {},
   "outputs": [],
   "source": []
  }
 ],
 "metadata": {
  "kernelspec": {
   "display_name": "venv",
   "language": "python",
   "name": "python3"
  },
  "language_info": {
   "codemirror_mode": {
    "name": "ipython",
    "version": 3
   },
   "file_extension": ".py",
   "mimetype": "text/x-python",
   "name": "python",
   "nbconvert_exporter": "python",
   "pygments_lexer": "ipython3",
   "version": "3.9.16"
  }
 },
 "nbformat": 4,
 "nbformat_minor": 2
}
