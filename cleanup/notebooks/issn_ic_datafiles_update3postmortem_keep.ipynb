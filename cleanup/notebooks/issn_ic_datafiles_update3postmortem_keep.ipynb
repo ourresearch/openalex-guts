{
 "cells": [
  {
   "cell_type": "markdown",
   "metadata": {},
   "source": [
    "# update3 post-mortem"
   ]
  },
  {
   "cell_type": "code",
   "execution_count": 1,
   "metadata": {},
   "outputs": [],
   "source": [
    "import sys"
   ]
  },
  {
   "cell_type": "code",
   "execution_count": 2,
   "metadata": {},
   "outputs": [],
   "source": [
    "sys.path.append('../..')"
   ]
  },
  {
   "cell_type": "code",
   "execution_count": 3,
   "metadata": {},
   "outputs": [],
   "source": [
    "from datetime import datetime, timezone\n",
    "import json\n",
    "from tqdm import tqdm\n",
    "from pathlib import Path\n",
    "import gzip"
   ]
  },
  {
   "cell_type": "code",
   "execution_count": 4,
   "metadata": {},
   "outputs": [],
   "source": [
    "import pandas as pd\n",
    "import numpy as np"
   ]
  },
  {
   "cell_type": "code",
   "execution_count": 5,
   "metadata": {},
   "outputs": [
    {
     "name": "stdout",
     "output_type": "stream",
     "text": [
      "140259440157056: loading merged_into_institutions_dict\n",
      "140259440157056: loading valid concept IDs\n",
      "140259440157056: loading valid topic IDs\n"
     ]
    }
   ],
   "source": [
    "from app import db\n",
    "from models import Source, ISSNtoISSNL\n",
    "from sqlalchemy import text\n",
    "from sqlalchemy.orm import Load\n",
    "from sqlalchemy.exc import MultipleResultsFound"
   ]
  },
  {
   "cell_type": "code",
   "execution_count": null,
   "metadata": {},
   "outputs": [],
   "source": []
  },
  {
   "cell_type": "code",
   "execution_count": 12,
   "metadata": {},
   "outputs": [
    {
     "name": "stdout",
     "output_type": "stream",
     "text": [
      "CPU times: user 38.9 s, sys: 157 ms, total: 39.1 s\n",
      "Wall time: 39.1 s\n"
     ]
    }
   ],
   "source": [
    "%%time\n",
    "df_issnl_file = pd.read_excel('../data/issn_audit_20240301/ISSN-Ls_openalex.xlsx', sheet_name='Sheet')"
   ]
  },
  {
   "cell_type": "code",
   "execution_count": 13,
   "metadata": {},
   "outputs": [
    {
     "name": "stdout",
     "output_type": "stream",
     "text": [
      "<class 'pandas.core.frame.DataFrame'>\n",
      "RangeIndex: 215085 entries, 0 to 215084\n",
      "Data columns (total 39 columns):\n",
      " #   Column                Non-Null Count   Dtype \n",
      "---  ------                --------------   ----- \n",
      " 0   Original line number  215085 non-null  int64 \n",
      " 1   ISSNs                 215085 non-null  object\n",
      " 2   Valid ISSNs           213567 non-null  object\n",
      " 3   ISSN-L                213567 non-null  object\n",
      " 4   Diagnostics           145124 non-null  object\n",
      " 5   Cluster Title         213487 non-null  object\n",
      " 6   Print issn            176267 non-null  object\n",
      " 7   Print category        176267 non-null  object\n",
      " 8   Print medium          176267 non-null  object\n",
      " 9   Print frequency       176243 non-null  object\n",
      " 10  Print country         176267 non-null  object\n",
      " 11  Print center          176267 non-null  object\n",
      " 12  Print language        176110 non-null  object\n",
      " 13  Print start           176267 non-null  object\n",
      " 14  Print end             176267 non-null  object\n",
      " 15  Print title           176267 non-null  object\n",
      " 16  Print comment         1250 non-null    object\n",
      " 17  Online issn           184891 non-null  object\n",
      " 18  Online category       184891 non-null  object\n",
      " 19  Online medium         184891 non-null  object\n",
      " 20  Online frequency      184875 non-null  object\n",
      " 21  Online country        184891 non-null  object\n",
      " 22  Online center         184891 non-null  object\n",
      " 23  Online language       184746 non-null  object\n",
      " 24  Online start          184891 non-null  object\n",
      " 25  Online end            184891 non-null  object\n",
      " 26  Online title          184889 non-null  object\n",
      " 27  Online comment        1182 non-null    object\n",
      " 28  Disk issn             2930 non-null    object\n",
      " 29  Disk category         2930 non-null    object\n",
      " 30  Disk medium           2930 non-null    object\n",
      " 31  Disk frequency        2930 non-null    object\n",
      " 32  Disk country          2930 non-null    object\n",
      " 33  Disk center           2930 non-null    object\n",
      " 34  Disk language         2879 non-null    object\n",
      " 35  Disk start            2930 non-null    object\n",
      " 36  Disk end              2930 non-null    object\n",
      " 37  Disk title            2930 non-null    object\n",
      " 38  Disk comment          75 non-null      object\n",
      "dtypes: int64(1), object(38)\n",
      "memory usage: 64.0+ MB\n"
     ]
    }
   ],
   "source": [
    "df_issnl_file.info()"
   ]
  },
  {
   "cell_type": "code",
   "execution_count": 15,
   "metadata": {},
   "outputs": [],
   "source": [
    "col_rename = {\n",
    "    colname: colname.lower().replace('-', '').replace(' ', '_')\n",
    "    for colname in df_issnl_file.columns\n",
    "}\n",
    "df_issnl_file.rename(columns=col_rename, inplace=True)"
   ]
  },
  {
   "cell_type": "code",
   "execution_count": 17,
   "metadata": {},
   "outputs": [],
   "source": [
    "df_issnl_file.set_index('issns', verify_integrity=True, inplace=True)"
   ]
  },
  {
   "cell_type": "code",
   "execution_count": 19,
   "metadata": {},
   "outputs": [
    {
     "name": "stdout",
     "output_type": "stream",
     "text": [
      "CPU times: user 1min 33s, sys: 655 ms, total: 1min 34s\n",
      "Wall time: 4min 27s\n"
     ]
    },
    {
     "data": {
      "text/plain": [
       "215085"
      ]
     },
     "execution_count": 19,
     "metadata": {},
     "output_type": "execute_result"
    }
   ],
   "source": [
    "%%time\n",
    "df_issnl_file.to_sql('issn_ic_datafile_expanded_202402',\n",
    "                     db.engine,\n",
    "                     schema='issn_audit_20240321',\n",
    "                     index=True,\n",
    "                     chunksize=10000,\n",
    "                     method='multi')"
   ]
  },
  {
   "cell_type": "code",
   "execution_count": null,
   "metadata": {},
   "outputs": [],
   "source": []
  },
  {
   "cell_type": "code",
   "execution_count": 26,
   "metadata": {},
   "outputs": [
    {
     "name": "stdout",
     "output_type": "stream",
     "text": [
      "CPU times: user 1.29 s, sys: 241 ms, total: 1.53 s\n",
      "Wall time: 3.38 s\n"
     ]
    }
   ],
   "source": [
    "%%time\n",
    "df_issnl_file_fromdb = pd.read_sql_query('select * from issn_audit_20240321.issn_ic_datafile_expanded_202402', db.engine)"
   ]
  },
  {
   "cell_type": "code",
   "execution_count": 27,
   "metadata": {},
   "outputs": [
    {
     "name": "stdout",
     "output_type": "stream",
     "text": [
      "215085\n",
      "213567\n",
      "213383\n"
     ]
    },
    {
     "name": "stderr",
     "output_type": "stream",
     "text": [
      "/tmp/ipykernel_8703/1415523905.py:3: SettingWithCopyWarning: \n",
      "A value is trying to be set on a copy of a slice from a DataFrame\n",
      "\n",
      "See the caveats in the documentation: https://pandas.pydata.org/pandas-docs/stable/user_guide/indexing.html#returning-a-view-versus-a-copy\n",
      "  issn_to_issnl_fromdb.dropna(inplace=True)\n",
      "/tmp/ipykernel_8703/1415523905.py:5: SettingWithCopyWarning: \n",
      "A value is trying to be set on a copy of a slice from a DataFrame\n",
      "\n",
      "See the caveats in the documentation: https://pandas.pydata.org/pandas-docs/stable/user_guide/indexing.html#returning-a-view-versus-a-copy\n",
      "  issn_to_issnl_fromdb.drop_duplicates(inplace=True)\n"
     ]
    }
   ],
   "source": [
    "issn_to_issnl_fromdb = df_issnl_file_fromdb[['valid_issns', 'issnl']]\n",
    "print(len(issn_to_issnl_fromdb))\n",
    "issn_to_issnl_fromdb.dropna(inplace=True)\n",
    "print(len(issn_to_issnl_fromdb))\n",
    "issn_to_issnl_fromdb.drop_duplicates(inplace=True)\n",
    "print(len(issn_to_issnl_fromdb))"
   ]
  },
  {
   "cell_type": "code",
   "execution_count": 33,
   "metadata": {},
   "outputs": [
    {
     "name": "stderr",
     "output_type": "stream",
     "text": [
      "/tmp/ipykernel_8703/770111589.py:1: SettingWithCopyWarning: \n",
      "A value is trying to be set on a copy of a slice from a DataFrame\n",
      "\n",
      "See the caveats in the documentation: https://pandas.pydata.org/pandas-docs/stable/user_guide/indexing.html#returning-a-view-versus-a-copy\n",
      "  issn_to_issnl_fromdb.rename(columns={'valid_issns': 'issn'}, inplace=True)\n"
     ]
    }
   ],
   "source": [
    "issn_to_issnl_fromdb.rename(columns={'valid_issns': 'issn'}, inplace=True)"
   ]
  },
  {
   "cell_type": "code",
   "execution_count": 30,
   "metadata": {},
   "outputs": [],
   "source": [
    "df_issnl = pd.read_sql_query(\"\"\"select * from mid.journal_issn_to_issnl\"\"\", db.engine)"
   ]
  },
  {
   "cell_type": "code",
   "execution_count": 34,
   "metadata": {},
   "outputs": [],
   "source": [
    "m = issn_to_issnl_fromdb.merge(df_issnl, how='outer', on=['issn', 'issnl'], indicator=True)"
   ]
  },
  {
   "cell_type": "code",
   "execution_count": 36,
   "metadata": {},
   "outputs": [
    {
     "data": {
      "text/plain": [
       "_merge\n",
       "both          213381\n",
       "right_only       108\n",
       "left_only          2\n",
       "Name: count, dtype: int64"
      ]
     },
     "execution_count": 36,
     "metadata": {},
     "output_type": "execute_result"
    }
   ],
   "source": [
    "m['_merge'].value_counts()"
   ]
  },
  {
   "cell_type": "code",
   "execution_count": 40,
   "metadata": {},
   "outputs": [],
   "source": [
    "try:\n",
    "    for _, row in m[m['_merge']=='left_only'].iterrows():\n",
    "        now = datetime.now(timezone.utc).isoformat()\n",
    "        o = ISSNtoISSNL(issn=row['issn'], issnl=row['issn'], updated_date=now)\n",
    "        db.session.add(o)\n",
    "    db.session.commit()\n",
    "finally:\n",
    "    db.session.close()"
   ]
  },
  {
   "cell_type": "code",
   "execution_count": null,
   "metadata": {},
   "outputs": [],
   "source": []
  },
  {
   "cell_type": "code",
   "execution_count": 6,
   "metadata": {},
   "outputs": [
    {
     "name": "stdout",
     "output_type": "stream",
     "text": [
      "CPU times: user 1.43 s, sys: 66 ms, total: 1.49 s\n",
      "Wall time: 2.35 s\n"
     ]
    }
   ],
   "source": [
    "%%time\n",
    "sq = \"\"\"select journal_id, display_name, issn, issns, type, country_code, alternate_titles, publisher_id\n",
    "    from mid.journal\n",
    "    where merge_into_id is null\"\"\"\n",
    "df_midjournal = pd.read_sql_query(sq, db.engine)"
   ]
  },
  {
   "cell_type": "code",
   "execution_count": 7,
   "metadata": {},
   "outputs": [],
   "source": [
    "df_midjournal.dropna(subset='issn', inplace=True)"
   ]
  },
  {
   "cell_type": "code",
   "execution_count": 8,
   "metadata": {},
   "outputs": [
    {
     "name": "stdout",
     "output_type": "stream",
     "text": [
      "<class 'pandas.core.frame.DataFrame'>\n",
      "Index: 148415 entries, 1 to 261660\n",
      "Data columns (total 8 columns):\n",
      " #   Column            Non-Null Count   Dtype  \n",
      "---  ------            --------------   -----  \n",
      " 0   journal_id        148415 non-null  int64  \n",
      " 1   display_name      148415 non-null  object \n",
      " 2   issn              148415 non-null  object \n",
      " 3   issns             148415 non-null  object \n",
      " 4   type              148290 non-null  object \n",
      " 5   country_code      109641 non-null  object \n",
      " 6   alternate_titles  118625 non-null  object \n",
      " 7   publisher_id      67149 non-null   float64\n",
      "dtypes: float64(1), int64(1), object(6)\n",
      "memory usage: 10.2+ MB\n"
     ]
    }
   ],
   "source": [
    "df_midjournal.info()"
   ]
  },
  {
   "cell_type": "code",
   "execution_count": 9,
   "metadata": {},
   "outputs": [
    {
     "data": {
      "text/plain": [
       "4260"
      ]
     },
     "execution_count": 9,
     "metadata": {},
     "output_type": "execute_result"
    }
   ],
   "source": [
    "df_midjournal['issn'].duplicated().sum()"
   ]
  },
  {
   "cell_type": "code",
   "execution_count": 13,
   "metadata": {},
   "outputs": [
    {
     "data": {
      "text/plain": [
       "no_issnl_found\n",
       "False    144547\n",
       "True       3868\n",
       "Name: count, dtype: int64"
      ]
     },
     "execution_count": 13,
     "metadata": {},
     "output_type": "execute_result"
    }
   ],
   "source": [
    "df_midjournal['no_issnl_found'] = ~(df_midjournal['issn'].isin(df_issnl['issn'].values))\n",
    "df_midjournal['no_issnl_found'].value_counts()"
   ]
  },
  {
   "cell_type": "code",
   "execution_count": 14,
   "metadata": {},
   "outputs": [
    {
     "data": {
      "text/html": [
       "<div>\n",
       "<style scoped>\n",
       "    .dataframe tbody tr th:only-of-type {\n",
       "        vertical-align: middle;\n",
       "    }\n",
       "\n",
       "    .dataframe tbody tr th {\n",
       "        vertical-align: top;\n",
       "    }\n",
       "\n",
       "    .dataframe thead th {\n",
       "        text-align: right;\n",
       "    }\n",
       "</style>\n",
       "<table border=\"1\" class=\"dataframe\">\n",
       "  <thead>\n",
       "    <tr style=\"text-align: right;\">\n",
       "      <th></th>\n",
       "      <th>journal_id</th>\n",
       "      <th>display_name</th>\n",
       "      <th>issn</th>\n",
       "      <th>issns</th>\n",
       "      <th>type</th>\n",
       "      <th>country_code</th>\n",
       "      <th>alternate_titles</th>\n",
       "      <th>publisher_id</th>\n",
       "      <th>no_issnl_found</th>\n",
       "    </tr>\n",
       "  </thead>\n",
       "  <tbody>\n",
       "    <tr>\n",
       "      <th>82</th>\n",
       "      <td>4391422086</td>\n",
       "      <td>Proceedings of the Association for Japanese Li...</td>\n",
       "      <td>1531-5533</td>\n",
       "      <td>[\"1531-5533\"]</td>\n",
       "      <td>journal</td>\n",
       "      <td>None</td>\n",
       "      <td>None</td>\n",
       "      <td>NaN</td>\n",
       "      <td>True</td>\n",
       "    </tr>\n",
       "    <tr>\n",
       "      <th>112</th>\n",
       "      <td>4391633437</td>\n",
       "      <td>Co-Catalyst Journal of Science Education Resea...</td>\n",
       "      <td>3026-1597</td>\n",
       "      <td>[\"3026-1597\"]</td>\n",
       "      <td>journal</td>\n",
       "      <td>None</td>\n",
       "      <td>None</td>\n",
       "      <td>4.310315e+09</td>\n",
       "      <td>True</td>\n",
       "    </tr>\n",
       "    <tr>\n",
       "      <th>239</th>\n",
       "      <td>4391422089</td>\n",
       "      <td>Nihonkai Cetology</td>\n",
       "      <td>0918-3930</td>\n",
       "      <td>[\"0918-3930\", \"2435-3760\"]</td>\n",
       "      <td>journal</td>\n",
       "      <td>None</td>\n",
       "      <td>None</td>\n",
       "      <td>NaN</td>\n",
       "      <td>True</td>\n",
       "    </tr>\n",
       "    <tr>\n",
       "      <th>250</th>\n",
       "      <td>4391633469</td>\n",
       "      <td>Metrik Serial Teknologi dan Sains</td>\n",
       "      <td>2774-2989</td>\n",
       "      <td>[\"2774-2989\"]</td>\n",
       "      <td>journal</td>\n",
       "      <td>None</td>\n",
       "      <td>None</td>\n",
       "      <td>NaN</td>\n",
       "      <td>True</td>\n",
       "    </tr>\n",
       "    <tr>\n",
       "      <th>251</th>\n",
       "      <td>4391633474</td>\n",
       "      <td>MANTRA Jurnal Sastra Indonesia (Sastra Bahasa ...</td>\n",
       "      <td>2987-8969</td>\n",
       "      <td>[\"2987-8969\"]</td>\n",
       "      <td>journal</td>\n",
       "      <td>None</td>\n",
       "      <td>None</td>\n",
       "      <td>NaN</td>\n",
       "      <td>True</td>\n",
       "    </tr>\n",
       "    <tr>\n",
       "      <th>...</th>\n",
       "      <td>...</td>\n",
       "      <td>...</td>\n",
       "      <td>...</td>\n",
       "      <td>...</td>\n",
       "      <td>...</td>\n",
       "      <td>...</td>\n",
       "      <td>...</td>\n",
       "      <td>...</td>\n",
       "      <td>...</td>\n",
       "    </tr>\n",
       "    <tr>\n",
       "      <th>259612</th>\n",
       "      <td>4210178947</td>\n",
       "      <td>Proceedings of the Aristotelian Society (Hardb...</td>\n",
       "      <td>0066-7372</td>\n",
       "      <td>[\"0066-7372\",\"0066-7373\"]</td>\n",
       "      <td>journal</td>\n",
       "      <td>None</td>\n",
       "      <td>[]</td>\n",
       "      <td>4.310321e+09</td>\n",
       "      <td>True</td>\n",
       "    </tr>\n",
       "    <tr>\n",
       "      <th>260162</th>\n",
       "      <td>4386621720</td>\n",
       "      <td>Les cahiers du numérique</td>\n",
       "      <td>1469-3380</td>\n",
       "      <td>[\"1469-3380\"]</td>\n",
       "      <td>journal</td>\n",
       "      <td>None</td>\n",
       "      <td>None</td>\n",
       "      <td>NaN</td>\n",
       "      <td>True</td>\n",
       "    </tr>\n",
       "    <tr>\n",
       "      <th>260183</th>\n",
       "      <td>4306524739</td>\n",
       "      <td>Protokolle zur Bibel</td>\n",
       "      <td>1996-0042</td>\n",
       "      <td>[\"2412-2467\"]</td>\n",
       "      <td>journal</td>\n",
       "      <td>None</td>\n",
       "      <td>[]</td>\n",
       "      <td>NaN</td>\n",
       "      <td>True</td>\n",
       "    </tr>\n",
       "    <tr>\n",
       "      <th>260811</th>\n",
       "      <td>4387287589</td>\n",
       "      <td>Vjesnik dalmatinskih arhiva (Online)</td>\n",
       "      <td>2757-0932</td>\n",
       "      <td>[\"2757-0932\", \"2806-8459\"]</td>\n",
       "      <td>journal</td>\n",
       "      <td>None</td>\n",
       "      <td>None</td>\n",
       "      <td>NaN</td>\n",
       "      <td>True</td>\n",
       "    </tr>\n",
       "    <tr>\n",
       "      <th>260929</th>\n",
       "      <td>4306512670</td>\n",
       "      <td>ICIDCA Sobre los Derivados de la Caña de Azúcar</td>\n",
       "      <td>1025-3076</td>\n",
       "      <td>[\"2410-8529\"]</td>\n",
       "      <td>journal</td>\n",
       "      <td>None</td>\n",
       "      <td>[]</td>\n",
       "      <td>NaN</td>\n",
       "      <td>True</td>\n",
       "    </tr>\n",
       "  </tbody>\n",
       "</table>\n",
       "<p>3868 rows × 9 columns</p>\n",
       "</div>"
      ],
      "text/plain": [
       "        journal_id                                       display_name   \n",
       "82      4391422086  Proceedings of the Association for Japanese Li...  \\\n",
       "112     4391633437  Co-Catalyst Journal of Science Education Resea...   \n",
       "239     4391422089                                  Nihonkai Cetology   \n",
       "250     4391633469                  Metrik Serial Teknologi dan Sains   \n",
       "251     4391633474  MANTRA Jurnal Sastra Indonesia (Sastra Bahasa ...   \n",
       "...            ...                                                ...   \n",
       "259612  4210178947  Proceedings of the Aristotelian Society (Hardb...   \n",
       "260162  4386621720                           Les cahiers du numérique   \n",
       "260183  4306524739                               Protokolle zur Bibel   \n",
       "260811  4387287589               Vjesnik dalmatinskih arhiva (Online)   \n",
       "260929  4306512670    ICIDCA Sobre los Derivados de la Caña de Azúcar   \n",
       "\n",
       "             issn                       issns     type country_code   \n",
       "82      1531-5533               [\"1531-5533\"]  journal         None  \\\n",
       "112     3026-1597               [\"3026-1597\"]  journal         None   \n",
       "239     0918-3930  [\"0918-3930\", \"2435-3760\"]  journal         None   \n",
       "250     2774-2989               [\"2774-2989\"]  journal         None   \n",
       "251     2987-8969               [\"2987-8969\"]  journal         None   \n",
       "...           ...                         ...      ...          ...   \n",
       "259612  0066-7372   [\"0066-7372\",\"0066-7373\"]  journal         None   \n",
       "260162  1469-3380               [\"1469-3380\"]  journal         None   \n",
       "260183  1996-0042               [\"2412-2467\"]  journal         None   \n",
       "260811  2757-0932  [\"2757-0932\", \"2806-8459\"]  journal         None   \n",
       "260929  1025-3076               [\"2410-8529\"]  journal         None   \n",
       "\n",
       "       alternate_titles  publisher_id  no_issnl_found  \n",
       "82                 None           NaN            True  \n",
       "112                None  4.310315e+09            True  \n",
       "239                None           NaN            True  \n",
       "250                None           NaN            True  \n",
       "251                None           NaN            True  \n",
       "...                 ...           ...             ...  \n",
       "259612               []  4.310321e+09            True  \n",
       "260162             None           NaN            True  \n",
       "260183               []           NaN            True  \n",
       "260811             None           NaN            True  \n",
       "260929               []           NaN            True  \n",
       "\n",
       "[3868 rows x 9 columns]"
      ]
     },
     "execution_count": 14,
     "metadata": {},
     "output_type": "execute_result"
    }
   ],
   "source": [
    "df_midjournal[df_midjournal['no_issnl_found']]"
   ]
  },
  {
   "cell_type": "code",
   "execution_count": 19,
   "metadata": {},
   "outputs": [
    {
     "data": {
      "text/html": [
       "<div>\n",
       "<style scoped>\n",
       "    .dataframe tbody tr th:only-of-type {\n",
       "        vertical-align: middle;\n",
       "    }\n",
       "\n",
       "    .dataframe tbody tr th {\n",
       "        vertical-align: top;\n",
       "    }\n",
       "\n",
       "    .dataframe thead th {\n",
       "        text-align: right;\n",
       "    }\n",
       "</style>\n",
       "<table border=\"1\" class=\"dataframe\">\n",
       "  <thead>\n",
       "    <tr style=\"text-align: right;\">\n",
       "      <th></th>\n",
       "      <th>journal_id</th>\n",
       "      <th>display_name</th>\n",
       "      <th>issn</th>\n",
       "      <th>issns</th>\n",
       "      <th>type</th>\n",
       "      <th>country_code</th>\n",
       "      <th>alternate_titles</th>\n",
       "      <th>publisher_id</th>\n",
       "    </tr>\n",
       "  </thead>\n",
       "  <tbody>\n",
       "    <tr>\n",
       "      <th>54910</th>\n",
       "      <td>4306504665</td>\n",
       "      <td>Boletín de la Academia colombiana</td>\n",
       "      <td>0001-3773</td>\n",
       "      <td>[\"0001-3773\"]</td>\n",
       "      <td>journal</td>\n",
       "      <td>None</td>\n",
       "      <td>[]</td>\n",
       "      <td>NaN</td>\n",
       "    </tr>\n",
       "    <tr>\n",
       "      <th>136919</th>\n",
       "      <td>4306504666</td>\n",
       "      <td>Boletín de la Academia Colombiana</td>\n",
       "      <td>0001-3773</td>\n",
       "      <td>[\"0001-3773\"]</td>\n",
       "      <td>journal</td>\n",
       "      <td>None</td>\n",
       "      <td>[]</td>\n",
       "      <td>NaN</td>\n",
       "    </tr>\n",
       "    <tr>\n",
       "      <th>46084</th>\n",
       "      <td>4306500404</td>\n",
       "      <td>Acta medica Philippina</td>\n",
       "      <td>0001-6071</td>\n",
       "      <td>[\"0001-6071\", \"2094-9278\"]</td>\n",
       "      <td>journal</td>\n",
       "      <td>None</td>\n",
       "      <td>[]</td>\n",
       "      <td>4.310320e+09</td>\n",
       "    </tr>\n",
       "    <tr>\n",
       "      <th>79744</th>\n",
       "      <td>4210231482</td>\n",
       "      <td>Acta Medica Philippina</td>\n",
       "      <td>0001-6071</td>\n",
       "      <td>[\"2094-9278\",\"0001-6071\"]</td>\n",
       "      <td>journal</td>\n",
       "      <td>PH</td>\n",
       "      <td>[The National Health Science journal]</td>\n",
       "      <td>4.310320e+09</td>\n",
       "    </tr>\n",
       "    <tr>\n",
       "      <th>60458</th>\n",
       "      <td>4306500432</td>\n",
       "      <td>Acta Obstetrica et Gynaecologica Japonica</td>\n",
       "      <td>0001-6330</td>\n",
       "      <td>[\"0001-6330\"]</td>\n",
       "      <td>journal</td>\n",
       "      <td>None</td>\n",
       "      <td>[]</td>\n",
       "      <td>NaN</td>\n",
       "    </tr>\n",
       "    <tr>\n",
       "      <th>...</th>\n",
       "      <td>...</td>\n",
       "      <td>...</td>\n",
       "      <td>...</td>\n",
       "      <td>...</td>\n",
       "      <td>...</td>\n",
       "      <td>...</td>\n",
       "      <td>...</td>\n",
       "      <td>...</td>\n",
       "    </tr>\n",
       "    <tr>\n",
       "      <th>91498</th>\n",
       "      <td>4387277837</td>\n",
       "      <td>Parasites Hosts and Diseases</td>\n",
       "      <td>2982-5164</td>\n",
       "      <td>[\"2982-5164\", \"2982-6799\"]</td>\n",
       "      <td>journal</td>\n",
       "      <td>None</td>\n",
       "      <td>None</td>\n",
       "      <td>4.310319e+09</td>\n",
       "    </tr>\n",
       "    <tr>\n",
       "      <th>102645</th>\n",
       "      <td>4387281090</td>\n",
       "      <td>International Journal of Psychiatric Trainees</td>\n",
       "      <td>3005-3870</td>\n",
       "      <td>[\"3005-3870\", \"2957-4080\"]</td>\n",
       "      <td>journal</td>\n",
       "      <td>None</td>\n",
       "      <td>None</td>\n",
       "      <td>NaN</td>\n",
       "    </tr>\n",
       "    <tr>\n",
       "      <th>78775</th>\n",
       "      <td>4387292761</td>\n",
       "      <td>International Journal of Psychiatric Trainees</td>\n",
       "      <td>3005-3870</td>\n",
       "      <td>[\"3005-3870\"]</td>\n",
       "      <td>journal</td>\n",
       "      <td>None</td>\n",
       "      <td>None</td>\n",
       "      <td>NaN</td>\n",
       "    </tr>\n",
       "    <tr>\n",
       "      <th>89862</th>\n",
       "      <td>50342286</td>\n",
       "      <td>Yearbook of Pulmonary Disease</td>\n",
       "      <td>8756-3452</td>\n",
       "      <td>[\"8756-3452\"]</td>\n",
       "      <td>journal</td>\n",
       "      <td>None</td>\n",
       "      <td>[]</td>\n",
       "      <td>4.310321e+09</td>\n",
       "    </tr>\n",
       "    <tr>\n",
       "      <th>84269</th>\n",
       "      <td>4210203606</td>\n",
       "      <td>The Year book of pulmonary disease</td>\n",
       "      <td>8756-3452</td>\n",
       "      <td>[\"8756-3452\"]</td>\n",
       "      <td>journal</td>\n",
       "      <td>US</td>\n",
       "      <td>[Yearbook of pulmonary disease, Pulmonary dise...</td>\n",
       "      <td>4.310321e+09</td>\n",
       "    </tr>\n",
       "  </tbody>\n",
       "</table>\n",
       "<p>8430 rows × 8 columns</p>\n",
       "</div>"
      ],
      "text/plain": [
       "        journal_id                                   display_name       issn   \n",
       "54910   4306504665              Boletín de la Academia colombiana  0001-3773  \\\n",
       "136919  4306504666              Boletín de la Academia Colombiana  0001-3773   \n",
       "46084   4306500404                         Acta medica Philippina  0001-6071   \n",
       "79744   4210231482                         Acta Medica Philippina  0001-6071   \n",
       "60458   4306500432      Acta Obstetrica et Gynaecologica Japonica  0001-6330   \n",
       "...            ...                                            ...        ...   \n",
       "91498   4387277837                   Parasites Hosts and Diseases  2982-5164   \n",
       "102645  4387281090  International Journal of Psychiatric Trainees  3005-3870   \n",
       "78775   4387292761  International Journal of Psychiatric Trainees  3005-3870   \n",
       "89862     50342286                  Yearbook of Pulmonary Disease  8756-3452   \n",
       "84269   4210203606             The Year book of pulmonary disease  8756-3452   \n",
       "\n",
       "                             issns     type country_code   \n",
       "54910                [\"0001-3773\"]  journal         None  \\\n",
       "136919               [\"0001-3773\"]  journal         None   \n",
       "46084   [\"0001-6071\", \"2094-9278\"]  journal         None   \n",
       "79744    [\"2094-9278\",\"0001-6071\"]  journal           PH   \n",
       "60458                [\"0001-6330\"]  journal         None   \n",
       "...                            ...      ...          ...   \n",
       "91498   [\"2982-5164\", \"2982-6799\"]  journal         None   \n",
       "102645  [\"3005-3870\", \"2957-4080\"]  journal         None   \n",
       "78775                [\"3005-3870\"]  journal         None   \n",
       "89862                [\"8756-3452\"]  journal         None   \n",
       "84269                [\"8756-3452\"]  journal           US   \n",
       "\n",
       "                                         alternate_titles  publisher_id  \n",
       "54910                                                  []           NaN  \n",
       "136919                                                 []           NaN  \n",
       "46084                                                  []  4.310320e+09  \n",
       "79744               [The National Health Science journal]  4.310320e+09  \n",
       "60458                                                  []           NaN  \n",
       "...                                                   ...           ...  \n",
       "91498                                                None  4.310319e+09  \n",
       "102645                                               None           NaN  \n",
       "78775                                                None           NaN  \n",
       "89862                                                  []  4.310321e+09  \n",
       "84269   [Yearbook of pulmonary disease, Pulmonary dise...  4.310321e+09  \n",
       "\n",
       "[8430 rows x 8 columns]"
      ]
     },
     "execution_count": 19,
     "metadata": {},
     "output_type": "execute_result"
    }
   ],
   "source": [
    "df_midjournal[df_midjournal['issn'].duplicated(keep=False)].sort_values('issn')"
   ]
  },
  {
   "cell_type": "code",
   "execution_count": 20,
   "metadata": {},
   "outputs": [
    {
     "name": "stdout",
     "output_type": "stream",
     "text": [
      "CPU times: user 77.9 ms, sys: 0 ns, total: 77.9 ms\n",
      "Wall time: 837 ms\n"
     ]
    }
   ],
   "source": [
    "%%time\n",
    "# Source IDs that have already been through the updates should be protected\n",
    "sq = \"\"\"select source_id from issn_audit_20240321.update1 where reverted is false;\"\"\"\n",
    "df1 = pd.read_sql_query(sq, db.engine)\n",
    "\n",
    "sq = \"\"\"select source_id from issn_audit_20240321.update2 where reverted is false;\"\"\"\n",
    "df2 = pd.read_sql_query(sq, db.engine)\n",
    "\n",
    "df_protected = pd.concat([df1, df2])"
   ]
  },
  {
   "cell_type": "code",
   "execution_count": 22,
   "metadata": {},
   "outputs": [
    {
     "data": {
      "text/html": [
       "<div>\n",
       "<style scoped>\n",
       "    .dataframe tbody tr th:only-of-type {\n",
       "        vertical-align: middle;\n",
       "    }\n",
       "\n",
       "    .dataframe tbody tr th {\n",
       "        vertical-align: top;\n",
       "    }\n",
       "\n",
       "    .dataframe thead th {\n",
       "        text-align: right;\n",
       "    }\n",
       "</style>\n",
       "<table border=\"1\" class=\"dataframe\">\n",
       "  <thead>\n",
       "    <tr style=\"text-align: right;\">\n",
       "      <th></th>\n",
       "      <th>source_id</th>\n",
       "    </tr>\n",
       "  </thead>\n",
       "  <tbody>\n",
       "    <tr>\n",
       "      <th>0</th>\n",
       "      <td>4210234080</td>\n",
       "    </tr>\n",
       "    <tr>\n",
       "      <th>1</th>\n",
       "      <td>4387277910</td>\n",
       "    </tr>\n",
       "    <tr>\n",
       "      <th>2</th>\n",
       "      <td>4306499931</td>\n",
       "    </tr>\n",
       "    <tr>\n",
       "      <th>3</th>\n",
       "      <td>4210177666</td>\n",
       "    </tr>\n",
       "    <tr>\n",
       "      <th>4</th>\n",
       "      <td>4210223324</td>\n",
       "    </tr>\n",
       "    <tr>\n",
       "      <th>...</th>\n",
       "      <td>...</td>\n",
       "    </tr>\n",
       "    <tr>\n",
       "      <th>8854</th>\n",
       "      <td>4393920245</td>\n",
       "    </tr>\n",
       "    <tr>\n",
       "      <th>8855</th>\n",
       "      <td>4393920246</td>\n",
       "    </tr>\n",
       "    <tr>\n",
       "      <th>8856</th>\n",
       "      <td>4393920247</td>\n",
       "    </tr>\n",
       "    <tr>\n",
       "      <th>8857</th>\n",
       "      <td>4393920248</td>\n",
       "    </tr>\n",
       "    <tr>\n",
       "      <th>8858</th>\n",
       "      <td>4393920249</td>\n",
       "    </tr>\n",
       "  </tbody>\n",
       "</table>\n",
       "<p>134134 rows × 1 columns</p>\n",
       "</div>"
      ],
      "text/plain": [
       "       source_id\n",
       "0     4210234080\n",
       "1     4387277910\n",
       "2     4306499931\n",
       "3     4210177666\n",
       "4     4210223324\n",
       "...          ...\n",
       "8854  4393920245\n",
       "8855  4393920246\n",
       "8856  4393920247\n",
       "8857  4393920248\n",
       "8858  4393920249\n",
       "\n",
       "[134134 rows x 1 columns]"
      ]
     },
     "execution_count": 22,
     "metadata": {},
     "output_type": "execute_result"
    }
   ],
   "source": [
    "df_protected"
   ]
  },
  {
   "cell_type": "code",
   "execution_count": 28,
   "metadata": {},
   "outputs": [],
   "source": [
    "df_midjournal['is_protected'] = df_midjournal['journal_id'].isin(df_protected['source_id'].values)"
   ]
  },
  {
   "cell_type": "code",
   "execution_count": 30,
   "metadata": {},
   "outputs": [
    {
     "data": {
      "text/plain": [
       "is_protected\n",
       "True     134124\n",
       "False     14291\n",
       "Name: count, dtype: int64"
      ]
     },
     "execution_count": 30,
     "metadata": {},
     "output_type": "execute_result"
    }
   ],
   "source": [
    "df_midjournal['is_protected'].value_counts()"
   ]
  },
  {
   "cell_type": "code",
   "execution_count": null,
   "metadata": {},
   "outputs": [],
   "source": []
  },
  {
   "cell_type": "code",
   "execution_count": 6,
   "metadata": {},
   "outputs": [
    {
     "name": "stdout",
     "output_type": "stream",
     "text": [
      "CPU times: user 599 ms, sys: 127 ms, total: 726 ms\n",
      "Wall time: 1.98 s\n"
     ]
    }
   ],
   "source": [
    "%%time\n",
    "sq = \"\"\"select * from issn_audit_20240321.issn_ic_datafile_202402\"\"\"\n",
    "df_datafile = pd.read_sql_query(sq, db.engine)"
   ]
  },
  {
   "cell_type": "code",
   "execution_count": 7,
   "metadata": {},
   "outputs": [
    {
     "data": {
      "text/plain": [
       "140984"
      ]
     },
     "execution_count": 7,
     "metadata": {},
     "output_type": "execute_result"
    }
   ],
   "source": [
    "# get dict of issnl to issn\n",
    "x = df_datafile.dropna(subset=['issnl'])\n",
    "x = x[x['category'].isin(['Register', 'Work', 'Free', 'Validation Request'])]\n",
    "x = x[['issn', 'issnl']]\n",
    "issnl_to_issn = {}\n",
    "ignore = [\n",
    "    '0000-0000',\n",
    "]\n",
    "x = x[~(x['issnl'].isin(ignore))]\n",
    "for name, gbdf in x.groupby('issnl'):\n",
    "    if name in ignore:\n",
    "        continue\n",
    "    issnl_to_issn[name] = gbdf['issn'].tolist()\n",
    "len(issnl_to_issn)"
   ]
  },
  {
   "cell_type": "code",
   "execution_count": null,
   "metadata": {},
   "outputs": [],
   "source": []
  },
  {
   "cell_type": "code",
   "execution_count": 17,
   "metadata": {},
   "outputs": [],
   "source": [
    "issn = '0001-5113'\n",
    "try:\n",
    "    source = db.session.query(Source).options(Load(Source).lazyload('*')).filter_by(issn=issn).all()\n",
    "    if source is None:\n",
    "        source = db.session.query(Source).options(Load(Source).lazyload('*')).filter(Source.issns.contains(issn)).all()\n",
    "finally:\n",
    "    db.session.close()\n"
   ]
  },
  {
   "cell_type": "code",
   "execution_count": 18,
   "metadata": {},
   "outputs": [
    {
     "data": {
      "text/plain": [
       "[<Source ( http://localhost:5007/S86406033?apiurls ) 86406033 Acta Adriatica>,\n",
       " <Source ( http://localhost:5007/S2764458511?apiurls ) 2764458511 Acta Adriatica: International Journal of Marine Sciences>]"
      ]
     },
     "execution_count": 18,
     "metadata": {},
     "output_type": "execute_result"
    }
   ],
   "source": [
    "source"
   ]
  }
 ],
 "metadata": {
  "kernelspec": {
   "display_name": "venv",
   "language": "python",
   "name": "python3"
  },
  "language_info": {
   "codemirror_mode": {
    "name": "ipython",
    "version": 3
   },
   "file_extension": ".py",
   "mimetype": "text/x-python",
   "name": "python",
   "nbconvert_exporter": "python",
   "pygments_lexer": "ipython3",
   "version": "3.9.16"
  }
 },
 "nbformat": 4,
 "nbformat_minor": 2
}
