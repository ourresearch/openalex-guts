{
 "cells": [
  {
   "cell_type": "code",
   "execution_count": 1,
   "metadata": {},
   "outputs": [],
   "source": [
    "import sys"
   ]
  },
  {
   "cell_type": "code",
   "execution_count": 2,
   "metadata": {},
   "outputs": [],
   "source": [
    "sys.path.append('../..')"
   ]
  },
  {
   "cell_type": "code",
   "execution_count": 3,
   "metadata": {},
   "outputs": [],
   "source": [
    "from datetime import datetime"
   ]
  },
  {
   "cell_type": "code",
   "execution_count": 4,
   "metadata": {},
   "outputs": [
    {
     "name": "stdout",
     "output_type": "stream",
     "text": [
      "139745318568320: loading merged_into_institutions_dict\n",
      "139745318568320: loading valid concept IDs\n",
      "139745318568320: loading valid topic IDs\n"
     ]
    }
   ],
   "source": [
    "from app import db\n",
    "from models import Type as DBType\n",
    "from models import SDG"
   ]
  },
  {
   "cell_type": "code",
   "execution_count": 6,
   "metadata": {},
   "outputs": [],
   "source": [
    "d = \"\"\"\n",
    "reference-entry\tEntries within reference materials, such as encyclopedias and dictionaries.\n",
    "standard\tStandards developed by Standards Development Organizations (SDOs) or consortia.\n",
    "dataset\tDataset records capture information about one or more database records or collections.\n",
    "erratum\tCorrections of existing works.\n",
    "paratext\tParatext are works that represent stuff that is *about* the venue (such as a journal)—rather than a scholarly work properly speaking. These include things like front-covers, back-covers, tables of contents, and the journal itself\n",
    "article\tResearch works that generally contains original research or reviews existing research. This includes journal articles, conference articles, and preprint articles.\n",
    "editorial\tGenerally short works written by the editors of journals or other publications.\n",
    "grant\tWorks associated with research grants, which provide funding to support research.\n",
    "peer-review\tReviews, reports, or comments about another work.\n",
    "report\tTechnical reports and working papers.\n",
    "letter\tThese are typically letters to the editors at journals, though it may include other types of letters.\n",
    "book-chapter\tA single chapter within a book. It is common to publish original research as book chapters in certain fields, such as computer science.\n",
    "dissertation\tDissertations and theses are works representing documents submitted by someone in completion of an academic degree or professional qualification.\n",
    "other\tWorks from Crossref marked with type \"other\".\n",
    "book\tScholarly books including reference books and monographs.\n",
    "\"\"\"\n",
    "d = [line.split('\\t') for line in d.splitlines() if line]"
   ]
  },
  {
   "cell_type": "markdown",
   "metadata": {},
   "source": [
    "### SDGs"
   ]
  },
  {
   "cell_type": "code",
   "execution_count": 17,
   "metadata": {},
   "outputs": [],
   "source": [
    "now = datetime.utcnow().isoformat()\n",
    "for type_id, description in d:\n",
    "    t = db.session.query(DBType).filter_by(type_id=type_id).one()\n",
    "    t.description = description\n",
    "    t.updated_date = now\n",
    "    db.session.add(t)\n",
    "db.session.commit()"
   ]
  },
  {
   "cell_type": "code",
   "execution_count": 6,
   "metadata": {},
   "outputs": [],
   "source": [
    "d = \"\"\"\n",
    "1\tNo poverty\tEnd poverty in all its forms everywhere.\n",
    "2\tZero hunger\tEnd hunger, achieve food security and improved nutrition and promote sustainable agriculture.\n",
    "3\tGood health and well-being\tEnsure healthy lives and promote well-being for all at all ages.\n",
    "4\tQuality education\tEnsure inclusive and equitable quality education and promote lifelong learning opportunities for all.\n",
    "5\tGender equality\tAchieve gender equality and empower all women and girls\n",
    "6\tClean water and sanitation\tEnsure availability and sustainable management of water and sanitation for all.\n",
    "7\tAffordable and clean energy\tEnsure access to affordable, reliable, sustainable and modern energy for all.\n",
    "8\tDecent work and economic growth\tPromote sustained, inclusive and sustainable economic growth, full and productive employment and decent work for all.\n",
    "9\tIndustry, innovation and infrastructure\tBuild resilient infrastructure, promote inclusive and sustainable industrialization and foster innovation.\n",
    "10\tReduced inequalities\tReduce inequality within and among countries.\n",
    "11\tSustainable cities and communities\tMake cities and human settlements inclusive, safe, resilient and sustainable.\n",
    "12\tResponsible consumption and production\tEnsure sustainable consumption and production patterns.\n",
    "13\tClimate action\tTake urgent action to combat climate change and its impacts.\n",
    "14\tLife below water\tConserve and sustainably use the oceans, seas and marine resources for sustainable development.\n",
    "15\tLife on land\tProtect, restore and promote sustainable use of terrestrial ecosystems, sustainably manage forests, combat desertification, and halt and reverse land degradation and halt biodiversity loss.\n",
    "16\tPeace, justice, and strong institutions\tPromote peaceful and inclusive societies for sustainable development, provide access to justice for all and build effective, accountable and inclusive institutions at all levels.\n",
    "17\tPartnerships for the goals\tStrengthen the means of implementation and revitalize the Global Partnership for Sustainable Development.\n",
    "\"\"\"\n",
    "d = [line.split('\\t') for line in d.splitlines() if line]"
   ]
  },
  {
   "cell_type": "code",
   "execution_count": 9,
   "metadata": {},
   "outputs": [
    {
     "data": {
      "text/plain": [
       "17"
      ]
     },
     "execution_count": 9,
     "metadata": {},
     "output_type": "execute_result"
    }
   ],
   "source": [
    "len(d)"
   ]
  },
  {
   "cell_type": "code",
   "execution_count": 10,
   "metadata": {},
   "outputs": [],
   "source": [
    "now = datetime.utcnow().isoformat()\n",
    "for sdg_id, sdg_name, description in d:\n",
    "    t = db.session.query(SDG).filter_by(sdg_id=sdg_id).one()\n",
    "    t.description = description\n",
    "    t.updated_date = now\n",
    "    db.session.add(t)\n",
    "db.session.commit()"
   ]
  },
  {
   "cell_type": "code",
   "execution_count": null,
   "metadata": {},
   "outputs": [],
   "source": []
  },
  {
   "cell_type": "code",
   "execution_count": 6,
   "metadata": {},
   "outputs": [],
   "source": [
    "from scripts.wikidata_ror.response import fetch_wikidata_response\n",
    "import requests"
   ]
  },
  {
   "cell_type": "code",
   "execution_count": 6,
   "metadata": {},
   "outputs": [],
   "source": [
    "def recurse_find_wikidata_url(x):\n",
    "    try:\n",
    "        if x.startswith('http') and 'wikidata' in x:\n",
    "            return x\n",
    "        else:\n",
    "            return None\n",
    "    except AttributeError:\n",
    "        try:\n",
    "            for k in x.keys():\n",
    "                r = recurse_find_wikidata_url(x[k])\n",
    "                if r:\n",
    "                    return r\n",
    "        except AttributeError:\n",
    "            for item in x:\n",
    "                r = recurse_find_wikidata_url(item)\n",
    "                if r:\n",
    "                    return r\n",
    "\n",
    "def get_wikidata_url_from_sdg(sdg):\n",
    "    url = sdg.un_metadata_id\n",
    "    headers = {\"Accept\": \"application/ld+json\"}\n",
    "    r = requests.get(url, headers=headers)\n",
    "    un_metadata = r.json()[0]\n",
    "    return recurse_find_wikidata_url(un_metadata)"
   ]
  },
  {
   "cell_type": "code",
   "execution_count": 7,
   "metadata": {},
   "outputs": [],
   "source": [
    "sdgs = db.session.query(SDG).all()\n",
    "sdg_wikidata_urls = {\n",
    "    sdg.sdg_id: get_wikidata_url_from_sdg(sdg)\n",
    "    for sdg in sdgs\n",
    "}"
   ]
  },
  {
   "cell_type": "code",
   "execution_count": 8,
   "metadata": {},
   "outputs": [
    {
     "data": {
      "text/plain": [
       "{17: 'http://www.wikidata.org/entity/Q53581254',\n",
       " 3: 'http://www.wikidata.org/entity/Q50216838',\n",
       " 10: 'http://www.wikidata.org/entity/Q53581222',\n",
       " 13: 'http://www.wikidata.org/entity/Q53581236',\n",
       " 4: 'http://www.wikidata.org/entity/Q53581209',\n",
       " 7: 'http://www.wikidata.org/entity/Q53581213',\n",
       " 14: 'http://www.wikidata.org/entity/Q53581239',\n",
       " 11: 'http://www.wikidata.org/entity/Q53581228',\n",
       " 16: 'http://www.wikidata.org/entity/Q53581248',\n",
       " 15: 'http://www.wikidata.org/entity/Q53581245',\n",
       " 1: 'http://www.wikidata.org/entity/Q50214636',\n",
       " 8: 'http://www.wikidata.org/entity/Q53581217',\n",
       " 6: 'http://www.wikidata.org/entity/Q48741129',\n",
       " 5: 'http://www.wikidata.org/entity/Q53581210',\n",
       " 12: 'http://www.wikidata.org/entity/Q53581232',\n",
       " 9: 'http://www.wikidata.org/entity/Q53581219',\n",
       " 2: 'http://www.wikidata.org/entity/Q50215926'}"
      ]
     },
     "execution_count": 8,
     "metadata": {},
     "output_type": "execute_result"
    }
   ],
   "source": [
    "sdg_wikidata_urls"
   ]
  },
  {
   "cell_type": "code",
   "execution_count": null,
   "metadata": {},
   "outputs": [],
   "source": []
  },
  {
   "cell_type": "code",
   "execution_count": 9,
   "metadata": {},
   "outputs": [],
   "source": [
    "now = datetime.utcnow().isoformat()\n",
    "for sdg_id, wikidata_url in sdg_wikidata_urls.items():\n",
    "    t = db.session.query(SDG).filter_by(sdg_id=sdg_id).one()\n",
    "    t.wikidata_id = wikidata_url.split('/')[-1]\n",
    "    t.updated_date = now\n",
    "    db.session.add(t)\n",
    "db.session.commit()"
   ]
  },
  {
   "cell_type": "code",
   "execution_count": 7,
   "metadata": {},
   "outputs": [],
   "source": [
    "from scripts.wikidata_ror.image_url import get_image_url, get_image_thumbnail_url"
   ]
  },
  {
   "cell_type": "code",
   "execution_count": 16,
   "metadata": {},
   "outputs": [],
   "source": [
    "image_url = get_image_url(t.wikidata_id)\n",
    "image_thumbnail_url = get_image_thumbnail_url(image_url)"
   ]
  },
  {
   "cell_type": "code",
   "execution_count": 17,
   "metadata": {},
   "outputs": [
    {
     "data": {
      "text/plain": [
       "'https://commons.wikimedia.org/w/index.php?title=Special:Redirect/file/Sustainable Development Goal 2.png&width=300'"
      ]
     },
     "execution_count": 17,
     "metadata": {},
     "output_type": "execute_result"
    }
   ],
   "source": [
    "image_thumbnail_url"
   ]
  },
  {
   "cell_type": "code",
   "execution_count": 8,
   "metadata": {},
   "outputs": [],
   "source": [
    "try:\n",
    "    sdgs = db.session.query(SDG).all()\n",
    "    now = datetime.utcnow().isoformat()\n",
    "    for sdg in sdgs:\n",
    "        image_url = get_image_url(sdg.wikidata_id)\n",
    "        image_thumbnail_url = get_image_thumbnail_url(image_url)\n",
    "        sdg.image_url = image_url\n",
    "        sdg.image_thumbnail_url = image_thumbnail_url\n",
    "        sdg.updated_date = now\n",
    "        db.session.add(sdg)\n",
    "    db.session.commit()\n",
    "finally:\n",
    "    db.session.close()\n"
   ]
  },
  {
   "cell_type": "code",
   "execution_count": null,
   "metadata": {},
   "outputs": [],
   "source": []
  }
 ],
 "metadata": {
  "kernelspec": {
   "display_name": "venv",
   "language": "python",
   "name": "python3"
  },
  "language_info": {
   "codemirror_mode": {
    "name": "ipython",
    "version": 3
   },
   "file_extension": ".py",
   "mimetype": "text/x-python",
   "name": "python",
   "nbconvert_exporter": "python",
   "pygments_lexer": "ipython3",
   "version": "3.9.16"
  }
 },
 "nbformat": 4,
 "nbformat_minor": 2
}
