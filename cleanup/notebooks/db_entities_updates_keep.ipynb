{
 "cells": [
  {
   "cell_type": "code",
   "execution_count": 1,
   "metadata": {},
   "outputs": [],
   "source": [
    "import sys"
   ]
  },
  {
   "cell_type": "code",
   "execution_count": 2,
   "metadata": {},
   "outputs": [],
   "source": [
    "sys.path.append('../..')"
   ]
  },
  {
   "cell_type": "code",
   "execution_count": 15,
   "metadata": {},
   "outputs": [],
   "source": [
    "from datetime import datetime"
   ]
  },
  {
   "cell_type": "code",
   "execution_count": 3,
   "metadata": {},
   "outputs": [],
   "source": [
    "from app import db\n",
    "from models import Type as DBType"
   ]
  },
  {
   "cell_type": "code",
   "execution_count": 6,
   "metadata": {},
   "outputs": [],
   "source": [
    "d = \"\"\"\n",
    "reference-entry\tEntries within reference materials, such as encyclopedias and dictionaries.\n",
    "standard\tStandards developed by Standards Development Organizations (SDOs) or consortia.\n",
    "dataset\tDataset records capture information about one or more database records or collections.\n",
    "erratum\tCorrections of existing works.\n",
    "paratext\tParatext are works that represent stuff that is *about* the venue (such as a journal)—rather than a scholarly work properly speaking. These include things like front-covers, back-covers, tables of contents, and the journal itself\n",
    "article\tResearch works that generally contains original research or reviews existing research. This includes journal articles, conference articles, and preprint articles.\n",
    "editorial\tGenerally short works written by the editors of journals or other publications.\n",
    "grant\tWorks associated with research grants, which provide funding to support research.\n",
    "peer-review\tReviews, reports, or comments about another work.\n",
    "report\tTechnical reports and working papers.\n",
    "letter\tThese are typically letters to the editors at journals, though it may include other types of letters.\n",
    "book-chapter\tA single chapter within a book. It is common to publish original research as book chapters in certain fields, such as computer science.\n",
    "dissertation\tDissertations and theses are works representing documents submitted by someone in completion of an academic degree or professional qualification.\n",
    "other\tWorks from Crossref marked with type \"other\".\n",
    "book\tScholarly books including reference books and monographs.\n",
    "\"\"\"\n",
    "d = [line.split('\\t') for line in d.splitlines() if line]"
   ]
  },
  {
   "cell_type": "code",
   "execution_count": 17,
   "metadata": {},
   "outputs": [],
   "source": [
    "now = datetime.utcnow().isoformat()\n",
    "for type_id, description in d:\n",
    "    t = db.session.query(DBType).filter_by(type_id=type_id).one()\n",
    "    t.description = description\n",
    "    t.updated_date = now\n",
    "    db.session.add(t)\n",
    "db.session.commit()"
   ]
  }
 ],
 "metadata": {
  "kernelspec": {
   "display_name": "venv",
   "language": "python",
   "name": "python3"
  },
  "language_info": {
   "codemirror_mode": {
    "name": "ipython",
    "version": 3
   },
   "file_extension": ".py",
   "mimetype": "text/x-python",
   "name": "python",
   "nbconvert_exporter": "python",
   "pygments_lexer": "ipython3",
   "version": "3.9.16"
  }
 },
 "nbformat": 4,
 "nbformat_minor": 2
}
