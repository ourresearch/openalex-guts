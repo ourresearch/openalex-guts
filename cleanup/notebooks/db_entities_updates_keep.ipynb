{
 "cells": [
  {
   "cell_type": "code",
   "execution_count": 2,
   "metadata": {},
   "outputs": [],
   "source": [
    "import sys"
   ]
  },
  {
   "cell_type": "code",
   "execution_count": 3,
   "metadata": {},
   "outputs": [],
   "source": [
    "sys.path.append('../..')"
   ]
  },
  {
   "cell_type": "code",
   "execution_count": 4,
   "metadata": {},
   "outputs": [],
   "source": [
    "from datetime import datetime"
   ]
  },
  {
   "cell_type": "code",
   "execution_count": 5,
   "metadata": {},
   "outputs": [],
   "source": [
    "from app import db\n",
    "from models import Type as DBType\n",
    "from models import SDG"
   ]
  },
  {
   "cell_type": "code",
   "execution_count": 6,
   "metadata": {},
   "outputs": [],
   "source": [
    "d = \"\"\"\n",
    "reference-entry\tEntries within reference materials, such as encyclopedias and dictionaries.\n",
    "standard\tStandards developed by Standards Development Organizations (SDOs) or consortia.\n",
    "dataset\tDataset records capture information about one or more database records or collections.\n",
    "erratum\tCorrections of existing works.\n",
    "paratext\tParatext are works that represent stuff that is *about* the venue (such as a journal)—rather than a scholarly work properly speaking. These include things like front-covers, back-covers, tables of contents, and the journal itself\n",
    "article\tResearch works that generally contains original research or reviews existing research. This includes journal articles, conference articles, and preprint articles.\n",
    "editorial\tGenerally short works written by the editors of journals or other publications.\n",
    "grant\tWorks associated with research grants, which provide funding to support research.\n",
    "peer-review\tReviews, reports, or comments about another work.\n",
    "report\tTechnical reports and working papers.\n",
    "letter\tThese are typically letters to the editors at journals, though it may include other types of letters.\n",
    "book-chapter\tA single chapter within a book. It is common to publish original research as book chapters in certain fields, such as computer science.\n",
    "dissertation\tDissertations and theses are works representing documents submitted by someone in completion of an academic degree or professional qualification.\n",
    "other\tWorks from Crossref marked with type \"other\".\n",
    "book\tScholarly books including reference books and monographs.\n",
    "\"\"\"\n",
    "d = [line.split('\\t') for line in d.splitlines() if line]"
   ]
  },
  {
   "cell_type": "code",
   "execution_count": 17,
   "metadata": {},
   "outputs": [],
   "source": [
    "now = datetime.utcnow().isoformat()\n",
    "for type_id, description in d:\n",
    "    t = db.session.query(DBType).filter_by(type_id=type_id).one()\n",
    "    t.description = description\n",
    "    t.updated_date = now\n",
    "    db.session.add(t)\n",
    "db.session.commit()"
   ]
  },
  {
   "cell_type": "code",
   "execution_count": 6,
   "metadata": {},
   "outputs": [],
   "source": [
    "d = \"\"\"\n",
    "1\tNo poverty\tEnd poverty in all its forms everywhere.\n",
    "2\tZero hunger\tEnd hunger, achieve food security and improved nutrition and promote sustainable agriculture.\n",
    "3\tGood health and well-being\tEnsure healthy lives and promote well-being for all at all ages.\n",
    "4\tQuality education\tEnsure inclusive and equitable quality education and promote lifelong learning opportunities for all.\n",
    "5\tGender equality\tAchieve gender equality and empower all women and girls\n",
    "6\tClean water and sanitation\tEnsure availability and sustainable management of water and sanitation for all.\n",
    "7\tAffordable and clean energy\tEnsure access to affordable, reliable, sustainable and modern energy for all.\n",
    "8\tDecent work and economic growth\tPromote sustained, inclusive and sustainable economic growth, full and productive employment and decent work for all.\n",
    "9\tIndustry, innovation and infrastructure\tBuild resilient infrastructure, promote inclusive and sustainable industrialization and foster innovation.\n",
    "10\tReduced inequalities\tReduce inequality within and among countries.\n",
    "11\tSustainable cities and communities\tMake cities and human settlements inclusive, safe, resilient and sustainable.\n",
    "12\tResponsible consumption and production\tEnsure sustainable consumption and production patterns.\n",
    "13\tClimate action\tTake urgent action to combat climate change and its impacts.\n",
    "14\tLife below water\tConserve and sustainably use the oceans, seas and marine resources for sustainable development.\n",
    "15\tLife on land\tProtect, restore and promote sustainable use of terrestrial ecosystems, sustainably manage forests, combat desertification, and halt and reverse land degradation and halt biodiversity loss.\n",
    "16\tPeace, justice, and strong institutions\tPromote peaceful and inclusive societies for sustainable development, provide access to justice for all and build effective, accountable and inclusive institutions at all levels.\n",
    "17\tPartnerships for the goals\tStrengthen the means of implementation and revitalize the Global Partnership for Sustainable Development.\n",
    "\"\"\"\n",
    "d = [line.split('\\t') for line in d.splitlines() if line]"
   ]
  },
  {
   "cell_type": "code",
   "execution_count": 9,
   "metadata": {},
   "outputs": [
    {
     "data": {
      "text/plain": [
       "17"
      ]
     },
     "execution_count": 9,
     "metadata": {},
     "output_type": "execute_result"
    }
   ],
   "source": [
    "len(d)"
   ]
  },
  {
   "cell_type": "code",
   "execution_count": 10,
   "metadata": {},
   "outputs": [],
   "source": [
    "now = datetime.utcnow().isoformat()\n",
    "for sdg_id, sdg_name, description in d:\n",
    "    t = db.session.query(SDG).filter_by(sdg_id=sdg_id).one()\n",
    "    t.description = description\n",
    "    t.updated_date = now\n",
    "    db.session.add(t)\n",
    "db.session.commit()"
   ]
  },
  {
   "cell_type": "code",
   "execution_count": null,
   "metadata": {},
   "outputs": [],
   "source": []
  }
 ],
 "metadata": {
  "kernelspec": {
   "display_name": "venv",
   "language": "python",
   "name": "python3"
  },
  "language_info": {
   "codemirror_mode": {
    "name": "ipython",
    "version": 3
   },
   "file_extension": ".py",
   "mimetype": "text/x-python",
   "name": "python",
   "nbconvert_exporter": "python",
   "pygments_lexer": "ipython3",
   "version": "3.9.16"
  }
 },
 "nbformat": 4,
 "nbformat_minor": 2
}
