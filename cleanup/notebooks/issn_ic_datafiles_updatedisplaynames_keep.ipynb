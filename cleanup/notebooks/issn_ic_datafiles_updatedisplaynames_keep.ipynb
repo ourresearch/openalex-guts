{
 "cells": [
  {
   "cell_type": "markdown",
   "metadata": {},
   "source": [
    "# update4 fix display_name"
   ]
  },
  {
   "cell_type": "code",
   "execution_count": 1,
   "metadata": {},
   "outputs": [],
   "source": [
    "import sys"
   ]
  },
  {
   "cell_type": "code",
   "execution_count": 2,
   "metadata": {},
   "outputs": [],
   "source": [
    "sys.path.append('../..')"
   ]
  },
  {
   "cell_type": "code",
   "execution_count": 3,
   "metadata": {},
   "outputs": [],
   "source": [
    "from datetime import datetime, timezone\n",
    "import json\n",
    "from tqdm import tqdm\n",
    "from pathlib import Path\n",
    "import gzip"
   ]
  },
  {
   "cell_type": "code",
   "execution_count": 4,
   "metadata": {},
   "outputs": [],
   "source": [
    "import pandas as pd\n",
    "import numpy as np"
   ]
  },
  {
   "cell_type": "code",
   "execution_count": 5,
   "metadata": {},
   "outputs": [
    {
     "name": "stdout",
     "output_type": "stream",
     "text": [
      "140027311251840: loading merged_into_institutions_dict\n",
      "140027311251840: loading valid concept IDs\n",
      "140027311251840: loading valid topic IDs\n"
     ]
    }
   ],
   "source": [
    "from app import db\n",
    "from models import Source, ISSNtoISSNL\n",
    "from sqlalchemy import text\n",
    "from sqlalchemy.orm import Load\n",
    "from sqlalchemy.exc import MultipleResultsFound"
   ]
  },
  {
   "cell_type": "code",
   "execution_count": null,
   "metadata": {},
   "outputs": [],
   "source": []
  },
  {
   "cell_type": "code",
   "execution_count": null,
   "metadata": {},
   "outputs": [],
   "source": []
  },
  {
   "cell_type": "code",
   "execution_count": 6,
   "metadata": {},
   "outputs": [
    {
     "name": "stdout",
     "output_type": "stream",
     "text": [
      "CPU times: user 1.16 s, sys: 277 ms, total: 1.44 s\n",
      "Wall time: 3.28 s\n"
     ]
    }
   ],
   "source": [
    "%%time\n",
    "df_issnl_file = pd.read_sql_query('select * from issn_audit_20240321.issn_ic_datafile_expanded_202402', db.engine)"
   ]
  },
  {
   "cell_type": "code",
   "execution_count": 9,
   "metadata": {},
   "outputs": [],
   "source": [
    "df_issnl_file = df_issnl_file[['valid_issns', 'issnl', 'cluster_title']]"
   ]
  },
  {
   "cell_type": "code",
   "execution_count": 10,
   "metadata": {},
   "outputs": [
    {
     "name": "stdout",
     "output_type": "stream",
     "text": [
      "215085\n",
      "213487\n",
      "213303\n"
     ]
    },
    {
     "name": "stderr",
     "output_type": "stream",
     "text": [
      "/tmp/ipykernel_2253/4201960640.py:2: SettingWithCopyWarning: \n",
      "A value is trying to be set on a copy of a slice from a DataFrame\n",
      "\n",
      "See the caveats in the documentation: https://pandas.pydata.org/pandas-docs/stable/user_guide/indexing.html#returning-a-view-versus-a-copy\n",
      "  df_issnl_file.dropna(inplace=True)\n",
      "/tmp/ipykernel_2253/4201960640.py:4: SettingWithCopyWarning: \n",
      "A value is trying to be set on a copy of a slice from a DataFrame\n",
      "\n",
      "See the caveats in the documentation: https://pandas.pydata.org/pandas-docs/stable/user_guide/indexing.html#returning-a-view-versus-a-copy\n",
      "  df_issnl_file.drop_duplicates(inplace=True)\n"
     ]
    }
   ],
   "source": [
    "print(len(df_issnl_file))\n",
    "df_issnl_file.dropna(inplace=True)\n",
    "print(len(df_issnl_file))\n",
    "df_issnl_file.drop_duplicates(inplace=True)\n",
    "print(len(df_issnl_file))\n"
   ]
  },
  {
   "cell_type": "code",
   "execution_count": 12,
   "metadata": {},
   "outputs": [
    {
     "data": {
      "text/plain": [
       "0"
      ]
     },
     "execution_count": 12,
     "metadata": {},
     "output_type": "execute_result"
    }
   ],
   "source": [
    "df_issnl_file['valid_issns'].duplicated().sum()"
   ]
  },
  {
   "cell_type": "code",
   "execution_count": 13,
   "metadata": {},
   "outputs": [
    {
     "data": {
      "text/plain": [
       "72414"
      ]
     },
     "execution_count": 13,
     "metadata": {},
     "output_type": "execute_result"
    }
   ],
   "source": [
    "df_issnl_file['issnl'].duplicated().sum()"
   ]
  },
  {
   "cell_type": "code",
   "execution_count": 14,
   "metadata": {},
   "outputs": [
    {
     "data": {
      "text/plain": [
       "213303"
      ]
     },
     "execution_count": 14,
     "metadata": {},
     "output_type": "execute_result"
    }
   ],
   "source": [
    "len(df_issnl_file[['issnl', 'cluster_title']])"
   ]
  },
  {
   "cell_type": "code",
   "execution_count": 16,
   "metadata": {},
   "outputs": [
    {
     "data": {
      "text/plain": [
       "140889"
      ]
     },
     "execution_count": 16,
     "metadata": {},
     "output_type": "execute_result"
    }
   ],
   "source": [
    "len(df_issnl_file[['issnl', 'cluster_title']].drop_duplicates())"
   ]
  },
  {
   "cell_type": "code",
   "execution_count": 19,
   "metadata": {},
   "outputs": [
    {
     "data": {
      "text/plain": [
       "140889"
      ]
     },
     "execution_count": 19,
     "metadata": {},
     "output_type": "execute_result"
    }
   ],
   "source": [
    "df_issnl_names = df_issnl_file[['issnl', 'cluster_title']].drop_duplicates()\n",
    "df_issnl_names.set_index('issnl', verify_integrity=True, inplace=True)\n",
    "len(df_issnl_names)"
   ]
  },
  {
   "cell_type": "code",
   "execution_count": 26,
   "metadata": {},
   "outputs": [
    {
     "name": "stderr",
     "output_type": "stream",
     "text": [
      "100%|██████████| 140889/140889 [2:20:08<00:00, 16.76it/s]    \n"
     ]
    },
    {
     "name": "stdout",
     "output_type": "stream",
     "text": [
      "135511 updated. 5378 not updated\n",
      "CPU times: user 4min 45s, sys: 19.2 s, total: 5min 4s\n",
      "Wall time: 2h 21min 46s\n"
     ]
    }
   ],
   "source": [
    "%%time\n",
    "try:\n",
    "    num_updated = 0\n",
    "    num_not_updated = 0\n",
    "    for issnl, title in tqdm(df_issnl_names['cluster_title'].items(), total=len(df_issnl_names)):\n",
    "        updated_date = datetime.now(timezone.utc).isoformat()\n",
    "        try:\n",
    "            source = db.session.query(Source).options(Load(Source).lazyload('*')).filter_by(issn=issnl).filter_by(merge_into_id=None).one_or_none()\n",
    "            if source:\n",
    "                source_id = source.id\n",
    "                old_display_name = source.display_name\n",
    "\n",
    "                source.display_name = title\n",
    "                source.updated_date = updated_date\n",
    "                db.session.add(source)\n",
    "\n",
    "                sq = \"\"\"INSERT INTO issn_audit_20240321.update4\n",
    "                    (issnl, old_display_name, new_display_name, updated_date, source_id)\n",
    "                    VALUES(:issnl, :old_display_name, :new_display_name, :updated_date, :source_id);\"\"\"\n",
    "                db.session.execute(text(sq), {\n",
    "                    'issnl': issnl,\n",
    "                    'old_display_name': old_display_name,\n",
    "                    'new_display_name': title,\n",
    "                    'updated_date': updated_date,\n",
    "                    'source_id': source_id,\n",
    "                })\n",
    "                num_updated += 1\n",
    "                if num_updated > 0 and num_updated % 10000 == 0:\n",
    "                    db.session.commit()\n",
    "            else:\n",
    "                num_not_updated += 1\n",
    "        except MultipleResultsFound:\n",
    "            num_not_updated += 1\n",
    "    db.session.commit()\n",
    "    print(f\"{num_updated} updated. {num_not_updated} not updated\")\n",
    "finally:\n",
    "    db.session.close()"
   ]
  },
  {
   "cell_type": "code",
   "execution_count": 27,
   "metadata": {},
   "outputs": [
    {
     "ename": "DetachedInstanceError",
     "evalue": "Instance <Source at 0x7f5a2c299e50> is not bound to a Session; attribute refresh operation cannot proceed (Background on this error at: http://sqlalche.me/e/14/bhk3)",
     "output_type": "error",
     "traceback": [
      "\u001b[0;31m---------------------------------------------------------------------------\u001b[0m",
      "\u001b[0;31mDetachedInstanceError\u001b[0m                     Traceback (most recent call last)",
      "Cell \u001b[0;32mIn[27], line 1\u001b[0m\n\u001b[0;32m----> 1\u001b[0m \u001b[43msource\u001b[49m\u001b[38;5;241;43m.\u001b[39;49m\u001b[43mdisplay_name\u001b[49m\n",
      "File \u001b[0;32m~/code/ourresearch/openalex-guts/venv/lib/python3.9/site-packages/sqlalchemy/orm/attributes.py:480\u001b[0m, in \u001b[0;36mInstrumentedAttribute.__get__\u001b[0;34m(self, instance, owner)\u001b[0m\n\u001b[1;32m    475\u001b[0m \u001b[38;5;28;01mexcept\u001b[39;00m \u001b[38;5;167;01mAttributeError\u001b[39;00m \u001b[38;5;28;01mas\u001b[39;00m err:\n\u001b[1;32m    476\u001b[0m     util\u001b[38;5;241m.\u001b[39mraise_(\n\u001b[1;32m    477\u001b[0m         orm_exc\u001b[38;5;241m.\u001b[39mUnmappedInstanceError(instance),\n\u001b[1;32m    478\u001b[0m         replace_context\u001b[38;5;241m=\u001b[39merr,\n\u001b[1;32m    479\u001b[0m     )\n\u001b[0;32m--> 480\u001b[0m \u001b[38;5;28;01mreturn\u001b[39;00m \u001b[38;5;28;43mself\u001b[39;49m\u001b[38;5;241;43m.\u001b[39;49m\u001b[43mimpl\u001b[49m\u001b[38;5;241;43m.\u001b[39;49m\u001b[43mget\u001b[49m\u001b[43m(\u001b[49m\u001b[43mstate\u001b[49m\u001b[43m,\u001b[49m\u001b[43m \u001b[49m\u001b[43mdict_\u001b[49m\u001b[43m)\u001b[49m\n",
      "File \u001b[0;32m~/code/ourresearch/openalex-guts/venv/lib/python3.9/site-packages/sqlalchemy/orm/attributes.py:926\u001b[0m, in \u001b[0;36mAttributeImpl.get\u001b[0;34m(self, state, dict_, passive)\u001b[0m\n\u001b[1;32m    919\u001b[0m     \u001b[38;5;28;01mreturn\u001b[39;00m PASSIVE_NO_RESULT\n\u001b[1;32m    921\u001b[0m \u001b[38;5;28;01mif\u001b[39;00m (\n\u001b[1;32m    922\u001b[0m     \u001b[38;5;28mself\u001b[39m\u001b[38;5;241m.\u001b[39maccepts_scalar_loader\n\u001b[1;32m    923\u001b[0m     \u001b[38;5;129;01mand\u001b[39;00m \u001b[38;5;28mself\u001b[39m\u001b[38;5;241m.\u001b[39mload_on_unexpire\n\u001b[1;32m    924\u001b[0m     \u001b[38;5;129;01mand\u001b[39;00m key \u001b[38;5;129;01min\u001b[39;00m state\u001b[38;5;241m.\u001b[39mexpired_attributes\n\u001b[1;32m    925\u001b[0m ):\n\u001b[0;32m--> 926\u001b[0m     value \u001b[38;5;241m=\u001b[39m \u001b[43mstate\u001b[49m\u001b[38;5;241;43m.\u001b[39;49m\u001b[43m_load_expired\u001b[49m\u001b[43m(\u001b[49m\u001b[43mstate\u001b[49m\u001b[43m,\u001b[49m\u001b[43m \u001b[49m\u001b[43mpassive\u001b[49m\u001b[43m)\u001b[49m\n\u001b[1;32m    927\u001b[0m \u001b[38;5;28;01melif\u001b[39;00m key \u001b[38;5;129;01min\u001b[39;00m state\u001b[38;5;241m.\u001b[39mcallables:\n\u001b[1;32m    928\u001b[0m     callable_ \u001b[38;5;241m=\u001b[39m state\u001b[38;5;241m.\u001b[39mcallables[key]\n",
      "File \u001b[0;32m~/code/ourresearch/openalex-guts/venv/lib/python3.9/site-packages/sqlalchemy/orm/state.py:675\u001b[0m, in \u001b[0;36mInstanceState._load_expired\u001b[0;34m(self, state, passive)\u001b[0m\n\u001b[1;32m    668\u001b[0m toload \u001b[38;5;241m=\u001b[39m \u001b[38;5;28mself\u001b[39m\u001b[38;5;241m.\u001b[39mexpired_attributes\u001b[38;5;241m.\u001b[39mintersection(\u001b[38;5;28mself\u001b[39m\u001b[38;5;241m.\u001b[39munmodified)\n\u001b[1;32m    669\u001b[0m toload \u001b[38;5;241m=\u001b[39m toload\u001b[38;5;241m.\u001b[39mdifference(\n\u001b[1;32m    670\u001b[0m     attr\n\u001b[1;32m    671\u001b[0m     \u001b[38;5;28;01mfor\u001b[39;00m attr \u001b[38;5;129;01min\u001b[39;00m toload\n\u001b[1;32m    672\u001b[0m     \u001b[38;5;28;01mif\u001b[39;00m \u001b[38;5;129;01mnot\u001b[39;00m \u001b[38;5;28mself\u001b[39m\u001b[38;5;241m.\u001b[39mmanager[attr]\u001b[38;5;241m.\u001b[39mimpl\u001b[38;5;241m.\u001b[39mload_on_unexpire\n\u001b[1;32m    673\u001b[0m )\n\u001b[0;32m--> 675\u001b[0m \u001b[38;5;28;43mself\u001b[39;49m\u001b[38;5;241;43m.\u001b[39;49m\u001b[43mmanager\u001b[49m\u001b[38;5;241;43m.\u001b[39;49m\u001b[43mexpired_attribute_loader\u001b[49m\u001b[43m(\u001b[49m\u001b[38;5;28;43mself\u001b[39;49m\u001b[43m,\u001b[49m\u001b[43m \u001b[49m\u001b[43mtoload\u001b[49m\u001b[43m,\u001b[49m\u001b[43m \u001b[49m\u001b[43mpassive\u001b[49m\u001b[43m)\u001b[49m\n\u001b[1;32m    677\u001b[0m \u001b[38;5;66;03m# if the loader failed, or this\u001b[39;00m\n\u001b[1;32m    678\u001b[0m \u001b[38;5;66;03m# instance state didn't have an identity,\u001b[39;00m\n\u001b[1;32m    679\u001b[0m \u001b[38;5;66;03m# the attributes still might be in the callables\u001b[39;00m\n\u001b[1;32m    680\u001b[0m \u001b[38;5;66;03m# dict.  ensure they are removed.\u001b[39;00m\n\u001b[1;32m    681\u001b[0m \u001b[38;5;28mself\u001b[39m\u001b[38;5;241m.\u001b[39mexpired_attributes\u001b[38;5;241m.\u001b[39mclear()\n",
      "File \u001b[0;32m~/code/ourresearch/openalex-guts/venv/lib/python3.9/site-packages/sqlalchemy/orm/loading.py:1343\u001b[0m, in \u001b[0;36mload_scalar_attributes\u001b[0;34m(mapper, state, attribute_names, passive)\u001b[0m\n\u001b[1;32m   1341\u001b[0m session \u001b[38;5;241m=\u001b[39m state\u001b[38;5;241m.\u001b[39msession\n\u001b[1;32m   1342\u001b[0m \u001b[38;5;28;01mif\u001b[39;00m \u001b[38;5;129;01mnot\u001b[39;00m session:\n\u001b[0;32m-> 1343\u001b[0m     \u001b[38;5;28;01mraise\u001b[39;00m orm_exc\u001b[38;5;241m.\u001b[39mDetachedInstanceError(\n\u001b[1;32m   1344\u001b[0m         \u001b[38;5;124m\"\u001b[39m\u001b[38;5;124mInstance \u001b[39m\u001b[38;5;132;01m%s\u001b[39;00m\u001b[38;5;124m is not bound to a Session; \u001b[39m\u001b[38;5;124m\"\u001b[39m\n\u001b[1;32m   1345\u001b[0m         \u001b[38;5;124m\"\u001b[39m\u001b[38;5;124mattribute refresh operation cannot proceed\u001b[39m\u001b[38;5;124m\"\u001b[39m \u001b[38;5;241m%\u001b[39m (state_str(state))\n\u001b[1;32m   1346\u001b[0m     )\n\u001b[1;32m   1348\u001b[0m has_key \u001b[38;5;241m=\u001b[39m \u001b[38;5;28mbool\u001b[39m(state\u001b[38;5;241m.\u001b[39mkey)\n\u001b[1;32m   1350\u001b[0m result \u001b[38;5;241m=\u001b[39m \u001b[38;5;28;01mFalse\u001b[39;00m\n",
      "\u001b[0;31mDetachedInstanceError\u001b[0m: Instance <Source at 0x7f5a2c299e50> is not bound to a Session; attribute refresh operation cannot proceed (Background on this error at: http://sqlalche.me/e/14/bhk3)"
     ]
    }
   ],
   "source": [
    "source.display_name"
   ]
  },
  {
   "cell_type": "code",
   "execution_count": 28,
   "metadata": {},
   "outputs": [
    {
     "data": {
      "text/plain": [
       "'Soviet journal of communications technology & electronics'"
      ]
     },
     "execution_count": 28,
     "metadata": {},
     "output_type": "execute_result"
    }
   ],
   "source": [
    "\n",
    "title"
   ]
  },
  {
   "cell_type": "code",
   "execution_count": 6,
   "metadata": {},
   "outputs": [
    {
     "name": "stdout",
     "output_type": "stream",
     "text": [
      "CPU times: user 1.43 s, sys: 66 ms, total: 1.49 s\n",
      "Wall time: 2.35 s\n"
     ]
    }
   ],
   "source": [
    "%%time\n",
    "sq = \"\"\"select journal_id, display_name, issn, issns, type, country_code, alternate_titles, publisher_id\n",
    "    from mid.journal\n",
    "    where merge_into_id is null\"\"\"\n",
    "df_midjournal = pd.read_sql_query(sq, db.engine)"
   ]
  },
  {
   "cell_type": "code",
   "execution_count": null,
   "metadata": {},
   "outputs": [
    {
     "name": "stdout",
     "output_type": "stream",
     "text": [
      "CPU times: user 1.43 s, sys: 66 ms, total: 1.49 s\n",
      "Wall time: 2.35 s\n"
     ]
    }
   ],
   "source": [
    "%%time\n",
    "sq = \"\"\"select journal_id, display_name, issn, issns, type, country_code, alternate_titles, publisher_id\n",
    "    from mid.journal\n",
    "    where merge_into_id is null\"\"\"\n",
    "df_midjournal = pd.read_sql_query(sq, db.engine)"
   ]
  },
  {
   "cell_type": "code",
   "execution_count": 7,
   "metadata": {},
   "outputs": [],
   "source": [
    "df_midjournal.dropna(subset='issn', inplace=True)"
   ]
  },
  {
   "cell_type": "code",
   "execution_count": 8,
   "metadata": {},
   "outputs": [
    {
     "name": "stdout",
     "output_type": "stream",
     "text": [
      "<class 'pandas.core.frame.DataFrame'>\n",
      "Index: 148415 entries, 1 to 261660\n",
      "Data columns (total 8 columns):\n",
      " #   Column            Non-Null Count   Dtype  \n",
      "---  ------            --------------   -----  \n",
      " 0   journal_id        148415 non-null  int64  \n",
      " 1   display_name      148415 non-null  object \n",
      " 2   issn              148415 non-null  object \n",
      " 3   issns             148415 non-null  object \n",
      " 4   type              148290 non-null  object \n",
      " 5   country_code      109641 non-null  object \n",
      " 6   alternate_titles  118625 non-null  object \n",
      " 7   publisher_id      67149 non-null   float64\n",
      "dtypes: float64(1), int64(1), object(6)\n",
      "memory usage: 10.2+ MB\n"
     ]
    }
   ],
   "source": [
    "df_midjournal.info()"
   ]
  },
  {
   "cell_type": "code",
   "execution_count": 9,
   "metadata": {},
   "outputs": [
    {
     "data": {
      "text/plain": [
       "4260"
      ]
     },
     "execution_count": 9,
     "metadata": {},
     "output_type": "execute_result"
    }
   ],
   "source": [
    "df_midjournal['issn'].duplicated().sum()"
   ]
  },
  {
   "cell_type": "code",
   "execution_count": 13,
   "metadata": {},
   "outputs": [
    {
     "data": {
      "text/plain": [
       "no_issnl_found\n",
       "False    144547\n",
       "True       3868\n",
       "Name: count, dtype: int64"
      ]
     },
     "execution_count": 13,
     "metadata": {},
     "output_type": "execute_result"
    }
   ],
   "source": [
    "df_midjournal['no_issnl_found'] = ~(df_midjournal['issn'].isin(df_issnl['issn'].values))\n",
    "df_midjournal['no_issnl_found'].value_counts()"
   ]
  },
  {
   "cell_type": "code",
   "execution_count": 14,
   "metadata": {},
   "outputs": [
    {
     "data": {
      "text/html": [
       "<div>\n",
       "<style scoped>\n",
       "    .dataframe tbody tr th:only-of-type {\n",
       "        vertical-align: middle;\n",
       "    }\n",
       "\n",
       "    .dataframe tbody tr th {\n",
       "        vertical-align: top;\n",
       "    }\n",
       "\n",
       "    .dataframe thead th {\n",
       "        text-align: right;\n",
       "    }\n",
       "</style>\n",
       "<table border=\"1\" class=\"dataframe\">\n",
       "  <thead>\n",
       "    <tr style=\"text-align: right;\">\n",
       "      <th></th>\n",
       "      <th>journal_id</th>\n",
       "      <th>display_name</th>\n",
       "      <th>issn</th>\n",
       "      <th>issns</th>\n",
       "      <th>type</th>\n",
       "      <th>country_code</th>\n",
       "      <th>alternate_titles</th>\n",
       "      <th>publisher_id</th>\n",
       "      <th>no_issnl_found</th>\n",
       "    </tr>\n",
       "  </thead>\n",
       "  <tbody>\n",
       "    <tr>\n",
       "      <th>82</th>\n",
       "      <td>4391422086</td>\n",
       "      <td>Proceedings of the Association for Japanese Li...</td>\n",
       "      <td>1531-5533</td>\n",
       "      <td>[\"1531-5533\"]</td>\n",
       "      <td>journal</td>\n",
       "      <td>None</td>\n",
       "      <td>None</td>\n",
       "      <td>NaN</td>\n",
       "      <td>True</td>\n",
       "    </tr>\n",
       "    <tr>\n",
       "      <th>112</th>\n",
       "      <td>4391633437</td>\n",
       "      <td>Co-Catalyst Journal of Science Education Resea...</td>\n",
       "      <td>3026-1597</td>\n",
       "      <td>[\"3026-1597\"]</td>\n",
       "      <td>journal</td>\n",
       "      <td>None</td>\n",
       "      <td>None</td>\n",
       "      <td>4.310315e+09</td>\n",
       "      <td>True</td>\n",
       "    </tr>\n",
       "    <tr>\n",
       "      <th>239</th>\n",
       "      <td>4391422089</td>\n",
       "      <td>Nihonkai Cetology</td>\n",
       "      <td>0918-3930</td>\n",
       "      <td>[\"0918-3930\", \"2435-3760\"]</td>\n",
       "      <td>journal</td>\n",
       "      <td>None</td>\n",
       "      <td>None</td>\n",
       "      <td>NaN</td>\n",
       "      <td>True</td>\n",
       "    </tr>\n",
       "    <tr>\n",
       "      <th>250</th>\n",
       "      <td>4391633469</td>\n",
       "      <td>Metrik Serial Teknologi dan Sains</td>\n",
       "      <td>2774-2989</td>\n",
       "      <td>[\"2774-2989\"]</td>\n",
       "      <td>journal</td>\n",
       "      <td>None</td>\n",
       "      <td>None</td>\n",
       "      <td>NaN</td>\n",
       "      <td>True</td>\n",
       "    </tr>\n",
       "    <tr>\n",
       "      <th>251</th>\n",
       "      <td>4391633474</td>\n",
       "      <td>MANTRA Jurnal Sastra Indonesia (Sastra Bahasa ...</td>\n",
       "      <td>2987-8969</td>\n",
       "      <td>[\"2987-8969\"]</td>\n",
       "      <td>journal</td>\n",
       "      <td>None</td>\n",
       "      <td>None</td>\n",
       "      <td>NaN</td>\n",
       "      <td>True</td>\n",
       "    </tr>\n",
       "    <tr>\n",
       "      <th>...</th>\n",
       "      <td>...</td>\n",
       "      <td>...</td>\n",
       "      <td>...</td>\n",
       "      <td>...</td>\n",
       "      <td>...</td>\n",
       "      <td>...</td>\n",
       "      <td>...</td>\n",
       "      <td>...</td>\n",
       "      <td>...</td>\n",
       "    </tr>\n",
       "    <tr>\n",
       "      <th>259612</th>\n",
       "      <td>4210178947</td>\n",
       "      <td>Proceedings of the Aristotelian Society (Hardb...</td>\n",
       "      <td>0066-7372</td>\n",
       "      <td>[\"0066-7372\",\"0066-7373\"]</td>\n",
       "      <td>journal</td>\n",
       "      <td>None</td>\n",
       "      <td>[]</td>\n",
       "      <td>4.310321e+09</td>\n",
       "      <td>True</td>\n",
       "    </tr>\n",
       "    <tr>\n",
       "      <th>260162</th>\n",
       "      <td>4386621720</td>\n",
       "      <td>Les cahiers du numérique</td>\n",
       "      <td>1469-3380</td>\n",
       "      <td>[\"1469-3380\"]</td>\n",
       "      <td>journal</td>\n",
       "      <td>None</td>\n",
       "      <td>None</td>\n",
       "      <td>NaN</td>\n",
       "      <td>True</td>\n",
       "    </tr>\n",
       "    <tr>\n",
       "      <th>260183</th>\n",
       "      <td>4306524739</td>\n",
       "      <td>Protokolle zur Bibel</td>\n",
       "      <td>1996-0042</td>\n",
       "      <td>[\"2412-2467\"]</td>\n",
       "      <td>journal</td>\n",
       "      <td>None</td>\n",
       "      <td>[]</td>\n",
       "      <td>NaN</td>\n",
       "      <td>True</td>\n",
       "    </tr>\n",
       "    <tr>\n",
       "      <th>260811</th>\n",
       "      <td>4387287589</td>\n",
       "      <td>Vjesnik dalmatinskih arhiva (Online)</td>\n",
       "      <td>2757-0932</td>\n",
       "      <td>[\"2757-0932\", \"2806-8459\"]</td>\n",
       "      <td>journal</td>\n",
       "      <td>None</td>\n",
       "      <td>None</td>\n",
       "      <td>NaN</td>\n",
       "      <td>True</td>\n",
       "    </tr>\n",
       "    <tr>\n",
       "      <th>260929</th>\n",
       "      <td>4306512670</td>\n",
       "      <td>ICIDCA Sobre los Derivados de la Caña de Azúcar</td>\n",
       "      <td>1025-3076</td>\n",
       "      <td>[\"2410-8529\"]</td>\n",
       "      <td>journal</td>\n",
       "      <td>None</td>\n",
       "      <td>[]</td>\n",
       "      <td>NaN</td>\n",
       "      <td>True</td>\n",
       "    </tr>\n",
       "  </tbody>\n",
       "</table>\n",
       "<p>3868 rows × 9 columns</p>\n",
       "</div>"
      ],
      "text/plain": [
       "        journal_id                                       display_name   \n",
       "82      4391422086  Proceedings of the Association for Japanese Li...  \\\n",
       "112     4391633437  Co-Catalyst Journal of Science Education Resea...   \n",
       "239     4391422089                                  Nihonkai Cetology   \n",
       "250     4391633469                  Metrik Serial Teknologi dan Sains   \n",
       "251     4391633474  MANTRA Jurnal Sastra Indonesia (Sastra Bahasa ...   \n",
       "...            ...                                                ...   \n",
       "259612  4210178947  Proceedings of the Aristotelian Society (Hardb...   \n",
       "260162  4386621720                           Les cahiers du numérique   \n",
       "260183  4306524739                               Protokolle zur Bibel   \n",
       "260811  4387287589               Vjesnik dalmatinskih arhiva (Online)   \n",
       "260929  4306512670    ICIDCA Sobre los Derivados de la Caña de Azúcar   \n",
       "\n",
       "             issn                       issns     type country_code   \n",
       "82      1531-5533               [\"1531-5533\"]  journal         None  \\\n",
       "112     3026-1597               [\"3026-1597\"]  journal         None   \n",
       "239     0918-3930  [\"0918-3930\", \"2435-3760\"]  journal         None   \n",
       "250     2774-2989               [\"2774-2989\"]  journal         None   \n",
       "251     2987-8969               [\"2987-8969\"]  journal         None   \n",
       "...           ...                         ...      ...          ...   \n",
       "259612  0066-7372   [\"0066-7372\",\"0066-7373\"]  journal         None   \n",
       "260162  1469-3380               [\"1469-3380\"]  journal         None   \n",
       "260183  1996-0042               [\"2412-2467\"]  journal         None   \n",
       "260811  2757-0932  [\"2757-0932\", \"2806-8459\"]  journal         None   \n",
       "260929  1025-3076               [\"2410-8529\"]  journal         None   \n",
       "\n",
       "       alternate_titles  publisher_id  no_issnl_found  \n",
       "82                 None           NaN            True  \n",
       "112                None  4.310315e+09            True  \n",
       "239                None           NaN            True  \n",
       "250                None           NaN            True  \n",
       "251                None           NaN            True  \n",
       "...                 ...           ...             ...  \n",
       "259612               []  4.310321e+09            True  \n",
       "260162             None           NaN            True  \n",
       "260183               []           NaN            True  \n",
       "260811             None           NaN            True  \n",
       "260929               []           NaN            True  \n",
       "\n",
       "[3868 rows x 9 columns]"
      ]
     },
     "execution_count": 14,
     "metadata": {},
     "output_type": "execute_result"
    }
   ],
   "source": [
    "df_midjournal[df_midjournal['no_issnl_found']]"
   ]
  },
  {
   "cell_type": "code",
   "execution_count": 19,
   "metadata": {},
   "outputs": [
    {
     "data": {
      "text/html": [
       "<div>\n",
       "<style scoped>\n",
       "    .dataframe tbody tr th:only-of-type {\n",
       "        vertical-align: middle;\n",
       "    }\n",
       "\n",
       "    .dataframe tbody tr th {\n",
       "        vertical-align: top;\n",
       "    }\n",
       "\n",
       "    .dataframe thead th {\n",
       "        text-align: right;\n",
       "    }\n",
       "</style>\n",
       "<table border=\"1\" class=\"dataframe\">\n",
       "  <thead>\n",
       "    <tr style=\"text-align: right;\">\n",
       "      <th></th>\n",
       "      <th>journal_id</th>\n",
       "      <th>display_name</th>\n",
       "      <th>issn</th>\n",
       "      <th>issns</th>\n",
       "      <th>type</th>\n",
       "      <th>country_code</th>\n",
       "      <th>alternate_titles</th>\n",
       "      <th>publisher_id</th>\n",
       "    </tr>\n",
       "  </thead>\n",
       "  <tbody>\n",
       "    <tr>\n",
       "      <th>54910</th>\n",
       "      <td>4306504665</td>\n",
       "      <td>Boletín de la Academia colombiana</td>\n",
       "      <td>0001-3773</td>\n",
       "      <td>[\"0001-3773\"]</td>\n",
       "      <td>journal</td>\n",
       "      <td>None</td>\n",
       "      <td>[]</td>\n",
       "      <td>NaN</td>\n",
       "    </tr>\n",
       "    <tr>\n",
       "      <th>136919</th>\n",
       "      <td>4306504666</td>\n",
       "      <td>Boletín de la Academia Colombiana</td>\n",
       "      <td>0001-3773</td>\n",
       "      <td>[\"0001-3773\"]</td>\n",
       "      <td>journal</td>\n",
       "      <td>None</td>\n",
       "      <td>[]</td>\n",
       "      <td>NaN</td>\n",
       "    </tr>\n",
       "    <tr>\n",
       "      <th>46084</th>\n",
       "      <td>4306500404</td>\n",
       "      <td>Acta medica Philippina</td>\n",
       "      <td>0001-6071</td>\n",
       "      <td>[\"0001-6071\", \"2094-9278\"]</td>\n",
       "      <td>journal</td>\n",
       "      <td>None</td>\n",
       "      <td>[]</td>\n",
       "      <td>4.310320e+09</td>\n",
       "    </tr>\n",
       "    <tr>\n",
       "      <th>79744</th>\n",
       "      <td>4210231482</td>\n",
       "      <td>Acta Medica Philippina</td>\n",
       "      <td>0001-6071</td>\n",
       "      <td>[\"2094-9278\",\"0001-6071\"]</td>\n",
       "      <td>journal</td>\n",
       "      <td>PH</td>\n",
       "      <td>[The National Health Science journal]</td>\n",
       "      <td>4.310320e+09</td>\n",
       "    </tr>\n",
       "    <tr>\n",
       "      <th>60458</th>\n",
       "      <td>4306500432</td>\n",
       "      <td>Acta Obstetrica et Gynaecologica Japonica</td>\n",
       "      <td>0001-6330</td>\n",
       "      <td>[\"0001-6330\"]</td>\n",
       "      <td>journal</td>\n",
       "      <td>None</td>\n",
       "      <td>[]</td>\n",
       "      <td>NaN</td>\n",
       "    </tr>\n",
       "    <tr>\n",
       "      <th>...</th>\n",
       "      <td>...</td>\n",
       "      <td>...</td>\n",
       "      <td>...</td>\n",
       "      <td>...</td>\n",
       "      <td>...</td>\n",
       "      <td>...</td>\n",
       "      <td>...</td>\n",
       "      <td>...</td>\n",
       "    </tr>\n",
       "    <tr>\n",
       "      <th>91498</th>\n",
       "      <td>4387277837</td>\n",
       "      <td>Parasites Hosts and Diseases</td>\n",
       "      <td>2982-5164</td>\n",
       "      <td>[\"2982-5164\", \"2982-6799\"]</td>\n",
       "      <td>journal</td>\n",
       "      <td>None</td>\n",
       "      <td>None</td>\n",
       "      <td>4.310319e+09</td>\n",
       "    </tr>\n",
       "    <tr>\n",
       "      <th>102645</th>\n",
       "      <td>4387281090</td>\n",
       "      <td>International Journal of Psychiatric Trainees</td>\n",
       "      <td>3005-3870</td>\n",
       "      <td>[\"3005-3870\", \"2957-4080\"]</td>\n",
       "      <td>journal</td>\n",
       "      <td>None</td>\n",
       "      <td>None</td>\n",
       "      <td>NaN</td>\n",
       "    </tr>\n",
       "    <tr>\n",
       "      <th>78775</th>\n",
       "      <td>4387292761</td>\n",
       "      <td>International Journal of Psychiatric Trainees</td>\n",
       "      <td>3005-3870</td>\n",
       "      <td>[\"3005-3870\"]</td>\n",
       "      <td>journal</td>\n",
       "      <td>None</td>\n",
       "      <td>None</td>\n",
       "      <td>NaN</td>\n",
       "    </tr>\n",
       "    <tr>\n",
       "      <th>89862</th>\n",
       "      <td>50342286</td>\n",
       "      <td>Yearbook of Pulmonary Disease</td>\n",
       "      <td>8756-3452</td>\n",
       "      <td>[\"8756-3452\"]</td>\n",
       "      <td>journal</td>\n",
       "      <td>None</td>\n",
       "      <td>[]</td>\n",
       "      <td>4.310321e+09</td>\n",
       "    </tr>\n",
       "    <tr>\n",
       "      <th>84269</th>\n",
       "      <td>4210203606</td>\n",
       "      <td>The Year book of pulmonary disease</td>\n",
       "      <td>8756-3452</td>\n",
       "      <td>[\"8756-3452\"]</td>\n",
       "      <td>journal</td>\n",
       "      <td>US</td>\n",
       "      <td>[Yearbook of pulmonary disease, Pulmonary dise...</td>\n",
       "      <td>4.310321e+09</td>\n",
       "    </tr>\n",
       "  </tbody>\n",
       "</table>\n",
       "<p>8430 rows × 8 columns</p>\n",
       "</div>"
      ],
      "text/plain": [
       "        journal_id                                   display_name       issn   \n",
       "54910   4306504665              Boletín de la Academia colombiana  0001-3773  \\\n",
       "136919  4306504666              Boletín de la Academia Colombiana  0001-3773   \n",
       "46084   4306500404                         Acta medica Philippina  0001-6071   \n",
       "79744   4210231482                         Acta Medica Philippina  0001-6071   \n",
       "60458   4306500432      Acta Obstetrica et Gynaecologica Japonica  0001-6330   \n",
       "...            ...                                            ...        ...   \n",
       "91498   4387277837                   Parasites Hosts and Diseases  2982-5164   \n",
       "102645  4387281090  International Journal of Psychiatric Trainees  3005-3870   \n",
       "78775   4387292761  International Journal of Psychiatric Trainees  3005-3870   \n",
       "89862     50342286                  Yearbook of Pulmonary Disease  8756-3452   \n",
       "84269   4210203606             The Year book of pulmonary disease  8756-3452   \n",
       "\n",
       "                             issns     type country_code   \n",
       "54910                [\"0001-3773\"]  journal         None  \\\n",
       "136919               [\"0001-3773\"]  journal         None   \n",
       "46084   [\"0001-6071\", \"2094-9278\"]  journal         None   \n",
       "79744    [\"2094-9278\",\"0001-6071\"]  journal           PH   \n",
       "60458                [\"0001-6330\"]  journal         None   \n",
       "...                            ...      ...          ...   \n",
       "91498   [\"2982-5164\", \"2982-6799\"]  journal         None   \n",
       "102645  [\"3005-3870\", \"2957-4080\"]  journal         None   \n",
       "78775                [\"3005-3870\"]  journal         None   \n",
       "89862                [\"8756-3452\"]  journal         None   \n",
       "84269                [\"8756-3452\"]  journal           US   \n",
       "\n",
       "                                         alternate_titles  publisher_id  \n",
       "54910                                                  []           NaN  \n",
       "136919                                                 []           NaN  \n",
       "46084                                                  []  4.310320e+09  \n",
       "79744               [The National Health Science journal]  4.310320e+09  \n",
       "60458                                                  []           NaN  \n",
       "...                                                   ...           ...  \n",
       "91498                                                None  4.310319e+09  \n",
       "102645                                               None           NaN  \n",
       "78775                                                None           NaN  \n",
       "89862                                                  []  4.310321e+09  \n",
       "84269   [Yearbook of pulmonary disease, Pulmonary dise...  4.310321e+09  \n",
       "\n",
       "[8430 rows x 8 columns]"
      ]
     },
     "execution_count": 19,
     "metadata": {},
     "output_type": "execute_result"
    }
   ],
   "source": [
    "df_midjournal[df_midjournal['issn'].duplicated(keep=False)].sort_values('issn')"
   ]
  },
  {
   "cell_type": "code",
   "execution_count": 20,
   "metadata": {},
   "outputs": [
    {
     "name": "stdout",
     "output_type": "stream",
     "text": [
      "CPU times: user 77.9 ms, sys: 0 ns, total: 77.9 ms\n",
      "Wall time: 837 ms\n"
     ]
    }
   ],
   "source": [
    "%%time\n",
    "# Source IDs that have already been through the updates should be protected\n",
    "sq = \"\"\"select source_id from issn_audit_20240321.update1 where reverted is false;\"\"\"\n",
    "df1 = pd.read_sql_query(sq, db.engine)\n",
    "\n",
    "sq = \"\"\"select source_id from issn_audit_20240321.update2 where reverted is false;\"\"\"\n",
    "df2 = pd.read_sql_query(sq, db.engine)\n",
    "\n",
    "df_protected = pd.concat([df1, df2])"
   ]
  },
  {
   "cell_type": "code",
   "execution_count": 22,
   "metadata": {},
   "outputs": [
    {
     "data": {
      "text/html": [
       "<div>\n",
       "<style scoped>\n",
       "    .dataframe tbody tr th:only-of-type {\n",
       "        vertical-align: middle;\n",
       "    }\n",
       "\n",
       "    .dataframe tbody tr th {\n",
       "        vertical-align: top;\n",
       "    }\n",
       "\n",
       "    .dataframe thead th {\n",
       "        text-align: right;\n",
       "    }\n",
       "</style>\n",
       "<table border=\"1\" class=\"dataframe\">\n",
       "  <thead>\n",
       "    <tr style=\"text-align: right;\">\n",
       "      <th></th>\n",
       "      <th>source_id</th>\n",
       "    </tr>\n",
       "  </thead>\n",
       "  <tbody>\n",
       "    <tr>\n",
       "      <th>0</th>\n",
       "      <td>4210234080</td>\n",
       "    </tr>\n",
       "    <tr>\n",
       "      <th>1</th>\n",
       "      <td>4387277910</td>\n",
       "    </tr>\n",
       "    <tr>\n",
       "      <th>2</th>\n",
       "      <td>4306499931</td>\n",
       "    </tr>\n",
       "    <tr>\n",
       "      <th>3</th>\n",
       "      <td>4210177666</td>\n",
       "    </tr>\n",
       "    <tr>\n",
       "      <th>4</th>\n",
       "      <td>4210223324</td>\n",
       "    </tr>\n",
       "    <tr>\n",
       "      <th>...</th>\n",
       "      <td>...</td>\n",
       "    </tr>\n",
       "    <tr>\n",
       "      <th>8854</th>\n",
       "      <td>4393920245</td>\n",
       "    </tr>\n",
       "    <tr>\n",
       "      <th>8855</th>\n",
       "      <td>4393920246</td>\n",
       "    </tr>\n",
       "    <tr>\n",
       "      <th>8856</th>\n",
       "      <td>4393920247</td>\n",
       "    </tr>\n",
       "    <tr>\n",
       "      <th>8857</th>\n",
       "      <td>4393920248</td>\n",
       "    </tr>\n",
       "    <tr>\n",
       "      <th>8858</th>\n",
       "      <td>4393920249</td>\n",
       "    </tr>\n",
       "  </tbody>\n",
       "</table>\n",
       "<p>134134 rows × 1 columns</p>\n",
       "</div>"
      ],
      "text/plain": [
       "       source_id\n",
       "0     4210234080\n",
       "1     4387277910\n",
       "2     4306499931\n",
       "3     4210177666\n",
       "4     4210223324\n",
       "...          ...\n",
       "8854  4393920245\n",
       "8855  4393920246\n",
       "8856  4393920247\n",
       "8857  4393920248\n",
       "8858  4393920249\n",
       "\n",
       "[134134 rows x 1 columns]"
      ]
     },
     "execution_count": 22,
     "metadata": {},
     "output_type": "execute_result"
    }
   ],
   "source": [
    "df_protected"
   ]
  },
  {
   "cell_type": "code",
   "execution_count": 28,
   "metadata": {},
   "outputs": [],
   "source": [
    "df_midjournal['is_protected'] = df_midjournal['journal_id'].isin(df_protected['source_id'].values)"
   ]
  },
  {
   "cell_type": "code",
   "execution_count": 30,
   "metadata": {},
   "outputs": [
    {
     "data": {
      "text/plain": [
       "is_protected\n",
       "True     134124\n",
       "False     14291\n",
       "Name: count, dtype: int64"
      ]
     },
     "execution_count": 30,
     "metadata": {},
     "output_type": "execute_result"
    }
   ],
   "source": [
    "df_midjournal['is_protected'].value_counts()"
   ]
  },
  {
   "cell_type": "code",
   "execution_count": null,
   "metadata": {},
   "outputs": [],
   "source": []
  },
  {
   "cell_type": "code",
   "execution_count": 6,
   "metadata": {},
   "outputs": [
    {
     "name": "stdout",
     "output_type": "stream",
     "text": [
      "CPU times: user 599 ms, sys: 127 ms, total: 726 ms\n",
      "Wall time: 1.98 s\n"
     ]
    }
   ],
   "source": [
    "%%time\n",
    "sq = \"\"\"select * from issn_audit_20240321.issn_ic_datafile_202402\"\"\"\n",
    "df_datafile = pd.read_sql_query(sq, db.engine)"
   ]
  },
  {
   "cell_type": "code",
   "execution_count": 7,
   "metadata": {},
   "outputs": [
    {
     "data": {
      "text/plain": [
       "140984"
      ]
     },
     "execution_count": 7,
     "metadata": {},
     "output_type": "execute_result"
    }
   ],
   "source": [
    "# get dict of issnl to issn\n",
    "x = df_datafile.dropna(subset=['issnl'])\n",
    "x = x[x['category'].isin(['Register', 'Work', 'Free', 'Validation Request'])]\n",
    "x = x[['issn', 'issnl']]\n",
    "issnl_to_issn = {}\n",
    "ignore = [\n",
    "    '0000-0000',\n",
    "]\n",
    "x = x[~(x['issnl'].isin(ignore))]\n",
    "for name, gbdf in x.groupby('issnl'):\n",
    "    if name in ignore:\n",
    "        continue\n",
    "    issnl_to_issn[name] = gbdf['issn'].tolist()\n",
    "len(issnl_to_issn)"
   ]
  },
  {
   "cell_type": "code",
   "execution_count": null,
   "metadata": {},
   "outputs": [],
   "source": []
  },
  {
   "cell_type": "code",
   "execution_count": 17,
   "metadata": {},
   "outputs": [],
   "source": [
    "issn = '0001-5113'\n",
    "try:\n",
    "    source = db.session.query(Source).options(Load(Source).lazyload('*')).filter_by(issn=issn).all()\n",
    "    if source is None:\n",
    "        source = db.session.query(Source).options(Load(Source).lazyload('*')).filter(Source.issns.contains(issn)).all()\n",
    "finally:\n",
    "    db.session.close()\n"
   ]
  },
  {
   "cell_type": "code",
   "execution_count": 18,
   "metadata": {},
   "outputs": [
    {
     "data": {
      "text/plain": [
       "[<Source ( http://localhost:5007/S86406033?apiurls ) 86406033 Acta Adriatica>,\n",
       " <Source ( http://localhost:5007/S2764458511?apiurls ) 2764458511 Acta Adriatica: International Journal of Marine Sciences>]"
      ]
     },
     "execution_count": 18,
     "metadata": {},
     "output_type": "execute_result"
    }
   ],
   "source": [
    "source"
   ]
  }
 ],
 "metadata": {
  "kernelspec": {
   "display_name": "venv",
   "language": "python",
   "name": "python3"
  },
  "language_info": {
   "codemirror_mode": {
    "name": "ipython",
    "version": 3
   },
   "file_extension": ".py",
   "mimetype": "text/x-python",
   "name": "python",
   "nbconvert_exporter": "python",
   "pygments_lexer": "ipython3",
   "version": "3.9.16"
  }
 },
 "nbformat": 4,
 "nbformat_minor": 2
}
