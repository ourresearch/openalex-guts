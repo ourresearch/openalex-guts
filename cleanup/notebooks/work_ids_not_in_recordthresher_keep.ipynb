{
 "cells": [
  {
   "cell_type": "code",
   "execution_count": 1,
   "metadata": {},
   "outputs": [],
   "source": [
    "import sys"
   ]
  },
  {
   "cell_type": "code",
   "execution_count": 2,
   "metadata": {},
   "outputs": [],
   "source": [
    "sys.path.append('../..')"
   ]
  },
  {
   "cell_type": "code",
   "execution_count": 3,
   "metadata": {},
   "outputs": [],
   "source": [
    "from datetime import datetime\n",
    "from pathlib import Path"
   ]
  },
  {
   "cell_type": "code",
   "execution_count": 4,
   "metadata": {},
   "outputs": [],
   "source": [
    "from app import db"
   ]
  },
  {
   "cell_type": "code",
   "execution_count": 5,
   "metadata": {},
   "outputs": [],
   "source": [
    "import pandas as pd"
   ]
  },
  {
   "cell_type": "code",
   "execution_count": 6,
   "metadata": {},
   "outputs": [],
   "source": [
    "chunksize = 5000000\n",
    "now = datetime.utcnow()\n",
    "now_str = f\"{now:%Y%m%dT%H%M%S}\"\n",
    "datadir_base = Path(f'../data/works_ids_export_{now_str}')\n",
    "if not datadir_base.exists():\n",
    "    datadir_base.mkdir()"
   ]
  },
  {
   "cell_type": "code",
   "execution_count": 7,
   "metadata": {},
   "outputs": [
    {
     "name": "stdout",
     "output_type": "stream",
     "text": [
      "rowcount: 249714645\n",
      "CPU times: user 6min 12s, sys: 27.8 s, total: 6min 40s\n",
      "Wall time: 29min 6s\n"
     ]
    }
   ],
   "source": [
    "%%time\n",
    "outdir_works = datadir_base.joinpath('work_not_merged')\n",
    "if not outdir_works.exists():\n",
    "    outdir_works.mkdir()\n",
    "sq = 'select paper_id from mid.work where merge_into_id is null'\n",
    "rowcount = 0\n",
    "for i, _df in enumerate(pd.read_sql_query(sq, db.engine, chunksize=chunksize)):\n",
    "    _df.to_csv(outdir_works.joinpath(f'work_paper_ids_{i:03}.csv'))\n",
    "    rowcount += len(_df)\n",
    "print(f\"rowcount: {rowcount}\")"
   ]
  },
  {
   "cell_type": "code",
   "execution_count": 8,
   "metadata": {},
   "outputs": [],
   "source": [
    "%%time\n",
    "outdir_rt = datadir_base.joinpath('recordthresher_record')\n",
    "if not outdir_rt.exists():\n",
    "    outdir_rt.mkdir()\n",
    "sq = 'select work_id, count(*) as num_rows_in_rt from ins.recordthresher_record where work_id is not null and work_id > 0 group by work_id'\n",
    "rowcount = 0\n",
    "for i, _df in enumerate(pd.read_sql_query(sq, db.engine, chunksize=chunksize)):\n",
    "    _df.to_csv(outdir_rt.joinpath(f'recordthresher_record_work_ids_counts_{i:03}.csv'))\n",
    "    rowcount += len(_df)\n",
    "print(f\"rowcount: {rowcount}\")"
   ]
  },
  {
   "cell_type": "code",
   "execution_count": null,
   "metadata": {},
   "outputs": [
    {
     "name": "stdout",
     "output_type": "stream",
     "text": [
      "<class 'pandas.core.frame.DataFrame'>\n",
      "RangeIndex: 2928250 entries, 0 to 2928249\n",
      "Data columns (total 2 columns):\n",
      " #   Column          Dtype\n",
      "---  ------          -----\n",
      " 0   work_id         int64\n",
      " 1   num_rows_in_rt  int64\n",
      "dtypes: int64(2)\n",
      "memory usage: 44.7 MB\n"
     ]
    }
   ],
   "source": [
    "_df.info()"
   ]
  },
  {
   "cell_type": "code",
   "execution_count": null,
   "metadata": {},
   "outputs": [
    {
     "name": "stdout",
     "output_type": "stream",
     "text": [
      "<class 'pandas.core.frame.DataFrame'>\n",
      "Index: 249531500 entries, 0 to 4999999\n",
      "Data columns (total 1 columns):\n",
      " #   Column    Dtype\n",
      "---  ------    -----\n",
      " 0   paper_id  int64\n",
      "dtypes: int64(1)\n",
      "memory usage: 3.7 GB\n",
      "CPU times: user 20.1 s, sys: 677 ms, total: 20.8 s\n",
      "Wall time: 20.8 s\n"
     ]
    }
   ],
   "source": [
    "%%time\n",
    "df_works = pd.concat([pd.read_csv(fp, index_col=0) for fp in outdir_works.glob('work_paper_ids_*.csv')])\n",
    "df_works.info()"
   ]
  },
  {
   "cell_type": "code",
   "execution_count": null,
   "metadata": {},
   "outputs": [
    {
     "name": "stdout",
     "output_type": "stream",
     "text": [
      "<class 'pandas.core.frame.DataFrame'>\n",
      "Index: 247928250 entries, 0 to 4999999\n",
      "Data columns (total 2 columns):\n",
      " #   Column          Dtype\n",
      "---  ------          -----\n",
      " 0   work_id         int64\n",
      " 1   num_rows_in_rt  int64\n",
      "dtypes: int64(2)\n",
      "memory usage: 5.5 GB\n",
      "CPU times: user 23.2 s, sys: 976 ms, total: 24.2 s\n",
      "Wall time: 24.2 s\n"
     ]
    }
   ],
   "source": [
    "%%time\n",
    "df_rt = pd.concat([pd.read_csv(fp, index_col=0) for fp in outdir_rt.glob('recordthresher_record_work_ids_counts_*.csv')])\n",
    "df_rt.info()"
   ]
  },
  {
   "cell_type": "code",
   "execution_count": null,
   "metadata": {},
   "outputs": [],
   "source": []
  },
  {
   "cell_type": "code",
   "execution_count": null,
   "metadata": {},
   "outputs": [],
   "source": []
  },
  {
   "cell_type": "code",
   "execution_count": 12,
   "metadata": {},
   "outputs": [
    {
     "data": {
      "text/plain": [
       "num_rows_in_rt\n",
       "1      190778192\n",
       "2       45114558\n",
       "3        6873185\n",
       "4        1924158\n",
       "5         888081\n",
       "         ...    \n",
       "123            1\n",
       "169            1\n",
       "146            1\n",
       "182            1\n",
       "278            1\n",
       "Name: count, Length: 237, dtype: int64"
      ]
     },
     "execution_count": 12,
     "metadata": {},
     "output_type": "execute_result"
    }
   ],
   "source": [
    "df_rt['num_rows_in_rt'].value_counts()"
   ]
  },
  {
   "cell_type": "code",
   "execution_count": 13,
   "metadata": {},
   "outputs": [
    {
     "data": {
      "text/plain": [
       "paper_id\n",
       "False    249531500\n",
       "Name: count, dtype: int64"
      ]
     },
     "execution_count": 13,
     "metadata": {},
     "output_type": "execute_result"
    }
   ],
   "source": [
    "df_works['paper_id'].duplicated().value_counts()"
   ]
  },
  {
   "cell_type": "code",
   "execution_count": 14,
   "metadata": {},
   "outputs": [
    {
     "data": {
      "text/plain": [
       "work_id\n",
       "False    247928250\n",
       "Name: count, dtype: int64"
      ]
     },
     "execution_count": 14,
     "metadata": {},
     "output_type": "execute_result"
    }
   ],
   "source": [
    "df_rt['work_id'].duplicated().value_counts()"
   ]
  },
  {
   "cell_type": "code",
   "execution_count": 15,
   "metadata": {},
   "outputs": [],
   "source": [
    "workjoin = df_works.rename(columns={'paper_id': 'work_id'}).merge(df_rt, how='left', on='work_id')\n",
    "workjoin['num_rows_in_rt'] = workjoin['num_rows_in_rt'].fillna(value=0)"
   ]
  },
  {
   "cell_type": "code",
   "execution_count": 16,
   "metadata": {},
   "outputs": [
    {
     "data": {
      "text/plain": [
       "num_rows_in_rt\n",
       "1.0       190552349\n",
       "2.0        44958232\n",
       "3.0         6791151\n",
       "0.0         2198872\n",
       "4.0         1875158\n",
       "            ...    \n",
       "930.0             1\n",
       "646.0             1\n",
       "1398.0            1\n",
       "270.0             1\n",
       "188.0             1\n",
       "Name: count, Length: 238, dtype: int64"
      ]
     },
     "execution_count": 16,
     "metadata": {},
     "output_type": "execute_result"
    }
   ],
   "source": [
    "workjoin['num_rows_in_rt'].value_counts()"
   ]
  },
  {
   "cell_type": "code",
   "execution_count": 17,
   "metadata": {},
   "outputs": [
    {
     "name": "stdout",
     "output_type": "stream",
     "text": [
      "CPU times: user 23.9 s, sys: 526 ms, total: 24.5 s\n",
      "Wall time: 43.8 s\n"
     ]
    },
    {
     "data": {
      "text/plain": [
       "2198872"
      ]
     },
     "execution_count": 17,
     "metadata": {},
     "output_type": "execute_result"
    }
   ],
   "source": [
    "%%time\n",
    "tbldata = workjoin[workjoin['num_rows_in_rt']==0][['work_id']]\n",
    "tbldata.to_sql(\n",
    "    name=\"tmp_work_ids_not_in_recordthresher\",\n",
    "    con=db.engine,\n",
    "    schema=\"public\",\n",
    "    if_exists=\"replace\",\n",
    "    index=False,\n",
    "    method=\"multi\",\n",
    ")"
   ]
  },
  {
   "cell_type": "code",
   "execution_count": null,
   "metadata": {},
   "outputs": [],
   "source": []
  }
 ],
 "metadata": {
  "kernelspec": {
   "display_name": "venv",
   "language": "python",
   "name": "python3"
  },
  "language_info": {
   "codemirror_mode": {
    "name": "ipython",
    "version": 3
   },
   "file_extension": ".py",
   "mimetype": "text/x-python",
   "name": "python",
   "nbconvert_exporter": "python",
   "pygments_lexer": "ipython3",
   "version": "3.9.16"
  }
 },
 "nbformat": 4,
 "nbformat_minor": 2
}
