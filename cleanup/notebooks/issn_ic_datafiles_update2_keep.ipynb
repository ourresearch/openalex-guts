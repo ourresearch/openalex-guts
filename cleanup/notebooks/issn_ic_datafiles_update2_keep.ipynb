{
 "cells": [
  {
   "cell_type": "markdown",
   "metadata": {},
   "source": [
    "# update2: add new sources\n",
    "\n",
    "just add them all. type is `journal` unless `conference` appears in title.lower()\n",
    "\n",
    "remember to add issnl to issns and move to front"
   ]
  },
  {
   "cell_type": "code",
   "execution_count": 1,
   "metadata": {},
   "outputs": [],
   "source": [
    "import sys"
   ]
  },
  {
   "cell_type": "code",
   "execution_count": 2,
   "metadata": {},
   "outputs": [],
   "source": [
    "sys.path.append('../..')"
   ]
  },
  {
   "cell_type": "code",
   "execution_count": 3,
   "metadata": {},
   "outputs": [],
   "source": [
    "from datetime import datetime, timezone\n",
    "import json\n",
    "from tqdm import tqdm\n",
    "from pathlib import Path\n",
    "import gzip"
   ]
  },
  {
   "cell_type": "code",
   "execution_count": 4,
   "metadata": {},
   "outputs": [],
   "source": [
    "import pandas as pd\n",
    "import numpy as np"
   ]
  },
  {
   "cell_type": "code",
   "execution_count": 5,
   "metadata": {},
   "outputs": [
    {
     "name": "stdout",
     "output_type": "stream",
     "text": [
      "139886361092480: loading merged_into_institutions_dict\n",
      "139886361092480: loading valid concept IDs\n",
      "139886361092480: loading valid topic IDs\n"
     ]
    }
   ],
   "source": [
    "from app import db\n",
    "from models import Source\n",
    "from sqlalchemy import text\n",
    "from sqlalchemy.orm import Load\n",
    "from sqlalchemy.exc import MultipleResultsFound"
   ]
  },
  {
   "cell_type": "code",
   "execution_count": 6,
   "metadata": {},
   "outputs": [
    {
     "name": "stdout",
     "output_type": "stream",
     "text": [
      "CPU times: user 599 ms, sys: 127 ms, total: 726 ms\n",
      "Wall time: 1.98 s\n"
     ]
    }
   ],
   "source": [
    "%%time\n",
    "sq = \"\"\"select * from issn_audit_20240321.issn_ic_datafile_202402\"\"\"\n",
    "df_datafile = pd.read_sql_query(sq, db.engine)"
   ]
  },
  {
   "cell_type": "code",
   "execution_count": 7,
   "metadata": {},
   "outputs": [
    {
     "data": {
      "text/plain": [
       "140984"
      ]
     },
     "execution_count": 7,
     "metadata": {},
     "output_type": "execute_result"
    }
   ],
   "source": [
    "# get dict of issnl to issn\n",
    "x = df_datafile.dropna(subset=['issnl'])\n",
    "x = x[x['category'].isin(['Register', 'Work', 'Free', 'Validation Request'])]\n",
    "x = x[['issn', 'issnl']]\n",
    "issnl_to_issn = {}\n",
    "ignore = [\n",
    "    '0000-0000',\n",
    "]\n",
    "x = x[~(x['issnl'].isin(ignore))]\n",
    "for name, gbdf in x.groupby('issnl'):\n",
    "    if name in ignore:\n",
    "        continue\n",
    "    issnl_to_issn[name] = gbdf['issn'].tolist()\n",
    "len(issnl_to_issn)"
   ]
  },
  {
   "cell_type": "code",
   "execution_count": 8,
   "metadata": {},
   "outputs": [
    {
     "data": {
      "text/plain": [
       "9666"
      ]
     },
     "execution_count": 8,
     "metadata": {},
     "output_type": "execute_result"
    }
   ],
   "source": [
    "sq = \"\"\"select issnl from issn_audit_20240321.update1_issnl_notfound\"\"\"\n",
    "df_notfound = pd.read_sql_query(sq, db.engine)\n",
    "subset = df_datafile.merge(df_notfound, how='inner', on='issnl')\n",
    "len(subset)"
   ]
  },
  {
   "cell_type": "code",
   "execution_count": 9,
   "metadata": {},
   "outputs": [
    {
     "data": {
      "text/plain": [
       "3047"
      ]
     },
     "execution_count": 9,
     "metadata": {},
     "output_type": "execute_result"
    }
   ],
   "source": [
    "subset = subset[subset['resolved']==False]\n",
    "len(subset)"
   ]
  },
  {
   "cell_type": "code",
   "execution_count": 10,
   "metadata": {},
   "outputs": [
    {
     "data": {
      "text/plain": [
       "721"
      ]
     },
     "execution_count": 10,
     "metadata": {},
     "output_type": "execute_result"
    }
   ],
   "source": [
    "subset['issnl'].duplicated().sum()"
   ]
  },
  {
   "cell_type": "code",
   "execution_count": 11,
   "metadata": {},
   "outputs": [
    {
     "data": {
      "text/plain": [
       "3047"
      ]
     },
     "execution_count": 11,
     "metadata": {},
     "output_type": "execute_result"
    }
   ],
   "source": [
    "subset = subset[subset['category'].isin(['Register', 'Work', 'Free', 'Validation Request'])]\n",
    "len(subset)"
   ]
  },
  {
   "cell_type": "code",
   "execution_count": 12,
   "metadata": {},
   "outputs": [],
   "source": [
    "def add_new_source(issnl, issn_list, title, source_type='journal', updated_date=None, session=None):\n",
    "    if session is None:\n",
    "        session = db.session\n",
    "    if updated_date is None:\n",
    "        updated_date = datetime.now(timezone.utc).isoformat()\n",
    "\n",
    "    # make updates\n",
    "    new_issns = json.dumps(issn_list)\n",
    "    new_display_name = title\n",
    "    new_type = source_type\n",
    "    source = Source(\n",
    "        display_name = new_display_name,\n",
    "        issn = issnl,\n",
    "        issns = new_issns,\n",
    "        issns_text_array = issn_list,\n",
    "        type = new_type,\n",
    "        created_date = updated_date,\n",
    "        updated_date = updated_date,\n",
    "    )\n",
    "    session.add(source)\n",
    "    session.commit()\n",
    "    session.refresh(source)\n",
    "    source_id = int(source.id)\n",
    "\n",
    "    # insert into log table\n",
    "    sq = \"\"\"INSERT INTO issn_audit_20240321.update2\n",
    "        (issnl, new_issns, new_display_name, updated_date, source_id, new_type)\n",
    "        VALUES(:issnl, :new_issns, :new_display_name, :updated_date, :source_id, :new_type);\n",
    "        \"\"\"\n",
    "    session.execute(text(sq), {\n",
    "        'issnl': issnl,\n",
    "        'new_issns': new_issns,\n",
    "        'new_display_name': new_display_name,\n",
    "        'updated_date': updated_date,\n",
    "        'source_id': source_id,\n",
    "        'new_type': new_type,\n",
    "    }) \n",
    "    return source_id"
   ]
  },
  {
   "cell_type": "code",
   "execution_count": 26,
   "metadata": {},
   "outputs": [
    {
     "name": "stderr",
     "output_type": "stream",
     "text": [
      " 74%|███████▍  | 6542/8868 [50:59<18:07,  2.14it/s]  \n"
     ]
    },
    {
     "ename": "AttributeError",
     "evalue": "'NoneType' object has no attribute 'lower'",
     "output_type": "error",
     "traceback": [
      "\u001b[0;31m---------------------------------------------------------------------------\u001b[0m",
      "\u001b[0;31mAttributeError\u001b[0m                            Traceback (most recent call last)",
      "Cell \u001b[0;32mIn[26], line 13\u001b[0m\n\u001b[1;32m     10\u001b[0m row \u001b[38;5;241m=\u001b[39m gbdf[gbdf[\u001b[38;5;124m'\u001b[39m\u001b[38;5;124missnl\u001b[39m\u001b[38;5;124m'\u001b[39m]\u001b[38;5;241m==\u001b[39missn_list[\u001b[38;5;241m0\u001b[39m]]\u001b[38;5;241m.\u001b[39miloc[\u001b[38;5;241m0\u001b[39m]\n\u001b[1;32m     12\u001b[0m title \u001b[38;5;241m=\u001b[39m row[\u001b[38;5;124m'\u001b[39m\u001b[38;5;124mtitle\u001b[39m\u001b[38;5;124m'\u001b[39m]\n\u001b[0;32m---> 13\u001b[0m \u001b[38;5;28;01mif\u001b[39;00m \u001b[38;5;124m'\u001b[39m\u001b[38;5;124mconference\u001b[39m\u001b[38;5;124m'\u001b[39m \u001b[38;5;129;01min\u001b[39;00m \u001b[43mtitle\u001b[49m\u001b[38;5;241;43m.\u001b[39;49m\u001b[43mlower\u001b[49m():\n\u001b[1;32m     14\u001b[0m     source_type \u001b[38;5;241m=\u001b[39m \u001b[38;5;124m'\u001b[39m\u001b[38;5;124mconference\u001b[39m\u001b[38;5;124m'\u001b[39m\n\u001b[1;32m     15\u001b[0m \u001b[38;5;28;01melif\u001b[39;00m \u001b[38;5;124m'\u001b[39m\u001b[38;5;124mbook series\u001b[39m\u001b[38;5;124m'\u001b[39m \u001b[38;5;129;01min\u001b[39;00m title\u001b[38;5;241m.\u001b[39mlower():\n",
      "\u001b[0;31mAttributeError\u001b[0m: 'NoneType' object has no attribute 'lower'"
     ]
    }
   ],
   "source": [
    "# update db\n",
    "try:\n",
    "    for issnl, gbdf in tqdm(subset.groupby('issnl'), total=subset['issnl'].nunique()):\n",
    "        updated_date = datetime.now(timezone.utc).isoformat()\n",
    "        issn_list = issnl_to_issn[issnl]\n",
    "        if issnl not in issn_list:\n",
    "            issn_list.append(issnl)\n",
    "        # move issnl to the front\n",
    "        issn_list.insert(0, issn_list.pop(issn_list.index(issnl)))\n",
    "        row = gbdf[gbdf['issnl']==issn_list[0]].iloc[0]\n",
    "            \n",
    "        title = row['title']\n",
    "        if not title:\n",
    "            continue\n",
    "        if 'conference' in title.lower():\n",
    "            source_type = 'conference'\n",
    "        elif 'book series' in title.lower():\n",
    "            source_type = 'book series'\n",
    "        else:\n",
    "            source_type = 'journal'\n",
    "        source_id = add_new_source(issnl, issn_list, title=title, source_type=source_type, updated_date=updated_date, session=db.session)\n",
    "\n",
    "        for issn in issn_list:\n",
    "            sq = \"\"\"update issn_audit_20240321.issn_ic_datafile_202402 set resolved = true\n",
    "                where issn = :issn\n",
    "                \"\"\"\n",
    "            db.session.execute(text(sq), {\n",
    "                'issn': issn,\n",
    "            })\n",
    "\n",
    "        # # commit for each new source\n",
    "        db.session.commit()\n",
    "finally:\n",
    "    db.session.close()"
   ]
  },
  {
   "cell_type": "code",
   "execution_count": 13,
   "metadata": {},
   "outputs": [
    {
     "name": "stderr",
     "output_type": "stream",
     "text": [
      "100%|██████████| 2326/2326 [20:13<00:00,  1.92it/s]\n"
     ]
    }
   ],
   "source": [
    "# update db\n",
    "try:\n",
    "    for issnl, gbdf in tqdm(subset.groupby('issnl'), total=subset['issnl'].nunique()):\n",
    "        updated_date = datetime.now(timezone.utc).isoformat()\n",
    "        issn_list = issnl_to_issn[issnl]\n",
    "        if issnl not in issn_list:\n",
    "            issn_list.append(issnl)\n",
    "        # move issnl to the front\n",
    "        issn_list.insert(0, issn_list.pop(issn_list.index(issnl)))\n",
    "        row = gbdf[gbdf['issnl']==issn_list[0]].iloc[0]\n",
    "            \n",
    "        title = row['title']\n",
    "        if not title:\n",
    "            continue\n",
    "        if 'conference' in title.lower():\n",
    "            source_type = 'conference'\n",
    "        elif 'book series' in title.lower():\n",
    "            source_type = 'book series'\n",
    "        else:\n",
    "            source_type = 'journal'\n",
    "        source_id = add_new_source(issnl, issn_list, title=title, source_type=source_type, updated_date=updated_date, session=db.session)\n",
    "\n",
    "        for issn in issn_list:\n",
    "            sq = \"\"\"update issn_audit_20240321.issn_ic_datafile_202402 set resolved = true\n",
    "                where issn = :issn\n",
    "                \"\"\"\n",
    "            db.session.execute(text(sq), {\n",
    "                'issn': issn,\n",
    "            })\n",
    "\n",
    "        # # commit for each new source\n",
    "        db.session.commit()\n",
    "finally:\n",
    "    db.session.close()"
   ]
  },
  {
   "cell_type": "code",
   "execution_count": null,
   "metadata": {},
   "outputs": [],
   "source": []
  }
 ],
 "metadata": {
  "kernelspec": {
   "display_name": "venv",
   "language": "python",
   "name": "python3"
  },
  "language_info": {
   "codemirror_mode": {
    "name": "ipython",
    "version": 3
   },
   "file_extension": ".py",
   "mimetype": "text/x-python",
   "name": "python",
   "nbconvert_exporter": "python",
   "pygments_lexer": "ipython3",
   "version": "3.9.16"
  }
 },
 "nbformat": 4,
 "nbformat_minor": 2
}
