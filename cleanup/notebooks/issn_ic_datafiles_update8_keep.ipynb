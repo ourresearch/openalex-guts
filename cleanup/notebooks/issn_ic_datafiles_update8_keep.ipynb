{
 "cells": [
  {
   "cell_type": "markdown",
   "metadata": {},
   "source": [
    "# update8 - TBD"
   ]
  },
  {
   "cell_type": "code",
   "execution_count": 1,
   "metadata": {},
   "outputs": [],
   "source": [
    "import sys"
   ]
  },
  {
   "cell_type": "code",
   "execution_count": 2,
   "metadata": {},
   "outputs": [],
   "source": [
    "sys.path.append('../..')"
   ]
  },
  {
   "cell_type": "code",
   "execution_count": 3,
   "metadata": {},
   "outputs": [],
   "source": [
    "from datetime import datetime, timezone\n",
    "import json\n",
    "from tqdm import tqdm\n",
    "from pathlib import Path\n",
    "import gzip\n",
    "import pickle"
   ]
  },
  {
   "cell_type": "code",
   "execution_count": 4,
   "metadata": {},
   "outputs": [],
   "source": [
    "import pandas as pd\n",
    "import numpy as np"
   ]
  },
  {
   "cell_type": "code",
   "execution_count": 5,
   "metadata": {},
   "outputs": [],
   "source": [
    "import rapidfuzz"
   ]
  },
  {
   "cell_type": "code",
   "execution_count": 6,
   "metadata": {},
   "outputs": [
    {
     "name": "stdout",
     "output_type": "stream",
     "text": [
      "140119199445376: loading merged_into_institutions_dict\n",
      "140119199445376: loading valid concept IDs\n",
      "140119199445376: loading valid topic IDs\n",
      "140119199445376: loading valid keyword IDs\n"
     ]
    }
   ],
   "source": [
    "from app import db\n",
    "from models import Source, ISSNtoISSNL\n",
    "from models.source import DELETED_SOURCE_ID\n",
    "from sqlalchemy import text\n",
    "from sqlalchemy.orm import Load\n",
    "from sqlalchemy.exc import MultipleResultsFound"
   ]
  },
  {
   "cell_type": "code",
   "execution_count": 7,
   "metadata": {},
   "outputs": [],
   "source": [
    "from cleanup.util import make_request, paginate_openalex\n"
   ]
  },
  {
   "cell_type": "code",
   "execution_count": null,
   "metadata": {},
   "outputs": [],
   "source": []
  },
  {
   "cell_type": "code",
   "execution_count": 8,
   "metadata": {},
   "outputs": [
    {
     "name": "stdout",
     "output_type": "stream",
     "text": [
      "CPU times: user 698 ms, sys: 138 ms, total: 836 ms\n",
      "Wall time: 1.96 s\n"
     ]
    }
   ],
   "source": [
    "%%time\n",
    "sq = \"\"\"select if.*, ife.cluster_title from issn_audit_20240321.issn_ic_datafile_202402 if\n",
    "left join issn_audit_20240321.issn_ic_datafile_expanded_202402 ife\n",
    "  on if.\"submitted_1348-0278\"  = ife.issns;\"\"\"\n",
    "df_issnl_file = pd.read_sql_query(sq, db.engine)"
   ]
  },
  {
   "cell_type": "code",
   "execution_count": 9,
   "metadata": {},
   "outputs": [],
   "source": [
    "df_issnl_file = df_issnl_file.rename(columns={\"submitted_1348-0278\": \"submitted_issn\"})"
   ]
  },
  {
   "cell_type": "code",
   "execution_count": 10,
   "metadata": {},
   "outputs": [
    {
     "name": "stdout",
     "output_type": "stream",
     "text": [
      "CPU times: user 1.06 s, sys: 76.2 ms, total: 1.14 s\n",
      "Wall time: 1.76 s\n"
     ]
    }
   ],
   "source": [
    "%%time\n",
    "sq = \"\"\"select journal_id, display_name, issn, issns, issns_text_array, type, country_code, alternate_titles, publisher_id\n",
    "    from mid.journal\n",
    "    where merge_into_id is null\n",
    "    and issn is not null\"\"\"\n",
    "df_midjournal = pd.read_sql_query(sq, db.engine)"
   ]
  },
  {
   "cell_type": "code",
   "execution_count": 11,
   "metadata": {},
   "outputs": [
    {
     "name": "stdout",
     "output_type": "stream",
     "text": [
      "141175\n",
      "141175\n"
     ]
    }
   ],
   "source": [
    "print(len(df_midjournal))\n",
    "df_midjournal.dropna(subset='issn', inplace=True)\n",
    "print(len(df_midjournal))"
   ]
  },
  {
   "cell_type": "markdown",
   "metadata": {},
   "source": [
    "Are there duplicate ISSN-Ls in `mid.journal`?"
   ]
  },
  {
   "cell_type": "code",
   "execution_count": 12,
   "metadata": {},
   "outputs": [
    {
     "name": "stdout",
     "output_type": "stream",
     "text": [
      "There are 0 duplicates\n"
     ]
    }
   ],
   "source": [
    "num_duplicates = df_midjournal['issn'].duplicated().sum()\n",
    "print(f\"There are {num_duplicates} duplicates\")"
   ]
  },
  {
   "cell_type": "markdown",
   "metadata": {},
   "source": [
    ":party:"
   ]
  },
  {
   "cell_type": "markdown",
   "metadata": {},
   "source": [
    "Does every ISSN-L in `mid.journal` have the same ISSN as the first item in the ISSN list?"
   ]
  },
  {
   "cell_type": "code",
   "execution_count": 13,
   "metadata": {},
   "outputs": [
    {
     "name": "stdout",
     "output_type": "stream",
     "text": [
      "CPU times: user 1.37 s, sys: 6.6 ms, total: 1.37 s\n",
      "Wall time: 1.37 s\n"
     ]
    }
   ],
   "source": [
    "%%time\n",
    "\n",
    "def _is_first_in_issns(row):\n",
    "    issnl = row['issn']\n",
    "    issn_list = json.loads(row['issns'])\n",
    "    return issnl == issn_list[0]\n",
    "\n",
    "def _is_first_in_issns_text_array(row):\n",
    "    issnl = row['issn']\n",
    "    issn_list = row['issns_text_array']\n",
    "    return issnl == issn_list[0]\n",
    "\n",
    "df_midjournal['issnl_is_first_in_issns'] = df_midjournal.apply(_is_first_in_issns, axis=1)\n",
    "df_midjournal['issnl_is_first_in_issns_text_array'] = df_midjournal.apply(_is_first_in_issns_text_array, axis=1)"
   ]
  },
  {
   "cell_type": "code",
   "execution_count": 14,
   "metadata": {},
   "outputs": [
    {
     "data": {
      "text/plain": [
       "issnl_is_first_in_issns\n",
       "True    141175\n",
       "Name: count, dtype: int64"
      ]
     },
     "execution_count": 14,
     "metadata": {},
     "output_type": "execute_result"
    }
   ],
   "source": [
    "df_midjournal['issnl_is_first_in_issns'].value_counts()"
   ]
  },
  {
   "cell_type": "code",
   "execution_count": 15,
   "metadata": {},
   "outputs": [
    {
     "data": {
      "text/plain": [
       "issnl_is_first_in_issns_text_array\n",
       "True    141175\n",
       "Name: count, dtype: int64"
      ]
     },
     "execution_count": 15,
     "metadata": {},
     "output_type": "execute_result"
    }
   ],
   "source": [
    "df_midjournal['issnl_is_first_in_issns_text_array'].value_counts()"
   ]
  },
  {
   "cell_type": "markdown",
   "metadata": {},
   "source": [
    ":party:"
   ]
  },
  {
   "cell_type": "code",
   "execution_count": null,
   "metadata": {},
   "outputs": [],
   "source": []
  },
  {
   "cell_type": "code",
   "execution_count": 16,
   "metadata": {},
   "outputs": [],
   "source": [
    "df_issn_to_issnl = pd.read_sql_query(\"\"\"select * from mid.journal_issn_to_issnl\"\"\", db.engine)"
   ]
  },
  {
   "cell_type": "code",
   "execution_count": 17,
   "metadata": {},
   "outputs": [],
   "source": [
    "issn_to_issnl = df_issn_to_issnl.set_index('issn', verify_integrity=True)['issnl']"
   ]
  },
  {
   "cell_type": "code",
   "execution_count": 18,
   "metadata": {},
   "outputs": [],
   "source": [
    "issnls = issn_to_issnl.unique()"
   ]
  },
  {
   "cell_type": "code",
   "execution_count": 19,
   "metadata": {},
   "outputs": [
    {
     "data": {
      "text/plain": [
       "141008"
      ]
     },
     "execution_count": 19,
     "metadata": {},
     "output_type": "execute_result"
    }
   ],
   "source": [
    "# get dict of issnl to issn\n",
    "x = df_issn_to_issnl.dropna(subset=['issnl'])\n",
    "# x = x[x['category'].isin(['Register', 'Work', 'Free', 'Validation Request'])]\n",
    "x = x[['issn', 'issnl']]\n",
    "issnl_to_issn = {}\n",
    "ignore = [\n",
    "    '0000-0000',\n",
    "]\n",
    "x = x[~(x['issnl'].isin(ignore))]\n",
    "for name, gbdf in x.groupby('issnl'):\n",
    "    if name in ignore:\n",
    "        continue\n",
    "    issnl_to_issn[name] = gbdf['issn'].tolist()\n",
    "len(issnl_to_issn)"
   ]
  },
  {
   "cell_type": "markdown",
   "metadata": {},
   "source": [
    "Does every ISSN resolve to at most one Source?"
   ]
  },
  {
   "cell_type": "code",
   "execution_count": 20,
   "metadata": {},
   "outputs": [
    {
     "name": "stderr",
     "output_type": "stream",
     "text": [
      "  0%|          | 0/141175 [00:00<?, ?it/s]"
     ]
    },
    {
     "name": "stderr",
     "output_type": "stream",
     "text": [
      "100%|██████████| 141175/141175 [00:00<00:00, 336396.71it/s]\n"
     ]
    }
   ],
   "source": [
    "smap = {}\n",
    "for source_id, issn_list in tqdm(df_midjournal.set_index('journal_id', verify_integrity=True)['issns_text_array'].items(), total=len(df_midjournal)):\n",
    "    for issn in issn_list:\n",
    "        if issn in smap:\n",
    "            smap[issn].append(source_id)\n",
    "        else:\n",
    "            smap[issn] = [source_id]"
   ]
  },
  {
   "cell_type": "code",
   "execution_count": 21,
   "metadata": {},
   "outputs": [],
   "source": [
    "d = []\n",
    "for issn, source_list in smap.items():\n",
    "    d.append({\n",
    "        'issn': issn,\n",
    "        'num_sources': len(source_list),\n",
    "    })\n",
    "_df = pd.DataFrame(d)\n",
    "_df['num_sources'].value_counts()\n",
    "df_issnl_file['num_sources_resolve'] = df_issnl_file['submitted_issn'].map(_df.set_index('issn', verify_integrity=True)['num_sources'])\n",
    "df_issnl_file['num_sources_resolve'].fillna(value=0, inplace=True)"
   ]
  },
  {
   "cell_type": "code",
   "execution_count": 22,
   "metadata": {},
   "outputs": [
    {
     "name": "stdout",
     "output_type": "stream",
     "text": [
      "CPU times: user 1.23 s, sys: 110 ms, total: 1.34 s\n",
      "Wall time: 1.99 s\n"
     ]
    }
   ],
   "source": [
    "%%time\n",
    "sq = \"\"\"select journal_id, display_name, issn, issns, issns_text_array, type, merge_into_id, merge_into_date\n",
    "    from mid.journal\n",
    "    ;\n",
    "    \"\"\"\n",
    "df_midjournal_withmerged = pd.read_sql_query(sq, db.engine)"
   ]
  },
  {
   "cell_type": "code",
   "execution_count": 23,
   "metadata": {},
   "outputs": [
    {
     "name": "stderr",
     "output_type": "stream",
     "text": [
      "100%|██████████| 263991/263991 [00:00<00:00, 495400.39it/s] \n"
     ]
    }
   ],
   "source": [
    "smap_withmerged = {}\n",
    "for source_id, issn_list in tqdm(df_midjournal_withmerged.set_index('journal_id', verify_integrity=True)['issns_text_array'].items(), total=len(df_midjournal_withmerged)):\n",
    "    if issn_list:\n",
    "        for issn in issn_list:\n",
    "            if issn in smap_withmerged:\n",
    "                smap_withmerged[issn].append(source_id)\n",
    "            else:\n",
    "                smap_withmerged[issn] = [source_id]"
   ]
  },
  {
   "cell_type": "code",
   "execution_count": 24,
   "metadata": {},
   "outputs": [],
   "source": [
    "d = []\n",
    "for issn, source_list in smap_withmerged.items():\n",
    "    d.append({\n",
    "        'issn': issn,\n",
    "        'num_sources': len(source_list),\n",
    "    })\n",
    "_df = pd.DataFrame(d)\n",
    "_df['num_sources'].value_counts()\n",
    "df_issnl_file['num_sources_resolve_withmerged'] = df_issnl_file['submitted_issn'].map(_df.set_index('issn', verify_integrity=True)['num_sources'])\n",
    "df_issnl_file['num_sources_resolve_withmerged'].fillna(value=0, inplace=True)"
   ]
  },
  {
   "cell_type": "code",
   "execution_count": 25,
   "metadata": {},
   "outputs": [
    {
     "data": {
      "text/plain": [
       "num_sources_resolve\n",
       "1.0    213253\n",
       "0.0      1353\n",
       "Name: count, dtype: int64"
      ]
     },
     "execution_count": 25,
     "metadata": {},
     "output_type": "execute_result"
    }
   ],
   "source": [
    "df_issnl_file['num_sources_resolve'].value_counts()"
   ]
  },
  {
   "cell_type": "code",
   "execution_count": 26,
   "metadata": {},
   "outputs": [
    {
     "data": {
      "text/plain": [
       "num_sources_resolve_withmerged\n",
       "1.0    204936\n",
       "2.0      8881\n",
       "0.0       552\n",
       "3.0       215\n",
       "6.0        11\n",
       "4.0         9\n",
       "5.0         2\n",
       "Name: count, dtype: int64"
      ]
     },
     "execution_count": 26,
     "metadata": {},
     "output_type": "execute_result"
    }
   ],
   "source": [
    "df_issnl_file['num_sources_resolve_withmerged'].value_counts()"
   ]
  },
  {
   "cell_type": "code",
   "execution_count": 27,
   "metadata": {},
   "outputs": [
    {
     "name": "stdout",
     "output_type": "stream",
     "text": [
      "1126\n"
     ]
    }
   ],
   "source": [
    "# all remaining ones are not ISSNLs\n",
    "# let's deal with only the valid ISSNs\n",
    "df_to_add = df_issnl_file[df_issnl_file['num_sources_resolve']==0]\n",
    "df_to_add = df_to_add[(df_to_add['submitted_issn'] == df_to_add['issn'])]\n",
    "print(len(df_to_add))"
   ]
  },
  {
   "cell_type": "code",
   "execution_count": 28,
   "metadata": {},
   "outputs": [
    {
     "data": {
      "text/plain": [
       "True    1126\n",
       "Name: count, dtype: int64"
      ]
     },
     "execution_count": 28,
     "metadata": {},
     "output_type": "execute_result"
    }
   ],
   "source": [
    "(df_to_add['submitted_issn'] == df_to_add['issn']).value_counts()"
   ]
  },
  {
   "cell_type": "code",
   "execution_count": 29,
   "metadata": {},
   "outputs": [
    {
     "data": {
      "text/plain": [
       "num_sources_resolve_withmerged\n",
       "1.0    710\n",
       "0.0    395\n",
       "2.0     21\n",
       "Name: count, dtype: int64"
      ]
     },
     "execution_count": 29,
     "metadata": {},
     "output_type": "execute_result"
    }
   ],
   "source": [
    "df_to_add['num_sources_resolve_withmerged'].value_counts()"
   ]
  },
  {
   "cell_type": "code",
   "execution_count": 30,
   "metadata": {},
   "outputs": [],
   "source": [
    "d = []\n",
    "midjournal_lookup = df_midjournal_withmerged.set_index('journal_id', verify_integrity=True)\n",
    "for submitted_issn, row in df_to_add[df_to_add['num_sources_resolve_withmerged']>=1].set_index('submitted_issn', verify_integrity=True).iterrows():\n",
    "    this_source_ids = smap_withmerged[submitted_issn]\n",
    "    for source_id in this_source_ids:\n",
    "        midjournal_row = midjournal_lookup.loc[source_id]\n",
    "        d.append({\n",
    "            'submitted_issn': submitted_issn,\n",
    "            'source_id': source_id,\n",
    "            'cluster_title': row['cluster_title'],\n",
    "            'display_name': midjournal_row['display_name'],\n",
    "            'midjournal_issn': midjournal_row['issn'],\n",
    "            'midjournal_issns': midjournal_row['issns'],\n",
    "            'midjournal_issns_text_array': midjournal_row['issns_text_array'],\n",
    "            'midjournal_type': midjournal_row['type'],\n",
    "            'merge_into_id': midjournal_row['merge_into_id'],\n",
    "            'merge_into_date': midjournal_row['merge_into_date'],\n",
    "            'num_sources_resolve_withmerged': row['num_sources_resolve_withmerged'],\n",
    "        })\n",
    "df_unmerge = pd.DataFrame(d)\n",
    "df_unmerge['deleted'] = df_unmerge['merge_into_id'] == DELETED_SOURCE_ID\n"
   ]
  },
  {
   "cell_type": "code",
   "execution_count": 31,
   "metadata": {},
   "outputs": [],
   "source": [
    "df_to_add['issnl_lookup'] = df_to_add['issn'].map(issn_to_issnl)"
   ]
  },
  {
   "cell_type": "code",
   "execution_count": 32,
   "metadata": {},
   "outputs": [
    {
     "data": {
      "text/plain": [
       "issnl\n",
       "True     1098\n",
       "False      28\n",
       "Name: count, dtype: int64"
      ]
     },
     "execution_count": 32,
     "metadata": {},
     "output_type": "execute_result"
    }
   ],
   "source": [
    "df_to_add['issnl'].isna().value_counts()"
   ]
  },
  {
   "cell_type": "code",
   "execution_count": 33,
   "metadata": {},
   "outputs": [
    {
     "data": {
      "text/plain": [
       "issnl_lookup\n",
       "True     1117\n",
       "False       9\n",
       "Name: count, dtype: int64"
      ]
     },
     "execution_count": 33,
     "metadata": {},
     "output_type": "execute_result"
    }
   ],
   "source": [
    "df_to_add['issnl_lookup'].isna().value_counts()"
   ]
  },
  {
   "cell_type": "markdown",
   "metadata": {},
   "source": [
    "I think we're done"
   ]
  },
  {
   "cell_type": "code",
   "execution_count": null,
   "metadata": {},
   "outputs": [],
   "source": []
  },
  {
   "cell_type": "code",
   "execution_count": null,
   "metadata": {},
   "outputs": [],
   "source": []
  }
 ],
 "metadata": {
  "kernelspec": {
   "display_name": "venv",
   "language": "python",
   "name": "python3"
  },
  "language_info": {
   "codemirror_mode": {
    "name": "ipython",
    "version": 3
   },
   "file_extension": ".py",
   "mimetype": "text/x-python",
   "name": "python",
   "nbconvert_exporter": "python",
   "pygments_lexer": "ipython3",
   "version": "3.9.16"
  }
 },
 "nbformat": 4,
 "nbformat_minor": 2
}
