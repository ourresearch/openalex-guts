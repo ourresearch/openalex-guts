{
 "cells": [
  {
   "cell_type": "markdown",
   "metadata": {},
   "source": [
    "# update1 post-mortem"
   ]
  },
  {
   "cell_type": "code",
   "execution_count": 1,
   "metadata": {},
   "outputs": [],
   "source": [
    "import sys"
   ]
  },
  {
   "cell_type": "code",
   "execution_count": 2,
   "metadata": {},
   "outputs": [],
   "source": [
    "sys.path.append('../..')"
   ]
  },
  {
   "cell_type": "code",
   "execution_count": 52,
   "metadata": {},
   "outputs": [],
   "source": [
    "from datetime import datetime, timezone\n",
    "import json\n",
    "from tqdm import tqdm\n",
    "from pathlib import Path\n",
    "import gzip"
   ]
  },
  {
   "cell_type": "code",
   "execution_count": 4,
   "metadata": {},
   "outputs": [],
   "source": [
    "import pandas as pd\n",
    "import numpy as np"
   ]
  },
  {
   "cell_type": "code",
   "execution_count": 5,
   "metadata": {},
   "outputs": [
    {
     "name": "stdout",
     "output_type": "stream",
     "text": [
      "139992277139840: loading merged_into_institutions_dict\n",
      "139992277139840: loading valid concept IDs\n",
      "139992277139840: loading valid topic IDs\n"
     ]
    }
   ],
   "source": [
    "from app import db\n",
    "from models import Source\n",
    "from sqlalchemy import text\n",
    "from sqlalchemy.orm import Load\n",
    "from sqlalchemy.exc import MultipleResultsFound"
   ]
  },
  {
   "cell_type": "code",
   "execution_count": 6,
   "metadata": {},
   "outputs": [],
   "source": [
    "sq = \"\"\"select * from issn_audit_20240321.update1\"\"\"\n",
    "df_update1 = pd.read_sql_query(sq, db.engine)"
   ]
  },
  {
   "cell_type": "code",
   "execution_count": 7,
   "metadata": {},
   "outputs": [
    {
     "name": "stdout",
     "output_type": "stream",
     "text": [
      "<class 'pandas.core.frame.DataFrame'>\n",
      "RangeIndex: 127588 entries, 0 to 127587\n",
      "Data columns (total 10 columns):\n",
      " #   Column            Non-Null Count   Dtype         \n",
      "---  ------            --------------   -----         \n",
      " 0   issnl             127588 non-null  object        \n",
      " 1   old_issns         127588 non-null  object        \n",
      " 2   new_issns         127588 non-null  object        \n",
      " 3   old_issnl         127588 non-null  object        \n",
      " 4   old_display_name  127588 non-null  object        \n",
      " 5   new_display_name  127588 non-null  object        \n",
      " 6   updated_date      127588 non-null  datetime64[ns]\n",
      " 7   source_id         127588 non-null  int64         \n",
      " 8   old_type          127583 non-null  object        \n",
      " 9   new_type          127588 non-null  object        \n",
      "dtypes: datetime64[ns](1), int64(1), object(8)\n",
      "memory usage: 9.7+ MB\n"
     ]
    }
   ],
   "source": [
    "df_update1.info()"
   ]
  },
  {
   "cell_type": "markdown",
   "metadata": {},
   "source": [
    "## revert changes to source type; shouldn't have done that"
   ]
  },
  {
   "cell_type": "code",
   "execution_count": 8,
   "metadata": {},
   "outputs": [],
   "source": [
    "def get_source_from_db_by_source_id(source_id: int, session) -> Source:\n",
    "    source = session.query(Source).options(Load(Source).lazyload('*')).filter_by(journal_id=source_id).one_or_none()\n",
    "    return source\n"
   ]
  },
  {
   "cell_type": "code",
   "execution_count": 10,
   "metadata": {},
   "outputs": [
    {
     "data": {
      "text/plain": [
       "7871"
      ]
     },
     "execution_count": 10,
     "metadata": {},
     "output_type": "execute_result"
    }
   ],
   "source": [
    "df_subset_revert_type = df_update1[df_update1['old_type']!=df_update1['new_type']]\n",
    "len(df_subset_revert_type)"
   ]
  },
  {
   "cell_type": "code",
   "execution_count": 12,
   "metadata": {},
   "outputs": [
    {
     "data": {
      "text/plain": [
       "0"
      ]
     },
     "execution_count": 12,
     "metadata": {},
     "output_type": "execute_result"
    }
   ],
   "source": [
    "df_subset_revert_type['source_id'].duplicated().sum()"
   ]
  },
  {
   "cell_type": "code",
   "execution_count": 13,
   "metadata": {},
   "outputs": [],
   "source": [
    "df_subset_revert_type = df_subset_revert_type.set_index('source_id')[['old_type', 'new_type']]"
   ]
  },
  {
   "cell_type": "code",
   "execution_count": 14,
   "metadata": {},
   "outputs": [
    {
     "data": {
      "text/html": [
       "<div>\n",
       "<style scoped>\n",
       "    .dataframe tbody tr th:only-of-type {\n",
       "        vertical-align: middle;\n",
       "    }\n",
       "\n",
       "    .dataframe tbody tr th {\n",
       "        vertical-align: top;\n",
       "    }\n",
       "\n",
       "    .dataframe thead th {\n",
       "        text-align: right;\n",
       "    }\n",
       "</style>\n",
       "<table border=\"1\" class=\"dataframe\">\n",
       "  <thead>\n",
       "    <tr style=\"text-align: right;\">\n",
       "      <th></th>\n",
       "      <th>old_type</th>\n",
       "      <th>new_type</th>\n",
       "    </tr>\n",
       "    <tr>\n",
       "      <th>source_id</th>\n",
       "      <th></th>\n",
       "      <th></th>\n",
       "    </tr>\n",
       "  </thead>\n",
       "  <tbody>\n",
       "    <tr>\n",
       "      <th>4210189819</th>\n",
       "      <td>book series</td>\n",
       "      <td>journal</td>\n",
       "    </tr>\n",
       "    <tr>\n",
       "      <th>4210192866</th>\n",
       "      <td>book series</td>\n",
       "      <td>journal</td>\n",
       "    </tr>\n",
       "    <tr>\n",
       "      <th>4210230996</th>\n",
       "      <td>ebook platform</td>\n",
       "      <td>journal</td>\n",
       "    </tr>\n",
       "    <tr>\n",
       "      <th>49489055</th>\n",
       "      <td>book series</td>\n",
       "      <td>journal</td>\n",
       "    </tr>\n",
       "    <tr>\n",
       "      <th>188676343</th>\n",
       "      <td>book series</td>\n",
       "      <td>journal</td>\n",
       "    </tr>\n",
       "    <tr>\n",
       "      <th>...</th>\n",
       "      <td>...</td>\n",
       "      <td>...</td>\n",
       "    </tr>\n",
       "    <tr>\n",
       "      <th>4210203369</th>\n",
       "      <td>conference</td>\n",
       "      <td>journal</td>\n",
       "    </tr>\n",
       "    <tr>\n",
       "      <th>4210222037</th>\n",
       "      <td>conference</td>\n",
       "      <td>journal</td>\n",
       "    </tr>\n",
       "    <tr>\n",
       "      <th>4220651191</th>\n",
       "      <td>conference</td>\n",
       "      <td>journal</td>\n",
       "    </tr>\n",
       "    <tr>\n",
       "      <th>4210187508</th>\n",
       "      <td>book series</td>\n",
       "      <td>journal</td>\n",
       "    </tr>\n",
       "    <tr>\n",
       "      <th>4210235804</th>\n",
       "      <td>book series</td>\n",
       "      <td>journal</td>\n",
       "    </tr>\n",
       "  </tbody>\n",
       "</table>\n",
       "<p>7871 rows × 2 columns</p>\n",
       "</div>"
      ],
      "text/plain": [
       "                  old_type new_type\n",
       "source_id                          \n",
       "4210189819     book series  journal\n",
       "4210192866     book series  journal\n",
       "4210230996  ebook platform  journal\n",
       "49489055       book series  journal\n",
       "188676343      book series  journal\n",
       "...                    ...      ...\n",
       "4210203369      conference  journal\n",
       "4210222037      conference  journal\n",
       "4220651191      conference  journal\n",
       "4210187508     book series  journal\n",
       "4210235804     book series  journal\n",
       "\n",
       "[7871 rows x 2 columns]"
      ]
     },
     "execution_count": 14,
     "metadata": {},
     "output_type": "execute_result"
    }
   ],
   "source": [
    "df_subset_revert_type"
   ]
  },
  {
   "cell_type": "code",
   "execution_count": 15,
   "metadata": {},
   "outputs": [
    {
     "name": "stderr",
     "output_type": "stream",
     "text": [
      "100%|██████████| 7871/7871 [20:02<00:00,  6.55it/s]\n"
     ]
    }
   ],
   "source": [
    "# update db\n",
    "try:\n",
    "    for source_id, row in tqdm(df_subset_revert_type.iterrows(), total=len(df_subset_revert_type)):\n",
    "        updated_date = datetime.now(timezone.utc).isoformat()\n",
    "\n",
    "        # make updates\n",
    "        source = get_source_from_db_by_source_id(source_id, db.session)\n",
    "        old_type = source.type\n",
    "        new_type = row['old_type']\n",
    "        source.type = new_type\n",
    "        source.updated_date = updated_date\n",
    "        db.session.add(source)\n",
    "\n",
    "            # insert into log table\n",
    "        sq = \"\"\"INSERT INTO issn_audit_20240321.update1_postmortem_revert_type\n",
    "            (source_id, old_type, new_type, updated_date)\n",
    "            VALUES(:source_id, :old_type, :new_type, :updated_date);\n",
    "            \"\"\"\n",
    "        db.session.execute(text(sq), {\n",
    "            'source_id': source.id,\n",
    "            'old_type': old_type,\n",
    "            'new_type': new_type,\n",
    "            'updated_date': updated_date,\n",
    "        }) \n",
    "\n",
    "        # commit for each source_id\n",
    "        db.session.commit()\n",
    "finally:\n",
    "    db.session.close()"
   ]
  },
  {
   "cell_type": "code",
   "execution_count": null,
   "metadata": {},
   "outputs": [],
   "source": []
  },
  {
   "cell_type": "code",
   "execution_count": null,
   "metadata": {},
   "outputs": [],
   "source": []
  },
  {
   "cell_type": "code",
   "execution_count": 16,
   "metadata": {},
   "outputs": [
    {
     "data": {
      "text/plain": [
       "count\n",
       "False    125275\n",
       "True       1150\n",
       "Name: count, dtype: int64"
      ]
     },
     "execution_count": 16,
     "metadata": {},
     "output_type": "execute_result"
    }
   ],
   "source": [
    "vc = df_update1['source_id'].value_counts()\n",
    "(vc>1).value_counts()"
   ]
  },
  {
   "cell_type": "code",
   "execution_count": 17,
   "metadata": {},
   "outputs": [],
   "source": [
    "df_update1[df_update1['source_id'].isin(vc[vc>1].index)].to_csv('../data/tmpupdate1dupsourceids.csv')"
   ]
  },
  {
   "cell_type": "code",
   "execution_count": 19,
   "metadata": {},
   "outputs": [
    {
     "name": "stdout",
     "output_type": "stream",
     "text": [
      "CPU times: user 1.02 s, sys: 223 ms, total: 1.25 s\n",
      "Wall time: 2.44 s\n"
     ]
    }
   ],
   "source": [
    "%%time\n",
    "sq = \"\"\"select * from issn_audit_20240321.issn_ic_datafile_202402\"\"\"\n",
    "df_datafile = pd.read_sql_query(sq, db.engine)"
   ]
  },
  {
   "cell_type": "code",
   "execution_count": 20,
   "metadata": {},
   "outputs": [
    {
     "data": {
      "text/html": [
       "<div>\n",
       "<style scoped>\n",
       "    .dataframe tbody tr th:only-of-type {\n",
       "        vertical-align: middle;\n",
       "    }\n",
       "\n",
       "    .dataframe tbody tr th {\n",
       "        vertical-align: top;\n",
       "    }\n",
       "\n",
       "    .dataframe thead th {\n",
       "        text-align: right;\n",
       "    }\n",
       "</style>\n",
       "<table border=\"1\" class=\"dataframe\">\n",
       "  <thead>\n",
       "    <tr style=\"text-align: right;\">\n",
       "      <th></th>\n",
       "      <th>index</th>\n",
       "      <th>submitted_1348-0278</th>\n",
       "      <th>issn</th>\n",
       "      <th>issnl</th>\n",
       "      <th>category</th>\n",
       "      <th>medium</th>\n",
       "      <th>frequency</th>\n",
       "      <th>country</th>\n",
       "      <th>center</th>\n",
       "      <th>language</th>\n",
       "      <th>start</th>\n",
       "      <th>end</th>\n",
       "      <th>title</th>\n",
       "      <th>comment</th>\n",
       "    </tr>\n",
       "  </thead>\n",
       "  <tbody>\n",
       "    <tr>\n",
       "      <th>0</th>\n",
       "      <td>110805</td>\n",
       "      <td>0000-0205</td>\n",
       "      <td>0000-0205</td>\n",
       "      <td>0000-0205</td>\n",
       "      <td>Register</td>\n",
       "      <td>Print</td>\n",
       "      <td>Biennial</td>\n",
       "      <td>UNITED STATES</td>\n",
       "      <td>United States</td>\n",
       "      <td>English</td>\n",
       "      <td>1968</td>\n",
       "      <td>2014</td>\n",
       "      <td>Who's who in American politics</td>\n",
       "      <td></td>\n",
       "    </tr>\n",
       "    <tr>\n",
       "      <th>1</th>\n",
       "      <td>193047</td>\n",
       "      <td>0000-1112</td>\n",
       "      <td>0000-1112</td>\n",
       "      <td>0000-1112</td>\n",
       "      <td>Register</td>\n",
       "      <td>Print</td>\n",
       "      <td>Annual</td>\n",
       "      <td>UNITED STATES</td>\n",
       "      <td>United States</td>\n",
       "      <td>English</td>\n",
       "      <td>1984</td>\n",
       "      <td>1988</td>\n",
       "      <td>Audio video market place</td>\n",
       "      <td></td>\n",
       "    </tr>\n",
       "    <tr>\n",
       "      <th>2</th>\n",
       "      <td>114080</td>\n",
       "      <td>0000-992X</td>\n",
       "      <td>0000-992X</td>\n",
       "      <td>None</td>\n",
       "      <td>Legacy</td>\n",
       "      <td>None</td>\n",
       "      <td>No attempt to code</td>\n",
       "      <td>LEGACY_BOW</td>\n",
       "      <td>International</td>\n",
       "      <td>None</td>\n",
       "      <td>||||</td>\n",
       "      <td>||||</td>\n",
       "      <td>None</td>\n",
       "      <td></td>\n",
       "    </tr>\n",
       "    <tr>\n",
       "      <th>3</th>\n",
       "      <td>116440</td>\n",
       "      <td>0001-0197</td>\n",
       "      <td>0001-0197</td>\n",
       "      <td>0001-0197</td>\n",
       "      <td>Register</td>\n",
       "      <td>Print</td>\n",
       "      <td>No determinable frequency</td>\n",
       "      <td>CANADA</td>\n",
       "      <td>Canada</td>\n",
       "      <td>English</td>\n",
       "      <td>1945</td>\n",
       "      <td>1998</td>\n",
       "      <td>A A R N newsletter</td>\n",
       "      <td></td>\n",
       "    </tr>\n",
       "    <tr>\n",
       "      <th>4</th>\n",
       "      <td>29546</td>\n",
       "      <td>0001-026X</td>\n",
       "      <td>0001-026X</td>\n",
       "      <td>0001-026X</td>\n",
       "      <td>Register</td>\n",
       "      <td>Print</td>\n",
       "      <td>Quarterly</td>\n",
       "      <td>UNITED STATES</td>\n",
       "      <td>United States</td>\n",
       "      <td>English</td>\n",
       "      <td>1956</td>\n",
       "      <td>1978</td>\n",
       "      <td>AAUP bulletin</td>\n",
       "      <td></td>\n",
       "    </tr>\n",
       "    <tr>\n",
       "      <th>...</th>\n",
       "      <td>...</td>\n",
       "      <td>...</td>\n",
       "      <td>...</td>\n",
       "      <td>...</td>\n",
       "      <td>...</td>\n",
       "      <td>...</td>\n",
       "      <td>...</td>\n",
       "      <td>...</td>\n",
       "      <td>...</td>\n",
       "      <td>...</td>\n",
       "      <td>...</td>\n",
       "      <td>...</td>\n",
       "      <td>...</td>\n",
       "      <td>...</td>\n",
       "    </tr>\n",
       "    <tr>\n",
       "      <th>214601</th>\n",
       "      <td>117732</td>\n",
       "      <td>8756-8926</td>\n",
       "      <td>8756-8926</td>\n",
       "      <td>8756-8926</td>\n",
       "      <td>Register</td>\n",
       "      <td>Print</td>\n",
       "      <td>Semiannual</td>\n",
       "      <td>UNITED STATES</td>\n",
       "      <td>United States</td>\n",
       "      <td>English</td>\n",
       "      <td>1983</td>\n",
       "      <td>1987</td>\n",
       "      <td>New York Law School human rights annual</td>\n",
       "      <td></td>\n",
       "    </tr>\n",
       "    <tr>\n",
       "      <th>214602</th>\n",
       "      <td>55656</td>\n",
       "      <td>8756-9264</td>\n",
       "      <td>8756-9264</td>\n",
       "      <td>8756-9264</td>\n",
       "      <td>Register</td>\n",
       "      <td>Print</td>\n",
       "      <td>Bimonthly</td>\n",
       "      <td>UNITED STATES</td>\n",
       "      <td>United States</td>\n",
       "      <td>English</td>\n",
       "      <td>1985</td>\n",
       "      <td>1986</td>\n",
       "      <td>Clinical progress in electrophysiology and pacing</td>\n",
       "      <td></td>\n",
       "    </tr>\n",
       "    <tr>\n",
       "      <th>214603</th>\n",
       "      <td>35716</td>\n",
       "      <td>8756-971X</td>\n",
       "      <td>8756-971X</td>\n",
       "      <td>8756-971X</td>\n",
       "      <td>Register</td>\n",
       "      <td>Print</td>\n",
       "      <td>Quarterly</td>\n",
       "      <td>UNITED STATES</td>\n",
       "      <td>United States</td>\n",
       "      <td>English</td>\n",
       "      <td>1985</td>\n",
       "      <td>9999</td>\n",
       "      <td>Journal of the American Mosquito Control Assoc...</td>\n",
       "      <td></td>\n",
       "    </tr>\n",
       "    <tr>\n",
       "      <th>214604</th>\n",
       "      <td>150972</td>\n",
       "      <td>8756-9728</td>\n",
       "      <td>8756-9728</td>\n",
       "      <td>1938-9507</td>\n",
       "      <td>Register</td>\n",
       "      <td>Print</td>\n",
       "      <td>Quarterly</td>\n",
       "      <td>UNITED STATES</td>\n",
       "      <td>United Kingdom</td>\n",
       "      <td>English</td>\n",
       "      <td>1984</td>\n",
       "      <td>9999</td>\n",
       "      <td>Project management journal</td>\n",
       "      <td></td>\n",
       "    </tr>\n",
       "    <tr>\n",
       "      <th>214605</th>\n",
       "      <td>118679</td>\n",
       "      <td>8756-9787</td>\n",
       "      <td>8756-9787</td>\n",
       "      <td>8756-9787</td>\n",
       "      <td>Register</td>\n",
       "      <td>Print</td>\n",
       "      <td>Annual</td>\n",
       "      <td>UNITED STATES</td>\n",
       "      <td>United States</td>\n",
       "      <td>English</td>\n",
       "      <td>1985</td>\n",
       "      <td>1988</td>\n",
       "      <td>Magnetic resonance annual</td>\n",
       "      <td></td>\n",
       "    </tr>\n",
       "  </tbody>\n",
       "</table>\n",
       "<p>214606 rows × 14 columns</p>\n",
       "</div>"
      ],
      "text/plain": [
       "         index submitted_1348-0278       issn      issnl  category medium   \n",
       "0       110805           0000-0205  0000-0205  0000-0205  Register  Print  \\\n",
       "1       193047           0000-1112  0000-1112  0000-1112  Register  Print   \n",
       "2       114080           0000-992X  0000-992X       None    Legacy   None   \n",
       "3       116440           0001-0197  0001-0197  0001-0197  Register  Print   \n",
       "4        29546           0001-026X  0001-026X  0001-026X  Register  Print   \n",
       "...        ...                 ...        ...        ...       ...    ...   \n",
       "214601  117732           8756-8926  8756-8926  8756-8926  Register  Print   \n",
       "214602   55656           8756-9264  8756-9264  8756-9264  Register  Print   \n",
       "214603   35716           8756-971X  8756-971X  8756-971X  Register  Print   \n",
       "214604  150972           8756-9728  8756-9728  1938-9507  Register  Print   \n",
       "214605  118679           8756-9787  8756-9787  8756-9787  Register  Print   \n",
       "\n",
       "                        frequency        country          center language   \n",
       "0                        Biennial  UNITED STATES   United States  English  \\\n",
       "1                          Annual  UNITED STATES   United States  English   \n",
       "2              No attempt to code     LEGACY_BOW   International     None   \n",
       "3       No determinable frequency         CANADA          Canada  English   \n",
       "4                       Quarterly  UNITED STATES   United States  English   \n",
       "...                           ...            ...             ...      ...   \n",
       "214601                 Semiannual  UNITED STATES   United States  English   \n",
       "214602                  Bimonthly  UNITED STATES   United States  English   \n",
       "214603                  Quarterly  UNITED STATES   United States  English   \n",
       "214604                  Quarterly  UNITED STATES  United Kingdom  English   \n",
       "214605                     Annual  UNITED STATES   United States  English   \n",
       "\n",
       "       start   end                                              title comment  \n",
       "0       1968  2014                     Who's who in American politics          \n",
       "1       1984  1988                           Audio video market place          \n",
       "2       ||||  ||||                                               None          \n",
       "3       1945  1998                                 A A R N newsletter          \n",
       "4       1956  1978                                      AAUP bulletin          \n",
       "...      ...   ...                                                ...     ...  \n",
       "214601  1983  1987            New York Law School human rights annual          \n",
       "214602  1985  1986  Clinical progress in electrophysiology and pacing          \n",
       "214603  1985  9999  Journal of the American Mosquito Control Assoc...          \n",
       "214604  1984  9999                         Project management journal          \n",
       "214605  1985  1988                          Magnetic resonance annual          \n",
       "\n",
       "[214606 rows x 14 columns]"
      ]
     },
     "execution_count": 20,
     "metadata": {},
     "output_type": "execute_result"
    }
   ],
   "source": [
    "df_datafile"
   ]
  },
  {
   "cell_type": "code",
   "execution_count": 21,
   "metadata": {},
   "outputs": [
    {
     "data": {
      "text/plain": [
       "140984"
      ]
     },
     "execution_count": 21,
     "metadata": {},
     "output_type": "execute_result"
    }
   ],
   "source": [
    "# get dict of issnl to issn\n",
    "x = df_datafile.dropna(subset=['issnl'])\n",
    "x = x[x['category'].isin(['Register', 'Work', 'Free', 'Validation Request'])]\n",
    "x = x[['issn', 'issnl']]\n",
    "issnl_to_issn = {}\n",
    "ignore = [\n",
    "    '0000-0000',\n",
    "]\n",
    "x = x[~(x['issnl'].isin(ignore))]\n",
    "for name, gbdf in x.groupby('issnl'):\n",
    "    if name in ignore:\n",
    "        continue\n",
    "    issnl_to_issn[name] = gbdf['issn'].tolist()\n",
    "len(issnl_to_issn)"
   ]
  },
  {
   "cell_type": "code",
   "execution_count": 22,
   "metadata": {},
   "outputs": [],
   "source": [
    "num_hits = {\n",
    "    issnl: sum(issn in issnl_to_issn.keys() for issn in v)\n",
    "    for issnl, v in issnl_to_issn.items()\n",
    "}"
   ]
  },
  {
   "cell_type": "code",
   "execution_count": 23,
   "metadata": {},
   "outputs": [],
   "source": [
    "num_hits = pd.Series(num_hits)"
   ]
  },
  {
   "cell_type": "code",
   "execution_count": 24,
   "metadata": {},
   "outputs": [
    {
     "data": {
      "text/plain": [
       "0012-7477    0\n",
       "0047-1321    0\n",
       "0069-8458    0\n",
       "0074-4433    0\n",
       "0074-4441    0\n",
       "            ..\n",
       "3009-612X    0\n",
       "3009-7320    0\n",
       "3009-7487    0\n",
       "3009-7797    0\n",
       "3025-6984    0\n",
       "Length: 860, dtype: int64"
      ]
     },
     "execution_count": 24,
     "metadata": {},
     "output_type": "execute_result"
    }
   ],
   "source": [
    "num_hits[num_hits==0]"
   ]
  },
  {
   "cell_type": "code",
   "execution_count": 28,
   "metadata": {},
   "outputs": [
    {
     "data": {
      "text/plain": [
       "['3009-7886']"
      ]
     },
     "execution_count": 28,
     "metadata": {},
     "output_type": "execute_result"
    }
   ],
   "source": [
    "issnl_to_issn['3009-7487']"
   ]
  },
  {
   "cell_type": "code",
   "execution_count": 53,
   "metadata": {},
   "outputs": [
    {
     "name": "stderr",
     "output_type": "stream",
     "text": [
      "100%|██████████| 8/8 [00:22<00:00,  2.77s/it]\n"
     ]
    }
   ],
   "source": [
    "# get sources from snapshot\n",
    "datadir = Path('/mnt/d/openalex-snapshot-20240227/data/sources/')\n",
    "jsonl_files = list(datadir.rglob('*.gz'))\n",
    "sources = {}\n",
    "for fp in tqdm(jsonl_files):\n",
    "    with gzip.open(fp, 'r') as sources_jsonl:\n",
    "        for source_json in sources_jsonl:\n",
    "            if not source_json.strip():\n",
    "                continue\n",
    "\n",
    "            source = json.loads(source_json)\n",
    "            source_id = int(source['id'].lower().replace('https://openalex.org/s', ''))\n",
    "            sources[source_id] = source"
   ]
  },
  {
   "cell_type": "code",
   "execution_count": null,
   "metadata": {},
   "outputs": [],
   "source": []
  },
  {
   "cell_type": "code",
   "execution_count": 25,
   "metadata": {},
   "outputs": [],
   "source": [
    "dupsource = df_update1[df_update1['source_id'].isin(vc[vc>1].index)]"
   ]
  },
  {
   "cell_type": "code",
   "execution_count": 31,
   "metadata": {},
   "outputs": [
    {
     "data": {
      "text/html": [
       "<div>\n",
       "<style scoped>\n",
       "    .dataframe tbody tr th:only-of-type {\n",
       "        vertical-align: middle;\n",
       "    }\n",
       "\n",
       "    .dataframe tbody tr th {\n",
       "        vertical-align: top;\n",
       "    }\n",
       "\n",
       "    .dataframe thead th {\n",
       "        text-align: right;\n",
       "    }\n",
       "</style>\n",
       "<table border=\"1\" class=\"dataframe\">\n",
       "  <thead>\n",
       "    <tr style=\"text-align: right;\">\n",
       "      <th></th>\n",
       "      <th>issnl</th>\n",
       "      <th>old_issns</th>\n",
       "      <th>new_issns</th>\n",
       "      <th>old_issnl</th>\n",
       "      <th>old_display_name</th>\n",
       "      <th>new_display_name</th>\n",
       "      <th>updated_date</th>\n",
       "      <th>source_id</th>\n",
       "      <th>old_type</th>\n",
       "      <th>new_type</th>\n",
       "    </tr>\n",
       "  </thead>\n",
       "  <tbody>\n",
       "    <tr>\n",
       "      <th>11343</th>\n",
       "      <td>0178-4919</td>\n",
       "      <td>[\"0022-3476\", \"1085-8695\", \"1097-6833\"]</td>\n",
       "      <td>[\"0178-4919\"]</td>\n",
       "      <td>0022-3476</td>\n",
       "      <td>The Journal of pediatrics</td>\n",
       "      <td>Zeitschrift für Kinderheilkunde. Originalien</td>\n",
       "      <td>2024-03-30 20:23:04.615623</td>\n",
       "      <td>3774022</td>\n",
       "      <td>journal</td>\n",
       "      <td>journal</td>\n",
       "    </tr>\n",
       "    <tr>\n",
       "      <th>3333</th>\n",
       "      <td>0022-3476</td>\n",
       "      <td>[\"1085-8695\", \"0178-4919\", \"0022-3476\", \"1097-...</td>\n",
       "      <td>[\"0022-3476\", \"1085-8695\", \"1097-6833\"]</td>\n",
       "      <td>0022-3476</td>\n",
       "      <td>The Journal of Pediatrics</td>\n",
       "      <td>The Journal of pediatrics</td>\n",
       "      <td>2024-03-30 20:23:04.615623</td>\n",
       "      <td>3774022</td>\n",
       "      <td>journal</td>\n",
       "      <td>journal</td>\n",
       "    </tr>\n",
       "    <tr>\n",
       "      <th>17365</th>\n",
       "      <td>0375-9865</td>\n",
       "      <td>[\"0038-092X\", \"1471-1257\"]</td>\n",
       "      <td>[\"0375-9865\"]</td>\n",
       "      <td>0038-092X</td>\n",
       "      <td>Solar energy (Print)</td>\n",
       "      <td>Journal of Solar Energy Science and Engineering</td>\n",
       "      <td>2024-03-30 20:23:04.615623</td>\n",
       "      <td>5745031</td>\n",
       "      <td>journal</td>\n",
       "      <td>journal</td>\n",
       "    </tr>\n",
       "    <tr>\n",
       "      <th>5660</th>\n",
       "      <td>0038-092X</td>\n",
       "      <td>[\"0375-9865\", \"1471-1257\", \"0038-092X\"]</td>\n",
       "      <td>[\"0038-092X\", \"1471-1257\"]</td>\n",
       "      <td>0038-092X</td>\n",
       "      <td>Solar Energy</td>\n",
       "      <td>Solar energy (Print)</td>\n",
       "      <td>2024-03-30 20:23:04.615623</td>\n",
       "      <td>5745031</td>\n",
       "      <td>journal</td>\n",
       "      <td>journal</td>\n",
       "    </tr>\n",
       "    <tr>\n",
       "      <th>31853</th>\n",
       "      <td>1166-8253</td>\n",
       "      <td>[\"0761-8425\", \"1776-2588\"]</td>\n",
       "      <td>[\"1166-8253\"]</td>\n",
       "      <td>0761-8425</td>\n",
       "      <td>Revue des maladies respiratoires</td>\n",
       "      <td>Revue des maladies respiratoires. Supplément</td>\n",
       "      <td>2024-03-30 20:23:04.615623</td>\n",
       "      <td>6672359</td>\n",
       "      <td>journal</td>\n",
       "      <td>journal</td>\n",
       "    </tr>\n",
       "    <tr>\n",
       "      <th>...</th>\n",
       "      <td>...</td>\n",
       "      <td>...</td>\n",
       "      <td>...</td>\n",
       "      <td>...</td>\n",
       "      <td>...</td>\n",
       "      <td>...</td>\n",
       "      <td>...</td>\n",
       "      <td>...</td>\n",
       "      <td>...</td>\n",
       "      <td>...</td>\n",
       "    </tr>\n",
       "    <tr>\n",
       "      <th>126486</th>\n",
       "      <td>2988-7062</td>\n",
       "      <td>[\"2252-3642\"]</td>\n",
       "      <td>[\"2988-7062\"]</td>\n",
       "      <td>2252-3642</td>\n",
       "      <td>Jurnal Health Society</td>\n",
       "      <td>Jurnal Health Society (online)</td>\n",
       "      <td>2024-03-30 20:23:04.615623</td>\n",
       "      <td>4390963349</td>\n",
       "      <td>journal</td>\n",
       "      <td>journal</td>\n",
       "    </tr>\n",
       "    <tr>\n",
       "      <th>127481</th>\n",
       "      <td>3031-0636</td>\n",
       "      <td>[\"3026-2550\"]</td>\n",
       "      <td>[\"3031-0636\"]</td>\n",
       "      <td>3026-2550</td>\n",
       "      <td>Jurnal Konatif (Online)</td>\n",
       "      <td>Jurnal Konatif</td>\n",
       "      <td>2024-03-30 20:23:04.615623</td>\n",
       "      <td>4390963368</td>\n",
       "      <td>journal</td>\n",
       "      <td>journal</td>\n",
       "    </tr>\n",
       "    <tr>\n",
       "      <th>127318</th>\n",
       "      <td>3026-2550</td>\n",
       "      <td>[\"3031-0636\", \"3026-2550\"]</td>\n",
       "      <td>[\"3026-2550\"]</td>\n",
       "      <td>3031-0636</td>\n",
       "      <td>Jurnal Konatif Jurnal Ilmiah Pendidikan</td>\n",
       "      <td>Jurnal Konatif (Online)</td>\n",
       "      <td>2024-03-30 20:23:04.615623</td>\n",
       "      <td>4390963368</td>\n",
       "      <td>journal</td>\n",
       "      <td>journal</td>\n",
       "    </tr>\n",
       "    <tr>\n",
       "      <th>124649</th>\n",
       "      <td>2964-0598</td>\n",
       "      <td>[\"2963-0150\"]</td>\n",
       "      <td>[\"2964-0598\"]</td>\n",
       "      <td>2963-0150</td>\n",
       "      <td>Medical Journal of Nusantara</td>\n",
       "      <td>Medical Journal of Nusantara (Online)</td>\n",
       "      <td>2024-03-30 20:23:04.615623</td>\n",
       "      <td>4390963369</td>\n",
       "      <td>journal</td>\n",
       "      <td>journal</td>\n",
       "    </tr>\n",
       "    <tr>\n",
       "      <th>124301</th>\n",
       "      <td>2963-0150</td>\n",
       "      <td>[\"2963-0150\", \"2964-0598\"]</td>\n",
       "      <td>[\"2963-0150\"]</td>\n",
       "      <td>2963-0150</td>\n",
       "      <td>Medical Journal of Nusantara</td>\n",
       "      <td>Medical Journal of Nusantara</td>\n",
       "      <td>2024-03-30 20:23:04.615623</td>\n",
       "      <td>4390963369</td>\n",
       "      <td>journal</td>\n",
       "      <td>journal</td>\n",
       "    </tr>\n",
       "  </tbody>\n",
       "</table>\n",
       "<p>2313 rows × 10 columns</p>\n",
       "</div>"
      ],
      "text/plain": [
       "            issnl                                          old_issns   \n",
       "11343   0178-4919            [\"0022-3476\", \"1085-8695\", \"1097-6833\"]  \\\n",
       "3333    0022-3476  [\"1085-8695\", \"0178-4919\", \"0022-3476\", \"1097-...   \n",
       "17365   0375-9865                         [\"0038-092X\", \"1471-1257\"]   \n",
       "5660    0038-092X            [\"0375-9865\", \"1471-1257\", \"0038-092X\"]   \n",
       "31853   1166-8253                         [\"0761-8425\", \"1776-2588\"]   \n",
       "...           ...                                                ...   \n",
       "126486  2988-7062                                      [\"2252-3642\"]   \n",
       "127481  3031-0636                                      [\"3026-2550\"]   \n",
       "127318  3026-2550                         [\"3031-0636\", \"3026-2550\"]   \n",
       "124649  2964-0598                                      [\"2963-0150\"]   \n",
       "124301  2963-0150                         [\"2963-0150\", \"2964-0598\"]   \n",
       "\n",
       "                                      new_issns  old_issnl   \n",
       "11343                             [\"0178-4919\"]  0022-3476  \\\n",
       "3333    [\"0022-3476\", \"1085-8695\", \"1097-6833\"]  0022-3476   \n",
       "17365                             [\"0375-9865\"]  0038-092X   \n",
       "5660                 [\"0038-092X\", \"1471-1257\"]  0038-092X   \n",
       "31853                             [\"1166-8253\"]  0761-8425   \n",
       "...                                         ...        ...   \n",
       "126486                            [\"2988-7062\"]  2252-3642   \n",
       "127481                            [\"3031-0636\"]  3026-2550   \n",
       "127318                            [\"3026-2550\"]  3031-0636   \n",
       "124649                            [\"2964-0598\"]  2963-0150   \n",
       "124301                            [\"2963-0150\"]  2963-0150   \n",
       "\n",
       "                               old_display_name   \n",
       "11343               The Journal of pediatrics  \\\n",
       "3333                  The Journal of Pediatrics   \n",
       "17365                      Solar energy (Print)   \n",
       "5660                               Solar Energy   \n",
       "31853          Revue des maladies respiratoires   \n",
       "...                                         ...   \n",
       "126486                    Jurnal Health Society   \n",
       "127481                  Jurnal Konatif (Online)   \n",
       "127318  Jurnal Konatif Jurnal Ilmiah Pendidikan   \n",
       "124649             Medical Journal of Nusantara   \n",
       "124301             Medical Journal of Nusantara   \n",
       "\n",
       "                                       new_display_name   \n",
       "11343      Zeitschrift für Kinderheilkunde. Originalien  \\\n",
       "3333                        The Journal of pediatrics   \n",
       "17365   Journal of Solar Energy Science and Engineering   \n",
       "5660                               Solar energy (Print)   \n",
       "31853      Revue des maladies respiratoires. Supplément   \n",
       "...                                                 ...   \n",
       "126486                   Jurnal Health Society (online)   \n",
       "127481                                   Jurnal Konatif   \n",
       "127318                          Jurnal Konatif (Online)   \n",
       "124649            Medical Journal of Nusantara (Online)   \n",
       "124301                     Medical Journal of Nusantara   \n",
       "\n",
       "                     updated_date   source_id old_type new_type  \n",
       "11343  2024-03-30 20:23:04.615623     3774022  journal  journal  \n",
       "3333   2024-03-30 20:23:04.615623     3774022  journal  journal  \n",
       "17365  2024-03-30 20:23:04.615623     5745031  journal  journal  \n",
       "5660   2024-03-30 20:23:04.615623     5745031  journal  journal  \n",
       "31853  2024-03-30 20:23:04.615623     6672359  journal  journal  \n",
       "...                           ...         ...      ...      ...  \n",
       "126486 2024-03-30 20:23:04.615623  4390963349  journal  journal  \n",
       "127481 2024-03-30 20:23:04.615623  4390963368  journal  journal  \n",
       "127318 2024-03-30 20:23:04.615623  4390963368  journal  journal  \n",
       "124649 2024-03-30 20:23:04.615623  4390963369  journal  journal  \n",
       "124301 2024-03-30 20:23:04.615623  4390963369  journal  journal  \n",
       "\n",
       "[2313 rows x 10 columns]"
      ]
     },
     "execution_count": 31,
     "metadata": {},
     "output_type": "execute_result"
    }
   ],
   "source": [
    "dupsource.sort_index().sort_values('source_id')"
   ]
  },
  {
   "cell_type": "code",
   "execution_count": 43,
   "metadata": {},
   "outputs": [
    {
     "data": {
      "text/plain": [
       "source_id\n",
       "3774022       2\n",
       "4387288362    2\n",
       "4387288364    2\n",
       "4387288500    2\n",
       "4387288516    2\n",
       "             ..\n",
       "119771102     3\n",
       "193215455     3\n",
       "148074306     3\n",
       "4210191320    4\n",
       "4210222880    5\n",
       "Length: 1150, dtype: int64"
      ]
     },
     "execution_count": 43,
     "metadata": {},
     "output_type": "execute_result"
    }
   ],
   "source": [
    "counts = dupsource.groupby('source_id').size().sort_values()\n",
    "counts"
   ]
  },
  {
   "cell_type": "code",
   "execution_count": 47,
   "metadata": {},
   "outputs": [
    {
     "data": {
      "text/html": [
       "<div>\n",
       "<style scoped>\n",
       "    .dataframe tbody tr th:only-of-type {\n",
       "        vertical-align: middle;\n",
       "    }\n",
       "\n",
       "    .dataframe tbody tr th {\n",
       "        vertical-align: top;\n",
       "    }\n",
       "\n",
       "    .dataframe thead th {\n",
       "        text-align: right;\n",
       "    }\n",
       "</style>\n",
       "<table border=\"1\" class=\"dataframe\">\n",
       "  <thead>\n",
       "    <tr style=\"text-align: right;\">\n",
       "      <th></th>\n",
       "      <th>issnl</th>\n",
       "      <th>old_issns</th>\n",
       "      <th>new_issns</th>\n",
       "      <th>old_issnl</th>\n",
       "      <th>old_display_name</th>\n",
       "      <th>new_display_name</th>\n",
       "      <th>updated_date</th>\n",
       "      <th>source_id</th>\n",
       "      <th>old_type</th>\n",
       "      <th>new_type</th>\n",
       "    </tr>\n",
       "  </thead>\n",
       "  <tbody>\n",
       "    <tr>\n",
       "      <th>26212</th>\n",
       "      <td>0999-9809</td>\n",
       "      <td>[\"2606-6645\",\"2649-7611\",\"0999-9809\",\"2649-7395\"]</td>\n",
       "      <td>[\"0999-9809\"]</td>\n",
       "      <td>0999-9809</td>\n",
       "      <td>Journal de médecine légale, droit médical, vic...</td>\n",
       "      <td>Journal de médecine légale, droit médical, vic...</td>\n",
       "      <td>2024-03-30 20:23:04.615623</td>\n",
       "      <td>4210191320</td>\n",
       "      <td>journal</td>\n",
       "      <td>journal</td>\n",
       "    </tr>\n",
       "    <tr>\n",
       "      <th>99816</th>\n",
       "      <td>2606-6645</td>\n",
       "      <td>[\"0999-9809\"]</td>\n",
       "      <td>[\"2606-6645\"]</td>\n",
       "      <td>0999-9809</td>\n",
       "      <td>Journal de médecine légale, droit médical, vic...</td>\n",
       "      <td>Droit, santé et société</td>\n",
       "      <td>2024-03-30 20:23:04.615623</td>\n",
       "      <td>4210191320</td>\n",
       "      <td>journal</td>\n",
       "      <td>journal</td>\n",
       "    </tr>\n",
       "    <tr>\n",
       "      <th>104090</th>\n",
       "      <td>2649-7395</td>\n",
       "      <td>[\"2606-6645\"]</td>\n",
       "      <td>[\"2649-7395\"]</td>\n",
       "      <td>2606-6645</td>\n",
       "      <td>Droit, santé et société</td>\n",
       "      <td>Conflits, catastrophes, situations humanitaires</td>\n",
       "      <td>2024-03-30 20:23:04.615623</td>\n",
       "      <td>4210191320</td>\n",
       "      <td>journal</td>\n",
       "      <td>journal</td>\n",
       "    </tr>\n",
       "    <tr>\n",
       "      <th>104091</th>\n",
       "      <td>2649-7611</td>\n",
       "      <td>[\"2649-7395\"]</td>\n",
       "      <td>[\"2649-7611\"]</td>\n",
       "      <td>2649-7395</td>\n",
       "      <td>Conflits, catastrophes, situations humanitaires</td>\n",
       "      <td>Criminalistique</td>\n",
       "      <td>2024-03-30 20:23:04.615623</td>\n",
       "      <td>4210191320</td>\n",
       "      <td>journal</td>\n",
       "      <td>journal</td>\n",
       "    </tr>\n",
       "  </tbody>\n",
       "</table>\n",
       "</div>"
      ],
      "text/plain": [
       "            issnl                                          old_issns   \n",
       "26212   0999-9809  [\"2606-6645\",\"2649-7611\",\"0999-9809\",\"2649-7395\"]  \\\n",
       "99816   2606-6645                                      [\"0999-9809\"]   \n",
       "104090  2649-7395                                      [\"2606-6645\"]   \n",
       "104091  2649-7611                                      [\"2649-7395\"]   \n",
       "\n",
       "            new_issns  old_issnl   \n",
       "26212   [\"0999-9809\"]  0999-9809  \\\n",
       "99816   [\"2606-6645\"]  0999-9809   \n",
       "104090  [\"2649-7395\"]  2606-6645   \n",
       "104091  [\"2649-7611\"]  2649-7395   \n",
       "\n",
       "                                         old_display_name   \n",
       "26212   Journal de médecine légale, droit médical, vic...  \\\n",
       "99816   Journal de médecine légale, droit médical, vic...   \n",
       "104090                            Droit, santé et société   \n",
       "104091    Conflits, catastrophes, situations humanitaires   \n",
       "\n",
       "                                         new_display_name   \n",
       "26212   Journal de médecine légale, droit médical, vic...  \\\n",
       "99816                             Droit, santé et société   \n",
       "104090    Conflits, catastrophes, situations humanitaires   \n",
       "104091                                    Criminalistique   \n",
       "\n",
       "                     updated_date   source_id old_type new_type  \n",
       "26212  2024-03-30 20:23:04.615623  4210191320  journal  journal  \n",
       "99816  2024-03-30 20:23:04.615623  4210191320  journal  journal  \n",
       "104090 2024-03-30 20:23:04.615623  4210191320  journal  journal  \n",
       "104091 2024-03-30 20:23:04.615623  4210191320  journal  journal  "
      ]
     },
     "execution_count": 47,
     "metadata": {},
     "output_type": "execute_result"
    }
   ],
   "source": [
    "dupsource[dupsource['source_id']==4210191320]"
   ]
  },
  {
   "cell_type": "code",
   "execution_count": 56,
   "metadata": {},
   "outputs": [
    {
     "name": "stderr",
     "output_type": "stream",
     "text": [
      "100%|██████████| 1150/1150 [02:21<00:00,  8.11it/s]\n"
     ]
    }
   ],
   "source": [
    "try:\n",
    "    for source_id, gbdf in tqdm(dupsource.groupby('source_id'), total=dupsource['source_id'].nunique()):\n",
    "        updated_date = datetime.now(timezone.utc).isoformat()\n",
    "\n",
    "        # revert_row = gbdf.sort_index().iloc[0]\n",
    "\n",
    "        source_snapshot = sources[source_id]\n",
    "        source = get_source_from_db_by_source_id(source_id, db.session)\n",
    "        if source is None:\n",
    "            raise KeyError(f\"issnl {issnl} not found in db\")\n",
    "        old_issnl = source.issn\n",
    "        old_display_name = source.display_name\n",
    "        old_issns = source.issns\n",
    "        new_issnl = source_snapshot['issn_l']\n",
    "        new_issns = source_snapshot['issn']\n",
    "        new_display_name = source_snapshot['display_name']\n",
    "\n",
    "        # make updates\n",
    "        source.display_name = new_display_name\n",
    "        source.issn = new_issnl\n",
    "        source.issns = json.dumps(new_issns)\n",
    "        source.issns_text_array = new_issns\n",
    "        source.updated_date = updated_date\n",
    "        db.session.add(source)\n",
    "\n",
    "        # insert into log table\n",
    "        sq = \"\"\"INSERT INTO issn_audit_20240321.update1_postmortem_revert_dups\n",
    "            (source_id, old_issnl, new_issnl, old_issns, new_issns, old_display_name, new_display_name, updated_date)\n",
    "            VALUES(:source_id, :old_issnl, :new_issnl, :old_issns, :new_issns, :old_display_name, :new_display_name, :updated_date);\n",
    "            \"\"\"\n",
    "        db.session.execute(text(sq), {\n",
    "            'source_id': source_id,\n",
    "            'old_issnl': old_issnl,\n",
    "            'new_issnl': new_issnl,\n",
    "            'old_issns': old_issns,\n",
    "            'new_issns': json.dumps(new_issns),\n",
    "            'old_display_name': old_display_name,\n",
    "            'new_display_name': new_display_name,\n",
    "            'updated_date': updated_date,\n",
    "        }) \n",
    "\n",
    "        # commit for each source_id\n",
    "        db.session.commit()\n",
    "finally:\n",
    "    db.session.close()"
   ]
  },
  {
   "cell_type": "code",
   "execution_count": null,
   "metadata": {},
   "outputs": [],
   "source": []
  },
  {
   "cell_type": "code",
   "execution_count": null,
   "metadata": {},
   "outputs": [],
   "source": []
  },
  {
   "cell_type": "code",
   "execution_count": 74,
   "metadata": {},
   "outputs": [
    {
     "name": "stdout",
     "output_type": "stream",
     "text": [
      "CPU times: user 444 ms, sys: 163 ms, total: 607 ms\n",
      "Wall time: 2.37 s\n"
     ]
    }
   ],
   "source": [
    "%%time\n",
    "sq = \"\"\"select * from issn_audit_20240321.issn_ic_datafile_202402\"\"\"\n",
    "df_datafile = pd.read_sql_query(sq, db.engine)"
   ]
  },
  {
   "cell_type": "code",
   "execution_count": 75,
   "metadata": {},
   "outputs": [
    {
     "data": {
      "text/plain": [
       "21053"
      ]
     },
     "execution_count": 75,
     "metadata": {},
     "output_type": "execute_result"
    }
   ],
   "source": [
    "df_unresolved = df_datafile[df_datafile['resolved']==False]\n",
    "len(df_unresolved)"
   ]
  },
  {
   "cell_type": "markdown",
   "metadata": {},
   "source": [
    "categories of unresolved:\n",
    "\n",
    "1. ISSN-L gives multiple sources in OpenAlex (`issn_audit_20240321.update1_issnl_multfound`)\n",
    "2. ISSN-L gives no sources in OpenAlex (`issn_audit_20240321.update1_issnl_notfound`)\n",
    "3. multiple ISSN-Ls give the same source in OpenAlex (`issn_audit_20240321.update1.reverted is true`)"
   ]
  },
  {
   "cell_type": "code",
   "execution_count": 76,
   "metadata": {},
   "outputs": [
    {
     "name": "stdout",
     "output_type": "stream",
     "text": [
      "CPU times: user 10.4 ms, sys: 9.9 ms, total: 20.3 ms\n",
      "Wall time: 761 ms\n"
     ]
    }
   ],
   "source": [
    "%%time\n",
    "sq1 = \"\"\"select issnl from issn_audit_20240321.update1_issnl_multfound\"\"\"\n",
    "df_cat1 = pd.read_sql_query(sq1, db.engine)\n",
    "sq2 = \"\"\"select issnl from issn_audit_20240321.update1_issnl_notfound\"\"\"\n",
    "df_cat2 = pd.read_sql_query(sq2, db.engine)\n",
    "sq3 = \"\"\"select issnl from issn_audit_20240321.update1 where reverted is true\"\"\"\n",
    "df_cat3 = pd.read_sql_query(sq3, db.engine)\n"
   ]
  },
  {
   "cell_type": "code",
   "execution_count": 77,
   "metadata": {},
   "outputs": [
    {
     "name": "stdout",
     "output_type": "stream",
     "text": [
      "0\n",
      "0\n",
      "0\n"
     ]
    }
   ],
   "source": [
    "print(df_cat1['issnl'].duplicated().sum())\n",
    "print(df_cat2['issnl'].duplicated().sum())\n",
    "print(df_cat3['issnl'].duplicated().sum())"
   ]
  },
  {
   "cell_type": "code",
   "execution_count": 78,
   "metadata": {},
   "outputs": [
    {
     "name": "stderr",
     "output_type": "stream",
     "text": [
      "/tmp/ipykernel_3307/735422804.py:1: SettingWithCopyWarning: \n",
      "A value is trying to be set on a copy of a slice from a DataFrame.\n",
      "Try using .loc[row_indexer,col_indexer] = value instead\n",
      "\n",
      "See the caveats in the documentation: https://pandas.pydata.org/pandas-docs/stable/user_guide/indexing.html#returning-a-view-versus-a-copy\n",
      "  df_unresolved['cat1'] = df_unresolved['issnl'].isin(df_cat1['issnl'].values)\n",
      "/tmp/ipykernel_3307/735422804.py:2: SettingWithCopyWarning: \n",
      "A value is trying to be set on a copy of a slice from a DataFrame.\n",
      "Try using .loc[row_indexer,col_indexer] = value instead\n",
      "\n",
      "See the caveats in the documentation: https://pandas.pydata.org/pandas-docs/stable/user_guide/indexing.html#returning-a-view-versus-a-copy\n",
      "  df_unresolved['cat2'] = df_unresolved['issnl'].isin(df_cat2['issnl'].values)\n",
      "/tmp/ipykernel_3307/735422804.py:3: SettingWithCopyWarning: \n",
      "A value is trying to be set on a copy of a slice from a DataFrame.\n",
      "Try using .loc[row_indexer,col_indexer] = value instead\n",
      "\n",
      "See the caveats in the documentation: https://pandas.pydata.org/pandas-docs/stable/user_guide/indexing.html#returning-a-view-versus-a-copy\n",
      "  df_unresolved['cat3'] = df_unresolved['issnl'].isin(df_cat3['issnl'].values)\n"
     ]
    }
   ],
   "source": [
    "df_unresolved['cat1'] = df_unresolved['issnl'].isin(df_cat1['issnl'].values)\n",
    "df_unresolved['cat2'] = df_unresolved['issnl'].isin(df_cat2['issnl'].values)\n",
    "df_unresolved['cat3'] = df_unresolved['issnl'].isin(df_cat3['issnl'].values)"
   ]
  },
  {
   "cell_type": "code",
   "execution_count": 79,
   "metadata": {},
   "outputs": [
    {
     "name": "stderr",
     "output_type": "stream",
     "text": [
      "/tmp/ipykernel_3307/2123701752.py:1: SettingWithCopyWarning: \n",
      "A value is trying to be set on a copy of a slice from a DataFrame.\n",
      "Try using .loc[row_indexer,col_indexer] = value instead\n",
      "\n",
      "See the caveats in the documentation: https://pandas.pydata.org/pandas-docs/stable/user_guide/indexing.html#returning-a-view-versus-a-copy\n",
      "  df_unresolved['num_cats'] = df_unresolved.apply(lambda x: sum([x['cat1'], x['cat2'], x['cat3']]), axis=1)\n"
     ]
    }
   ],
   "source": [
    "df_unresolved['num_cats'] = df_unresolved.apply(lambda x: sum([x['cat1'], x['cat2'], x['cat3']]), axis=1)"
   ]
  },
  {
   "cell_type": "code",
   "execution_count": 80,
   "metadata": {},
   "outputs": [
    {
     "data": {
      "text/plain": [
       "num_cats\n",
       "1    19914\n",
       "0     1139\n",
       "Name: count, dtype: int64"
      ]
     },
     "execution_count": 80,
     "metadata": {},
     "output_type": "execute_result"
    }
   ],
   "source": [
    "df_unresolved['num_cats'].value_counts()"
   ]
  },
  {
   "cell_type": "code",
   "execution_count": 81,
   "metadata": {},
   "outputs": [
    {
     "name": "stdout",
     "output_type": "stream",
     "text": [
      "7707\n",
      "9666\n",
      "2541\n"
     ]
    }
   ],
   "source": [
    "for c in ['cat1', 'cat2', 'cat3']:\n",
    "    print(sum(df_unresolved[c]))"
   ]
  }
 ],
 "metadata": {
  "kernelspec": {
   "display_name": "venv",
   "language": "python",
   "name": "python3"
  },
  "language_info": {
   "codemirror_mode": {
    "name": "ipython",
    "version": 3
   },
   "file_extension": ".py",
   "mimetype": "text/x-python",
   "name": "python",
   "nbconvert_exporter": "python",
   "pygments_lexer": "ipython3",
   "version": "3.9.16"
  }
 },
 "nbformat": 4,
 "nbformat_minor": 2
}
