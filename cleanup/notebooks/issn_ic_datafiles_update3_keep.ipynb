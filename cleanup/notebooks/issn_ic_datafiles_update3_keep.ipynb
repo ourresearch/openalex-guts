{
 "cells": [
  {
   "cell_type": "markdown",
   "metadata": {},
   "source": [
    "# update3: similar to update1, but check for merge_into_id this time"
   ]
  },
  {
   "cell_type": "code",
   "execution_count": 1,
   "metadata": {},
   "outputs": [],
   "source": [
    "import sys"
   ]
  },
  {
   "cell_type": "code",
   "execution_count": 2,
   "metadata": {},
   "outputs": [],
   "source": [
    "sys.path.append('../..')"
   ]
  },
  {
   "cell_type": "code",
   "execution_count": 3,
   "metadata": {},
   "outputs": [],
   "source": [
    "from datetime import datetime, timezone\n",
    "import json\n",
    "from tqdm import tqdm\n",
    "from pathlib import Path\n",
    "import gzip"
   ]
  },
  {
   "cell_type": "code",
   "execution_count": 4,
   "metadata": {},
   "outputs": [],
   "source": [
    "import pandas as pd\n",
    "import numpy as np"
   ]
  },
  {
   "cell_type": "code",
   "execution_count": 5,
   "metadata": {},
   "outputs": [
    {
     "name": "stdout",
     "output_type": "stream",
     "text": [
      "140357365961088: loading merged_into_institutions_dict\n",
      "140357365961088: loading valid concept IDs\n",
      "140357365961088: loading valid topic IDs\n"
     ]
    }
   ],
   "source": [
    "from app import db\n",
    "from models import Source, ISSNtoISSNL\n",
    "from sqlalchemy import text\n",
    "from sqlalchemy.orm import Load\n",
    "from sqlalchemy.exc import MultipleResultsFound"
   ]
  },
  {
   "cell_type": "code",
   "execution_count": 6,
   "metadata": {},
   "outputs": [],
   "source": [
    "def get_source_from_db(issn, session) -> Source:\n",
    "    source = session.query(Source).options(Load(Source).lazyload('*')).filter_by(issn=issn).filter_by(merge_into_id=None).one_or_none()\n",
    "    if source is None:\n",
    "        source = session.query(Source).options(Load(Source).lazyload('*')).filter(Source.issns.contains(issn)).filter_by(merge_into_id=None).one_or_none()\n",
    "    return source\n"
   ]
  },
  {
   "cell_type": "code",
   "execution_count": 7,
   "metadata": {},
   "outputs": [
    {
     "data": {
      "text/plain": [
       "213489"
      ]
     },
     "execution_count": 7,
     "metadata": {},
     "output_type": "execute_result"
    }
   ],
   "source": [
    "sq = \"\"\"select issn, issnl from mid.journal_issn_to_issnl\"\"\"\n",
    "issn_to_issnl = pd.read_sql_query(sq, db.engine)\n",
    "# issn_to_issnl = issn_to_issnl.set_index('issn', verify_integrity=True)['issnl']\n",
    "len(issn_to_issnl)"
   ]
  },
  {
   "cell_type": "code",
   "execution_count": 8,
   "metadata": {},
   "outputs": [
    {
     "data": {
      "text/plain": [
       "141006"
      ]
     },
     "execution_count": 8,
     "metadata": {},
     "output_type": "execute_result"
    }
   ],
   "source": [
    "# get dict of issnl to issn\n",
    "x = issn_to_issnl.dropna(subset=['issnl'])\n",
    "# x = x[x['category'].isin(['Register', 'Work', 'Free', 'Validation Request'])]\n",
    "x = x[['issn', 'issnl']]\n",
    "issnl_to_issn = {}\n",
    "ignore = [\n",
    "    '0000-0000',\n",
    "]\n",
    "x = x[~(x['issnl'].isin(ignore))]\n",
    "for name, gbdf in x.groupby('issnl'):\n",
    "    if name in ignore:\n",
    "        continue\n",
    "    issnl_to_issn[name] = gbdf['issn'].tolist()\n",
    "len(issnl_to_issn)"
   ]
  },
  {
   "cell_type": "code",
   "execution_count": 9,
   "metadata": {},
   "outputs": [
    {
     "name": "stdout",
     "output_type": "stream",
     "text": [
      "CPU times: user 3.82 ms, sys: 873 µs, total: 4.7 ms\n",
      "Wall time: 133 ms\n"
     ]
    }
   ],
   "source": [
    "%%time\n",
    "sq = \"\"\"select issnl from issn_audit_20240321.update1_issnl_multfound\"\"\"\n",
    "multfound = pd.read_sql_query(sq, db.engine)"
   ]
  },
  {
   "cell_type": "code",
   "execution_count": null,
   "metadata": {},
   "outputs": [],
   "source": []
  },
  {
   "cell_type": "code",
   "execution_count": 10,
   "metadata": {},
   "outputs": [
    {
     "name": "stdout",
     "output_type": "stream",
     "text": [
      "CPU times: user 8.64 s, sys: 85.3 ms, total: 8.72 s\n",
      "Wall time: 9.17 s\n"
     ]
    }
   ],
   "source": [
    "%%time\n",
    "# get one title per issnl\n",
    "df_issn_ic = pd.read_sql_query(\"\"\"select issn, issnl, title from issn_audit_20240321.issn_ic_datafile_202402\"\"\", db.engine)\n",
    "issnl_display_name = {}\n",
    "lookup = df_issn_ic.set_index('issn')['title']\n",
    "for issnl in issnl_to_issn:\n",
    "    try:\n",
    "        issnl_display_name[issnl] = lookup.loc[issnl]\n",
    "    except KeyError:\n",
    "        issnl_display_name[issnl] = df_issn_ic[df_issn_ic['issnl']==issnl].iloc[0]['title']"
   ]
  },
  {
   "cell_type": "code",
   "execution_count": 11,
   "metadata": {},
   "outputs": [],
   "source": [
    "def update_source(issnl, issn_list, title, updated_date=None, session=None):\n",
    "    if session is None:\n",
    "        session = db.session\n",
    "    if updated_date is None:\n",
    "        updated_date = datetime.now(timezone.utc).isoformat()\n",
    "    source = get_source_from_db(issnl, session)\n",
    "    if source is None:\n",
    "        raise KeyError(f\"issnl {issnl} not found in db\")\n",
    "    old_issnl = source.issn\n",
    "    old_display_name = source.display_name\n",
    "    old_issns = source.issns\n",
    "\n",
    "    # make updates\n",
    "    if title:\n",
    "        source.display_name = title\n",
    "    source.issn = issnl\n",
    "    source.issns = json.dumps(issn_list)\n",
    "    source.issns_text_array = issn_list\n",
    "    # source.type = source_type\n",
    "    source.updated_date = updated_date\n",
    "    session.add(source)\n",
    "\n",
    "    # insert into log table\n",
    "    sq = \"\"\"INSERT INTO issn_audit_20240321.update3\n",
    "        (issnl, old_issns, new_issns, old_issnl, old_display_name, new_display_name, updated_date, source_id)\n",
    "        VALUES(:issnl, :old_issns, :new_issns, :old_issnl, :old_display_name, :new_display_name, :updated_date, :source_id);\n",
    "        \"\"\"\n",
    "    session.execute(text(sq), {\n",
    "        'issnl': issnl,\n",
    "        'old_issns': old_issns,\n",
    "        'new_issns': json.dumps(issn_list),\n",
    "        'old_issnl': old_issnl,\n",
    "        'old_display_name': old_display_name,\n",
    "        'new_display_name': title if title else old_display_name,\n",
    "        'updated_date': updated_date,\n",
    "        'source_id': source.id,\n",
    "    }) "
   ]
  },
  {
   "cell_type": "code",
   "execution_count": 12,
   "metadata": {},
   "outputs": [
    {
     "name": "stderr",
     "output_type": "stream",
     "text": [
      "  0%|          | 0/4528 [00:00<?, ?it/s]"
     ]
    },
    {
     "name": "stderr",
     "output_type": "stream",
     "text": [
      "100%|██████████| 4528/4528 [02:10<00:00, 34.57it/s]\n"
     ]
    }
   ],
   "source": [
    "try:\n",
    "    # for issnl, issn_list in issnl_to_issn.items():\n",
    "    # for issnl, issn_list in tqdm(issnl_to_issn.items(), total=len(issnl_to_issn)):\n",
    "    for issnl in tqdm(multfound['issnl'].values, total=len(multfound)):\n",
    "        now = datetime.now(timezone.utc).isoformat()\n",
    "        issn_list = issnl_to_issn[issnl]\n",
    "        title = issnl_display_name[issnl]\n",
    "        try:\n",
    "            if issnl not in issn_list:\n",
    "                issn_list.append(issnl)\n",
    "            # move issnl to the front\n",
    "            issn_list.insert(0, issn_list.pop(issn_list.index(issnl)))\n",
    "            update_source(issnl, issn_list, title, updated_date=now, session=db.session)\n",
    "            for issn in issn_list:\n",
    "                sq = \"\"\"update issn_audit_20240321.issn_ic_datafile_202402 set resolved = true\n",
    "                    where issn = :issn\n",
    "                    \"\"\"\n",
    "                db.session.execute(text(sq), {\n",
    "                    'issn': issn,\n",
    "                })\n",
    "        except KeyError:\n",
    "            continue\n",
    "        except MultipleResultsFound:\n",
    "            continue\n",
    "\n",
    "    db.session.commit()\n",
    "finally:\n",
    "    db.session.close()"
   ]
  },
  {
   "cell_type": "code",
   "execution_count": null,
   "metadata": {},
   "outputs": [],
   "source": []
  }
 ],
 "metadata": {
  "kernelspec": {
   "display_name": "venv",
   "language": "python",
   "name": "python3"
  },
  "language_info": {
   "codemirror_mode": {
    "name": "ipython",
    "version": 3
   },
   "file_extension": ".py",
   "mimetype": "text/x-python",
   "name": "python",
   "nbconvert_exporter": "python",
   "pygments_lexer": "ipython3",
   "version": "3.9.16"
  }
 },
 "nbformat": 4,
 "nbformat_minor": 2
}
